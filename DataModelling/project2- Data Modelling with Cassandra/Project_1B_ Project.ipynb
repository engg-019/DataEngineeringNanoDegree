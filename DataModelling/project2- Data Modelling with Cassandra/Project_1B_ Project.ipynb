{
 "cells": [
  {
   "cell_type": "markdown",
   "metadata": {
    "editable": true
   },
   "source": [
    "# Part I. ETL Pipeline for Pre-Processing the Files"
   ]
  },
  {
   "cell_type": "markdown",
   "metadata": {
    "editable": true
   },
   "source": [
    "## PLEASE RUN THE FOLLOWING CODE FOR PRE-PROCESSING THE FILES"
   ]
  },
  {
   "cell_type": "markdown",
   "metadata": {
    "editable": true
   },
   "source": [
    "#### Import Python packages "
   ]
  },
  {
   "cell_type": "code",
   "execution_count": 1,
   "metadata": {
    "editable": true
   },
   "outputs": [],
   "source": [
    "# Import Python packages \n",
    "import pandas as pd\n",
    "import cassandra\n",
    "import re\n",
    "import os\n",
    "import glob\n",
    "import numpy as np\n",
    "import json\n",
    "import csv"
   ]
  },
  {
   "cell_type": "markdown",
   "metadata": {
    "editable": true
   },
   "source": [
    "#### To align table in markdown to left"
   ]
  },
  {
   "cell_type": "code",
   "execution_count": 2,
   "metadata": {
    "editable": true
   },
   "outputs": [
    {
     "data": {
      "text/html": [
       "<style>\n",
       "  table {margin-left: 0 !important;}\n",
       "</style>"
      ],
      "text/plain": [
       "<IPython.core.display.HTML object>"
      ]
     },
     "metadata": {},
     "output_type": "display_data"
    }
   ],
   "source": [
    "%%html\n",
    "<style>\n",
    "  table {margin-left: 0 !important;}\n",
    "</style>"
   ]
  },
  {
   "cell_type": "markdown",
   "metadata": {
    "editable": true
   },
   "source": [
    "#### Creating list of filepaths to process original event csv data files"
   ]
  },
  {
   "cell_type": "code",
   "execution_count": 3,
   "metadata": {
    "editable": true
   },
   "outputs": [
    {
     "name": "stdout",
     "output_type": "stream",
     "text": [
      "/home/workspace\n"
     ]
    }
   ],
   "source": [
    "# checking your current working directory\n",
    "print(os.getcwd())\n",
    "\n",
    "# Get your current folder and subfolder event data\n",
    "filepath = os.getcwd() + '/event_data'\n",
    "\n",
    "# Create a for loop to create a list of files and collect each filepath\n",
    "for root, dirs, files in os.walk(filepath):\n",
    "    \n",
    "# join the file path and roots with the subdirectories using glob\n",
    "    file_path_list = glob.glob(os.path.join(root,'*'))\n",
    "    #print(file_path_list)"
   ]
  },
  {
   "cell_type": "markdown",
   "metadata": {
    "editable": true
   },
   "source": [
    "#### Processing the files to create the data file csv that will be used for Apache Casssandra tables"
   ]
  },
  {
   "cell_type": "code",
   "execution_count": 5,
   "metadata": {
    "editable": true
   },
   "outputs": [],
   "source": [
    "# initiating an empty list of rows that will be generated from each file\n",
    "full_data_rows_list = [] \n",
    "    \n",
    "# for every filepath in the file path list \n",
    "for f in file_path_list:\n",
    "\n",
    "# reading csv file \n",
    "    with open(f, 'r', encoding = 'utf8', newline='') as csvfile: \n",
    "        # creating a csv reader object \n",
    "        csvreader = csv.reader(csvfile) \n",
    "        next(csvreader)\n",
    "        \n",
    " # extracting each data row one by one and append it        \n",
    "        for line in csvreader:\n",
    "            #print(line)\n",
    "            full_data_rows_list.append(line) \n",
    "            \n",
    "# uncomment the code below if you would like to get total number of rows \n",
    "#print(len(full_data_rows_list))\n",
    "# uncomment the code below if you would like to check to see what the list of event data rows will look like\n",
    "#print(full_data_rows_list)\n",
    "\n",
    "# creating a smaller event data csv file called event_datafile_full csv that will be used to insert data into the \\\n",
    "# Apache Cassandra tables\n",
    "csv.register_dialect('myDialect', quoting=csv.QUOTE_ALL, skipinitialspace=True)\n",
    "\n",
    "with open('event_datafile_new.csv', 'w', encoding = 'utf8', newline='') as f:\n",
    "    writer = csv.writer(f, dialect='myDialect')\n",
    "    writer.writerow(['artist','firstName','gender','itemInSession','lastName','length',\\\n",
    "                'level','location','sessionId','song','userId'])\n",
    "    for row in full_data_rows_list:\n",
    "        if (row[0] == ''):\n",
    "            continue\n",
    "        writer.writerow((row[0], row[2], row[3], row[4], row[5], row[6], row[7], row[8], row[12], row[13], row[16]))\n"
   ]
  },
  {
   "cell_type": "code",
   "execution_count": 6,
   "metadata": {
    "editable": true
   },
   "outputs": [
    {
     "name": "stdout",
     "output_type": "stream",
     "text": [
      "6821\n"
     ]
    }
   ],
   "source": [
    "# check the number of rows in your csv file\n",
    "with open('event_datafile_new.csv', 'r', encoding = 'utf8') as f:\n",
    "    print(sum(1 for line in f))"
   ]
  },
  {
   "cell_type": "markdown",
   "metadata": {
    "editable": true
   },
   "source": [
    "# Part II. Complete the Apache Cassandra coding portion of your project. \n",
    "\n",
    "## Now you are ready to work with the CSV file titled <font color=red>event_datafile_new.csv</font>, located within the Workspace directory.  The event_datafile_new.csv contains the following columns: \n",
    "- artist \n",
    "- firstName of user\n",
    "- gender of user\n",
    "- item number in session\n",
    "- last name of user\n",
    "- length of the song\n",
    "- level (paid or free song)\n",
    "- location of the user\n",
    "- sessionId\n",
    "- song title\n",
    "- userId\n",
    "\n",
    "The image below is a screenshot of what the denormalized data should appear like in the <font color=red>**event_datafile_new.csv**</font> after the code above is run:<br>\n",
    "\n",
    "<img src=\"images/image_event_datafile_new.jpg\">"
   ]
  },
  {
   "cell_type": "markdown",
   "metadata": {
    "editable": true
   },
   "source": [
    "## Begin writing your Apache Cassandra code in the cells below"
   ]
  },
  {
   "cell_type": "markdown",
   "metadata": {
    "editable": true
   },
   "source": [
    "#### Creating a Cluster"
   ]
  },
  {
   "cell_type": "code",
   "execution_count": 7,
   "metadata": {
    "editable": true
   },
   "outputs": [],
   "source": [
    "# Importing Cluster from cassandara.cluster module to connect to cassandra database\n",
    "from cassandra.cluster import Cluster\n",
    "\n",
    "# setting the cluster to 127.0.0.1\n",
    "cluster = Cluster([\"127.0.0.1\"])\n",
    "\n",
    "# Establishing the connection for queries execution\n",
    "session = cluster.connect()"
   ]
  },
  {
   "cell_type": "markdown",
   "metadata": {
    "editable": true
   },
   "source": [
    "#### Create Keyspace"
   ]
  },
  {
   "cell_type": "code",
   "execution_count": 8,
   "metadata": {
    "editable": true
   },
   "outputs": [],
   "source": [
    "# Creating the Keyspace named sparkify \n",
    "try:\n",
    "    session.execute(\"\"\"\n",
    "                CREATE KEYSPACE IF NOT EXISTS sparkify\n",
    "                WITH REPLICATION =\n",
    "                {'class': 'SimpleStrategy', 'replication_factor':1}\n",
    "                \n",
    "\"\"\")\n",
    "except Error as e:\n",
    "    print(e)"
   ]
  },
  {
   "cell_type": "markdown",
   "metadata": {
    "editable": true
   },
   "source": [
    "#### Set Keyspace"
   ]
  },
  {
   "cell_type": "code",
   "execution_count": 9,
   "metadata": {
    "editable": true
   },
   "outputs": [],
   "source": [
    "# Set KEYSPACE to sparkify\n",
    "try:\n",
    "    session.set_keyspace('sparkify')\n",
    "except Error as e:\n",
    "    print(e)"
   ]
  },
  {
   "cell_type": "markdown",
   "metadata": {
    "editable": true
   },
   "source": [
    "### Now we need to create tables to run the following queries. Remember, with Apache Cassandra you model the database tables on the queries you want to run."
   ]
  },
  {
   "cell_type": "markdown",
   "metadata": {
    "editable": true
   },
   "source": [
    "## Create queries to ask the following three questions of the data\n",
    "\n",
    "### 1. Give me the artist, song title and song's length in the music app history that was heard during  sessionId = 338, and itemInSession  = 4\n",
    "\n",
    "\n",
    "### 2. Give me only the following: name of artist, song (sorted by itemInSession) and user (first and last name) for userid = 10, sessionid = 182\n",
    "    \n",
    "\n",
    "### 3. Give me every user name (first and last) in my music app history who listened to the song 'All Hands Against His Own'\n",
    "\n",
    "\n"
   ]
  },
  {
   "cell_type": "markdown",
   "metadata": {
    "editable": true
   },
   "source": [
    "### Query1:\n",
    "#### Give me the artist, song title and song's length in the music app history that was heard during sessionId = 338, and itemInSession = 4\n",
    "We need to model the following cql query to answer the above question:\n",
    "\n",
    "    SELECT artist, song_title, song_length \n",
    "    FROM songs_session\n",
    "    WERE sessionId = 338 AND itemInSession  = 4;\n",
    "\n",
    "The table will be named as `songs_session`with a partition key and a clustering column . The structure of the table is as follows:\n",
    "\n",
    "|Field|Type|Key|\n",
    "|-----|----|----|\n",
    "|session_id|INT|Partition|\n",
    "|item_in_session|INT|Clustering|\n",
    "|artist|TEXT||\n",
    "|song_title|TEXT||\n",
    "|song_length|TEXT||\n",
    "|(session_id,item_id_session)||PRIMARY|"
   ]
  },
  {
   "cell_type": "code",
   "execution_count": 10,
   "metadata": {
    "editable": true
   },
   "outputs": [],
   "source": [
    "# query for creating songs_session table with the structure defined above.\n",
    "query = \"\"\"\n",
    "        CREATE TABLE IF NOT EXISTS songs_session (\n",
    "            session_id INT,\n",
    "            item_in_session INT,\n",
    "            artist TEXT,\n",
    "            song_title TEXT,\n",
    "            song_length FLOAT,\n",
    "            PRIMARY KEY(session_id, item_in_session)\n",
    "        );\n",
    "\"\"\"\n",
    "try:\n",
    "    session.execute(query)\n",
    "except Error as e:\n",
    "    print(e)"
   ]
  },
  {
   "cell_type": "markdown",
   "metadata": {
    "editable": true
   },
   "source": [
    "#### Performing ETL"
   ]
  },
  {
   "cell_type": "code",
   "execution_count": 11,
   "metadata": {
    "editable": true
   },
   "outputs": [],
   "source": [
    "# The file from which the data is to be extracted\n",
    "file = 'event_datafile_new.csv'\n",
    "\n",
    "with open(file, encoding = 'utf8') as f:\n",
    "    csvreader = csv.reader(f)\n",
    "    next(csvreader) # skip header\n",
    "    for line in csvreader:\n",
    "        # query for inserting into songs_session table\n",
    "        query = \"INSERT INTO songs_session(session_id, item_in_session, artist, song_title, song_length) \"\n",
    "        query = query + \"VALUES(%s, %s, %s, %s, %s)\"\n",
    "        \n",
    "        # extracting the data from each line and inserting the data into songs_session table\n",
    "        session.execute(query, (int(line[8]), int(line[3]), line[0], line[9], float(line[5])))"
   ]
  },
  {
   "cell_type": "markdown",
   "metadata": {
    "editable": true
   },
   "source": [
    "#### Verifying the modelling and data insertion"
   ]
  },
  {
   "cell_type": "code",
   "execution_count": 12,
   "metadata": {
    "editable": true,
    "scrolled": true
   },
   "outputs": [
    {
     "data": {
      "text/html": [
       "<div>\n",
       "<style scoped>\n",
       "    .dataframe tbody tr th:only-of-type {\n",
       "        vertical-align: middle;\n",
       "    }\n",
       "\n",
       "    .dataframe tbody tr th {\n",
       "        vertical-align: top;\n",
       "    }\n",
       "\n",
       "    .dataframe thead th {\n",
       "        text-align: right;\n",
       "    }\n",
       "</style>\n",
       "<table border=\"1\" class=\"dataframe\">\n",
       "  <thead>\n",
       "    <tr style=\"text-align: right;\">\n",
       "      <th></th>\n",
       "      <th>artist</th>\n",
       "      <th>song_title</th>\n",
       "      <th>song_length</th>\n",
       "    </tr>\n",
       "  </thead>\n",
       "  <tbody>\n",
       "    <tr>\n",
       "      <th>0</th>\n",
       "      <td>Faithless</td>\n",
       "      <td>Music Matters (Mark Knight Dub)</td>\n",
       "      <td>495.307312</td>\n",
       "    </tr>\n",
       "  </tbody>\n",
       "</table>\n",
       "</div>"
      ],
      "text/plain": [
       "      artist                       song_title  song_length\n",
       "0  Faithless  Music Matters (Mark Knight Dub)   495.307312"
      ]
     },
     "execution_count": 12,
     "metadata": {},
     "output_type": "execute_result"
    }
   ],
   "source": [
    "# We'll execute the cql query to verify modelling and data insertion\n",
    "query = \"\"\"SELECT artist, song_title, song_length \n",
    "               FROM songs_session\n",
    "               WHERE session_id = 338 AND item_in_session  = 4;\n",
    "    \"\"\"\n",
    "try:\n",
    "    # Creating pandas dataframe to view the data easily\n",
    "    df = pd.DataFrame(list(session.execute(query)))\n",
    "except Error as e:\n",
    "    print(e)\n",
    "\n",
    "# printing the dataframe to view the resutls\n",
    "df"
   ]
  },
  {
   "cell_type": "markdown",
   "metadata": {
    "editable": true
   },
   "source": [
    "### Query 2: \n",
    "#### Give me only the following: name of artist, song (sorted by itemInSession) and user (first and last name) for userid = 10, sessionid = 182\n",
    "\n",
    "We need to model the following cql query to answer the above question:\n",
    "\n",
    "    SELECT artist, song_title, user \n",
    "    FROM songs_user\n",
    "    WHERE userId = 10 AND sessionId = 182;\n",
    "\n",
    "The table will be named as `songs_user` with a composite partition key and a clustering column. The structure of the table is as follows:\n",
    "\n",
    "|Field|Type|Key|\n",
    "|-----|----|----|\n",
    "|user_id|INT|Partition|\n",
    "|session_id|INT|Partition|\n",
    "|item_in_session|INT|Clustering|\n",
    "|artist|TEXT||\n",
    "|song_title|TEXT||\n",
    "|user|TEXT||\n",
    "|(user_id,session_id), item_id_session||PRIMARY|\n"
   ]
  },
  {
   "cell_type": "code",
   "execution_count": 16,
   "metadata": {
    "editable": true
   },
   "outputs": [],
   "source": [
    "# query for creating songs_user table with the structure defined above.\n",
    "query = \"\"\"\n",
    "        CREATE TABLE IF NOT EXISTS songs_user (\n",
    "            user_id INT,\n",
    "            session_id INT,\n",
    "            item_in_session INT,\n",
    "            artist TEXT,\n",
    "            song_title TEXT,\n",
    "            user TEXT,\n",
    "            PRIMARY KEY((user_id, session_id), item_in_session)\n",
    "        );\n",
    "\"\"\"\n",
    "try:\n",
    "    session.execute(query)\n",
    "except Error as e:\n",
    "    print(e)                    "
   ]
  },
  {
   "cell_type": "markdown",
   "metadata": {
    "editable": true
   },
   "source": [
    "#### Performing ETL"
   ]
  },
  {
   "cell_type": "code",
   "execution_count": 17,
   "metadata": {
    "editable": true
   },
   "outputs": [],
   "source": [
    "# The file from which the data is to be extracted\n",
    "file = 'event_datafile_new.csv'\n",
    "\n",
    "with open(file, encoding = 'utf8') as f:\n",
    "    csvreader = csv.reader(f)\n",
    "    next(csvreader) # skip header\n",
    "    for line in csvreader:\n",
    "        # query for inserting into songs_user table\n",
    "        query = \"INSERT INTO songs_user(user_id, session_id, item_in_session, artist, song_title, user) \"\n",
    "        query = query + \"VALUES(%s, %s, %s, %s, %s,%s)\"\n",
    "        \n",
    "        # extracting the data from each line and inserting the data into songs_user table\n",
    "        session.execute(query, (int(line[10]), int(line[8]), int(line[3]), line[0], line[9], (line[1] + ' ' + line[4])))"
   ]
  },
  {
   "cell_type": "markdown",
   "metadata": {
    "editable": true
   },
   "source": [
    "#### Verifying the modelling and data insertion"
   ]
  },
  {
   "cell_type": "code",
   "execution_count": 18,
   "metadata": {
    "editable": true
   },
   "outputs": [
    {
     "data": {
      "text/html": [
       "<div>\n",
       "<style scoped>\n",
       "    .dataframe tbody tr th:only-of-type {\n",
       "        vertical-align: middle;\n",
       "    }\n",
       "\n",
       "    .dataframe tbody tr th {\n",
       "        vertical-align: top;\n",
       "    }\n",
       "\n",
       "    .dataframe thead th {\n",
       "        text-align: right;\n",
       "    }\n",
       "</style>\n",
       "<table border=\"1\" class=\"dataframe\">\n",
       "  <thead>\n",
       "    <tr style=\"text-align: right;\">\n",
       "      <th></th>\n",
       "      <th>artist</th>\n",
       "      <th>song_title</th>\n",
       "      <th>user</th>\n",
       "    </tr>\n",
       "  </thead>\n",
       "  <tbody>\n",
       "    <tr>\n",
       "      <th>0</th>\n",
       "      <td>Down To The Bone</td>\n",
       "      <td>Keep On Keepin' On</td>\n",
       "      <td>Sylvie Cruz</td>\n",
       "    </tr>\n",
       "    <tr>\n",
       "      <th>1</th>\n",
       "      <td>Three Drives</td>\n",
       "      <td>Greece 2000</td>\n",
       "      <td>Sylvie Cruz</td>\n",
       "    </tr>\n",
       "    <tr>\n",
       "      <th>2</th>\n",
       "      <td>Sebastien Tellier</td>\n",
       "      <td>Kilometer</td>\n",
       "      <td>Sylvie Cruz</td>\n",
       "    </tr>\n",
       "    <tr>\n",
       "      <th>3</th>\n",
       "      <td>Lonnie Gordon</td>\n",
       "      <td>Catch You Baby (Steve Pitron &amp; Max Sanna Radio...</td>\n",
       "      <td>Sylvie Cruz</td>\n",
       "    </tr>\n",
       "  </tbody>\n",
       "</table>\n",
       "</div>"
      ],
      "text/plain": [
       "              artist                                         song_title  \\\n",
       "0   Down To The Bone                                 Keep On Keepin' On   \n",
       "1       Three Drives                                        Greece 2000   \n",
       "2  Sebastien Tellier                                          Kilometer   \n",
       "3      Lonnie Gordon  Catch You Baby (Steve Pitron & Max Sanna Radio...   \n",
       "\n",
       "          user  \n",
       "0  Sylvie Cruz  \n",
       "1  Sylvie Cruz  \n",
       "2  Sylvie Cruz  \n",
       "3  Sylvie Cruz  "
      ]
     },
     "execution_count": 18,
     "metadata": {},
     "output_type": "execute_result"
    }
   ],
   "source": [
    "# We'll execute the cql query to verify modelling and data insertion\n",
    "query = \"\"\"SELECT artist, song_title, user \n",
    "               FROM songs_user\n",
    "               WHERE user_id = 10 AND session_id = 182;\n",
    "    \"\"\"\n",
    "try:\n",
    "    # Creating pandas dataframe to view the data easily\n",
    "    df = pd.DataFrame(list(session.execute(query)))\n",
    "except Error as e:\n",
    "    print(e)\n",
    "\n",
    "# printing the dataframe to view the resutls\n",
    "df"
   ]
  },
  {
   "cell_type": "markdown",
   "metadata": {
    "editable": true
   },
   "source": [
    "### Query 3: \n",
    "#### Give me every user name (first and last) in my music app history who listened to the song 'All Hands Against His Own'\n",
    "\n",
    "We need to model the following cql query to answer the above question:\n",
    "\n",
    "    SELECT user, song_title \n",
    "    FROM songs_history\n",
    "    WHERE song_title = 'All Hands Against His Own' ;\n",
    "\n",
    "The table will be named as `songs_history` with a partition key and a clustering column. The structure of the table is as follows:\n",
    "\n",
    "|Field|Type|Key|\n",
    "|-----|----|----|\n",
    "|song_title|TEXT|Partition|\n",
    "|user_id|INT|Clustering|\n",
    "|user|TEXT||\n",
    "|(song_title,user_id)||PRIMARY|\n"
   ]
  },
  {
   "cell_type": "code",
   "execution_count": 19,
   "metadata": {
    "editable": true
   },
   "outputs": [],
   "source": [
    "# query for creating songs_history table with the structure defined above.\n",
    "query = \"\"\"\n",
    "        CREATE TABLE IF NOT EXISTS songs_history (\n",
    "            song_title TEXT,\n",
    "            user_id INT,\n",
    "            user TEXT,\n",
    "            PRIMARY KEY(song_title, user_id)\n",
    "        );\n",
    "\"\"\"\n",
    "try:\n",
    "    session.execute(query)\n",
    "except Error as e:\n",
    "    print(e)        "
   ]
  },
  {
   "cell_type": "markdown",
   "metadata": {
    "editable": true
   },
   "source": [
    "#### Performing ETL"
   ]
  },
  {
   "cell_type": "code",
   "execution_count": 25,
   "metadata": {
    "editable": true
   },
   "outputs": [],
   "source": [
    "# The file from which the data is to be extracted\n",
    "file = 'event_datafile_new.csv'\n",
    "\n",
    "with open(file, encoding = 'utf8') as f:\n",
    "    csvreader = csv.reader(f)\n",
    "    next(csvreader) # skip header\n",
    "    for line in csvreader:\n",
    "        # query for inserting into songs_history table\n",
    "        query = \"INSERT INTO songs_history(song_title, user, user_id) \"\n",
    "        query = query + \"VALUES(%s, %s, %s)\"\n",
    "        \n",
    "        # extracting the data from each line and inserting the data into songs_history table\n",
    "        session.execute(query, (line[9], (line[1] + ' ' + line[4]), int(line[10])))"
   ]
  },
  {
   "cell_type": "markdown",
   "metadata": {
    "editable": true
   },
   "source": [
    "#### Verifying the modelling and data insertion"
   ]
  },
  {
   "cell_type": "code",
   "execution_count": 26,
   "metadata": {
    "editable": true
   },
   "outputs": [
    {
     "data": {
      "text/html": [
       "<div>\n",
       "<style scoped>\n",
       "    .dataframe tbody tr th:only-of-type {\n",
       "        vertical-align: middle;\n",
       "    }\n",
       "\n",
       "    .dataframe tbody tr th {\n",
       "        vertical-align: top;\n",
       "    }\n",
       "\n",
       "    .dataframe thead th {\n",
       "        text-align: right;\n",
       "    }\n",
       "</style>\n",
       "<table border=\"1\" class=\"dataframe\">\n",
       "  <thead>\n",
       "    <tr style=\"text-align: right;\">\n",
       "      <th></th>\n",
       "      <th>user</th>\n",
       "      <th>song_title</th>\n",
       "    </tr>\n",
       "  </thead>\n",
       "  <tbody>\n",
       "    <tr>\n",
       "      <th>0</th>\n",
       "      <td>Jacqueline Lynch</td>\n",
       "      <td>All Hands Against His Own</td>\n",
       "    </tr>\n",
       "    <tr>\n",
       "      <th>1</th>\n",
       "      <td>Tegan Levine</td>\n",
       "      <td>All Hands Against His Own</td>\n",
       "    </tr>\n",
       "    <tr>\n",
       "      <th>2</th>\n",
       "      <td>Sara Johnson</td>\n",
       "      <td>All Hands Against His Own</td>\n",
       "    </tr>\n",
       "  </tbody>\n",
       "</table>\n",
       "</div>"
      ],
      "text/plain": [
       "               user                 song_title\n",
       "0  Jacqueline Lynch  All Hands Against His Own\n",
       "1      Tegan Levine  All Hands Against His Own\n",
       "2      Sara Johnson  All Hands Against His Own"
      ]
     },
     "execution_count": 26,
     "metadata": {},
     "output_type": "execute_result"
    }
   ],
   "source": [
    "# We'll execute the cql query to verify modelling and data insertion\n",
    "query = \"\"\"SELECT user, song_title \n",
    "               FROM songs_history\n",
    "               WHERE song_title = 'All Hands Against His Own' ;\n",
    "    \"\"\"\n",
    "try:\n",
    "    # Creating pandas dataframe to view the data easily\n",
    "    df = pd.DataFrame(list(session.execute(query)))\n",
    "except Error as e:\n",
    "    print(e)\n",
    "    \n",
    "# printing the dataframe to view the resutls\n",
    "df"
   ]
  },
  {
   "cell_type": "markdown",
   "metadata": {
    "editable": true
   },
   "source": [
    "### Drop the tables before closing out the sessions"
   ]
  },
  {
   "cell_type": "code",
   "execution_count": 27,
   "metadata": {
    "editable": true
   },
   "outputs": [],
   "source": [
    "# Dropping all the tables using for loop and list\n",
    "tables = ['songs_session', 'songs_user', 'songs_history']\n",
    "for table in tables:\n",
    "    try:\n",
    "        session.execute(\"DROP TABLE IF EXISTS \"+table)\n",
    "    except Error as e:\n",
    "        print(e)\n",
    "    "
   ]
  },
  {
   "cell_type": "markdown",
   "metadata": {
    "editable": true
   },
   "source": [
    "### Close the session and cluster connection¶"
   ]
  },
  {
   "cell_type": "code",
   "execution_count": 28,
   "metadata": {
    "editable": true
   },
   "outputs": [],
   "source": [
    "session.shutdown()\n",
    "cluster.shutdown()"
   ]
  }
 ],
 "metadata": {
  "kernelspec": {
   "display_name": "Python 3",
   "language": "python",
   "name": "python3"
  },
  "language_info": {
   "codemirror_mode": {
    "name": "ipython",
    "version": 3
   },
   "file_extension": ".py",
   "mimetype": "text/x-python",
   "name": "python",
   "nbconvert_exporter": "python",
   "pygments_lexer": "ipython3",
   "version": "3.7.4"
  }
 },
 "nbformat": 4,
 "nbformat_minor": 4
}
