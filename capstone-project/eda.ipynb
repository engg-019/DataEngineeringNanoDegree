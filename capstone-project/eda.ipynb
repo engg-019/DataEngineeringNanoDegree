{
 "cells": [
  {
   "cell_type": "markdown",
   "metadata": {},
   "source": [
    "## Udacity Data Engineering Capstone-Project\n",
    "UK Police has a great dataset that provides open data about police, crimes and outcomes in England, Wales and \n",
    "Northern Ireland and is available on [data.police.uk](data.police.uk). We can also filter the data based on regions, cities, neighborhoods, \n",
    "coordinates, officer names, crime category etc. inside the United Kingdom. \n",
    "\n",
    "The purpose of this notebook is to explore the data about the crimes from the API offered by UK Police.\n",
    "After reading the [documentation](https://data.police.uk/docs/) of the API first list of forces are explored"
   ]
  },
  {
   "cell_type": "markdown",
   "metadata": {
    "toc-hr-collapsed": true,
    "toc-nb-collapsed": true
   },
   "source": [
    "### Importing Libries"
   ]
  },
  {
   "cell_type": "code",
   "execution_count": 1,
   "metadata": {},
   "outputs": [],
   "source": [
    "import pandas as pd\n",
    "import numpy as np\n",
    "import requests\n",
    "from pyspark.sql import SparkSession"
   ]
  },
  {
   "cell_type": "markdown",
   "metadata": {
    "toc-hr-collapsed": true,
    "toc-nb-collapsed": true
   },
   "source": [
    "### Forces Related\n",
    "The forces related responses from the API will be explored namely:\n",
    "1. Forces\n",
    "2. Specific forces\n",
    "3. Senior Officers"
   ]
  },
  {
   "cell_type": "markdown",
   "metadata": {},
   "source": [
    "#### 1. Forces\n",
    "The call to this api returns a list of all the police forces available via the API except the British Transport Police, which is excluded from the list returned. Unique force identifiers obtained here are used in requests for force-specific data via other methods."
   ]
  },
  {
   "cell_type": "code",
   "execution_count": 2,
   "metadata": {},
   "outputs": [],
   "source": [
    "forces = requests.get('https://data.police.uk/api/forces').json()"
   ]
  },
  {
   "cell_type": "code",
   "execution_count": 3,
   "metadata": {},
   "outputs": [
    {
     "data": {
      "text/plain": [
       "{'id': 'avon-and-somerset', 'name': 'Avon and Somerset Constabulary'}"
      ]
     },
     "execution_count": 3,
     "metadata": {},
     "output_type": "execute_result"
    }
   ],
   "source": [
    "forces[0]"
   ]
  },
  {
   "cell_type": "markdown",
   "metadata": {},
   "source": [
    "As it can be seen that the request to the list of forces only returns `id` and `name` of the forces."
   ]
  },
  {
   "cell_type": "markdown",
   "metadata": {},
   "source": [
    "#### 2. Specific forces\n",
    "The call to this api returns the description about a specific force.\n",
    "After reading the documentation it can be seen that to get the information on the specific force we need the `id` of force."
   ]
  },
  {
   "cell_type": "code",
   "execution_count": 4,
   "metadata": {},
   "outputs": [],
   "source": [
    "specific_force = requests.get('https://data.police.uk/api/forces/leicestershire').json()"
   ]
  },
  {
   "cell_type": "code",
   "execution_count": 5,
   "metadata": {},
   "outputs": [
    {
     "data": {
      "text/plain": [
       "{'description': None,\n",
       " 'url': 'http://www.leics.police.uk/',\n",
       " 'engagement_methods': [{'url': 'http://www.facebook.com/leicspolice',\n",
       "   'type': 'facebook',\n",
       "   'description': None,\n",
       "   'title': 'facebook'},\n",
       "  {'url': 'http://www.twitter.com/leicspolice',\n",
       "   'type': 'twitter',\n",
       "   'description': None,\n",
       "   'title': 'twitter'},\n",
       "  {'url': 'http://www.youtube.com/leicspolice',\n",
       "   'type': 'youtube',\n",
       "   'description': None,\n",
       "   'title': 'youtube'},\n",
       "  {'url': 'https://www.leics.police.uk/news/leicestershire/news/GetNewsRss/',\n",
       "   'type': 'rss',\n",
       "   'description': None,\n",
       "   'title': 'rss'},\n",
       "  {'url': '', 'type': 'telephone', 'description': None, 'title': 'telephone'}],\n",
       " 'telephone': '101',\n",
       " 'id': 'leicestershire',\n",
       " 'name': 'Leicestershire Police'}"
      ]
     },
     "execution_count": 5,
     "metadata": {},
     "output_type": "execute_result"
    }
   ],
   "source": [
    "specific_force"
   ]
  },
  {
   "cell_type": "markdown",
   "metadata": {},
   "source": [
    "As it can be seen from the above results and as well as documentation this request/record contains the following fields:\n",
    "\n",
    "* **description**: Description of the force\n",
    "* **url**: Force website URL\n",
    "* **engagement-methods**: Ways to keep informed.\n",
    "    * **url**: Method website URL\n",
    "    * **description**: Method description\n",
    "    * **title**: Method title\n",
    "* **telephone**: Force telephone number\n",
    "* **id**: Unique Force identifier\n",
    "* **name**: Force name\n",
    "\n",
    "Field `engagement_methods` is a list of nested fields. During ETL process it'd be unnested to get only `url` and `title` from the field."
   ]
  },
  {
   "cell_type": "markdown",
   "metadata": {},
   "source": [
    "#### 3. Senior Officers\n",
    "The call to this api returns the senior officers of a specific force.\n",
    "After reading the documentation it can be seen that to get the information on the specific force we need the `id` of force."
   ]
  },
  {
   "cell_type": "code",
   "execution_count": 6,
   "metadata": {},
   "outputs": [],
   "source": [
    "senior_officer = requests.get('https://data.police.uk/api/forces/leicestershire/people').json()"
   ]
  },
  {
   "cell_type": "code",
   "execution_count": 7,
   "metadata": {},
   "outputs": [
    {
     "data": {
      "text/html": [
       "<div>\n",
       "<style scoped>\n",
       "    .dataframe tbody tr th:only-of-type {\n",
       "        vertical-align: middle;\n",
       "    }\n",
       "\n",
       "    .dataframe tbody tr th {\n",
       "        vertical-align: top;\n",
       "    }\n",
       "\n",
       "    .dataframe thead th {\n",
       "        text-align: right;\n",
       "    }\n",
       "</style>\n",
       "<table border=\"1\" class=\"dataframe\">\n",
       "  <thead>\n",
       "    <tr style=\"text-align: right;\">\n",
       "      <th></th>\n",
       "      <th>bio</th>\n",
       "      <th>contact_details</th>\n",
       "      <th>name</th>\n",
       "      <th>rank</th>\n",
       "    </tr>\n",
       "  </thead>\n",
       "  <tbody>\n",
       "    <tr>\n",
       "      <td>0</td>\n",
       "      <td>&lt;p&gt;Simon Cole QPM took up his position as Chie...</td>\n",
       "      <td>{'twitter': 'http://www.twitter.com/CCLeicsPol...</td>\n",
       "      <td>Simon Cole</td>\n",
       "      <td>Chief Constable</td>\n",
       "    </tr>\n",
       "    <tr>\n",
       "      <td>1</td>\n",
       "      <td>&lt;p&gt;Rob has served with Leicestershire Police f...</td>\n",
       "      <td>{'twitter': 'http://www.twitter.com/DCCLeicsPo...</td>\n",
       "      <td>Rob Nixon</td>\n",
       "      <td>Deputy Chief Constable</td>\n",
       "    </tr>\n",
       "    <tr>\n",
       "      <td>2</td>\n",
       "      <td>&lt;p&gt;Julia Debenham joined Leicestershire Police...</td>\n",
       "      <td>{'twitter': 'http://www.twitter.com/AccLeicsPo...</td>\n",
       "      <td>Julia Debenham</td>\n",
       "      <td>Assistant Chief Constable</td>\n",
       "    </tr>\n",
       "    <tr>\n",
       "      <td>3</td>\n",
       "      <td>&lt;p&gt;David Sandall has served with Leicestershir...</td>\n",
       "      <td>{}</td>\n",
       "      <td>David Sandall</td>\n",
       "      <td>Assistant Chief Constable</td>\n",
       "    </tr>\n",
       "  </tbody>\n",
       "</table>\n",
       "</div>"
      ],
      "text/plain": [
       "                                                 bio  \\\n",
       "0  <p>Simon Cole QPM took up his position as Chie...   \n",
       "1  <p>Rob has served with Leicestershire Police f...   \n",
       "2  <p>Julia Debenham joined Leicestershire Police...   \n",
       "3  <p>David Sandall has served with Leicestershir...   \n",
       "\n",
       "                                     contact_details            name  \\\n",
       "0  {'twitter': 'http://www.twitter.com/CCLeicsPol...      Simon Cole   \n",
       "1  {'twitter': 'http://www.twitter.com/DCCLeicsPo...       Rob Nixon   \n",
       "2  {'twitter': 'http://www.twitter.com/AccLeicsPo...  Julia Debenham   \n",
       "3                                                 {}   David Sandall   \n",
       "\n",
       "                        rank  \n",
       "0            Chief Constable  \n",
       "1     Deputy Chief Constable  \n",
       "2  Assistant Chief Constable  \n",
       "3  Assistant Chief Constable  "
      ]
     },
     "execution_count": 7,
     "metadata": {},
     "output_type": "execute_result"
    }
   ],
   "source": [
    "pd.DataFrame(senior_officer)"
   ]
  },
  {
   "cell_type": "code",
   "execution_count": 8,
   "metadata": {},
   "outputs": [
    {
     "data": {
      "text/html": [
       "<div>\n",
       "<style scoped>\n",
       "    .dataframe tbody tr th:only-of-type {\n",
       "        vertical-align: middle;\n",
       "    }\n",
       "\n",
       "    .dataframe tbody tr th {\n",
       "        vertical-align: top;\n",
       "    }\n",
       "\n",
       "    .dataframe thead th {\n",
       "        text-align: right;\n",
       "    }\n",
       "</style>\n",
       "<table border=\"1\" class=\"dataframe\">\n",
       "  <thead>\n",
       "    <tr style=\"text-align: right;\">\n",
       "      <th></th>\n",
       "      <th>twitter</th>\n",
       "    </tr>\n",
       "  </thead>\n",
       "  <tbody>\n",
       "    <tr>\n",
       "      <td>0</td>\n",
       "      <td>http://www.twitter.com/CCLeicsPolice</td>\n",
       "    </tr>\n",
       "    <tr>\n",
       "      <td>1</td>\n",
       "      <td>http://www.twitter.com/DCCLeicsPolice</td>\n",
       "    </tr>\n",
       "    <tr>\n",
       "      <td>2</td>\n",
       "      <td>http://www.twitter.com/AccLeicsPolice</td>\n",
       "    </tr>\n",
       "    <tr>\n",
       "      <td>3</td>\n",
       "      <td>NaN</td>\n",
       "    </tr>\n",
       "  </tbody>\n",
       "</table>\n",
       "</div>"
      ],
      "text/plain": [
       "                                 twitter\n",
       "0   http://www.twitter.com/CCLeicsPolice\n",
       "1  http://www.twitter.com/DCCLeicsPolice\n",
       "2  http://www.twitter.com/AccLeicsPolice\n",
       "3                                    NaN"
      ]
     },
     "execution_count": 8,
     "metadata": {},
     "output_type": "execute_result"
    }
   ],
   "source": [
    "pd.DataFrame(list(pd.DataFrame(senior_officer).contact_details))"
   ]
  },
  {
   "cell_type": "markdown",
   "metadata": {},
   "source": [
    "Now let's look at all the fields from senior officers. As it can be seen from the above results that the schema is different from the documentation."
   ]
  },
  {
   "cell_type": "code",
   "execution_count": 9,
   "metadata": {},
   "outputs": [],
   "source": [
    "senior_officers = []\n",
    "for force in forces:\n",
    "    try:\n",
    "        senior_officer = requests.get(f\"https://data.police.uk/api/forces/{force['id']}/people\").json()\n",
    "        senior_officers = senior_officers + senior_officer\n",
    "    except Exception as e:\n",
    "        print(e)"
   ]
  },
  {
   "cell_type": "code",
   "execution_count": 10,
   "metadata": {},
   "outputs": [
    {
     "data": {
      "text/html": [
       "<div>\n",
       "<style scoped>\n",
       "    .dataframe tbody tr th:only-of-type {\n",
       "        vertical-align: middle;\n",
       "    }\n",
       "\n",
       "    .dataframe tbody tr th {\n",
       "        vertical-align: top;\n",
       "    }\n",
       "\n",
       "    .dataframe thead th {\n",
       "        text-align: right;\n",
       "    }\n",
       "</style>\n",
       "<table border=\"1\" class=\"dataframe\">\n",
       "  <thead>\n",
       "    <tr style=\"text-align: right;\">\n",
       "      <th></th>\n",
       "      <th>bio</th>\n",
       "      <th>contact_details</th>\n",
       "      <th>name</th>\n",
       "      <th>rank</th>\n",
       "    </tr>\n",
       "  </thead>\n",
       "  <tbody>\n",
       "    <tr>\n",
       "      <td>0</td>\n",
       "      <td>None</td>\n",
       "      <td>{}</td>\n",
       "      <td>Darren Martland</td>\n",
       "      <td>Chief Constable</td>\n",
       "    </tr>\n",
       "    <tr>\n",
       "      <td>1</td>\n",
       "      <td>None</td>\n",
       "      <td>{}</td>\n",
       "      <td>Jo Farrell</td>\n",
       "      <td>Chief Constable</td>\n",
       "    </tr>\n",
       "    <tr>\n",
       "      <td>2</td>\n",
       "      <td>None</td>\n",
       "      <td>{}</td>\n",
       "      <td>Dave Orford</td>\n",
       "      <td>Deputy Chief Constable</td>\n",
       "    </tr>\n",
       "    <tr>\n",
       "      <td>3</td>\n",
       "      <td>None</td>\n",
       "      <td>{}</td>\n",
       "      <td>Gary Ridley</td>\n",
       "      <td>Assistant Chief Officer</td>\n",
       "    </tr>\n",
       "    <tr>\n",
       "      <td>4</td>\n",
       "      <td>None</td>\n",
       "      <td>{}</td>\n",
       "      <td>Dale Checksfield</td>\n",
       "      <td>Special Chief Officer</td>\n",
       "    </tr>\n",
       "  </tbody>\n",
       "</table>\n",
       "</div>"
      ],
      "text/plain": [
       "    bio contact_details              name                     rank\n",
       "0  None              {}   Darren Martland          Chief Constable\n",
       "1  None              {}        Jo Farrell          Chief Constable\n",
       "2  None              {}       Dave Orford   Deputy Chief Constable\n",
       "3  None              {}       Gary Ridley  Assistant Chief Officer\n",
       "4  None              {}  Dale Checksfield    Special Chief Officer"
      ]
     },
     "execution_count": 10,
     "metadata": {},
     "output_type": "execute_result"
    }
   ],
   "source": [
    "pd.DataFrame(senior_officers).head()"
   ]
  },
  {
   "cell_type": "code",
   "execution_count": 11,
   "metadata": {},
   "outputs": [
    {
     "data": {
      "text/html": [
       "<div>\n",
       "<style scoped>\n",
       "    .dataframe tbody tr th:only-of-type {\n",
       "        vertical-align: middle;\n",
       "    }\n",
       "\n",
       "    .dataframe tbody tr th {\n",
       "        vertical-align: top;\n",
       "    }\n",
       "\n",
       "    .dataframe thead th {\n",
       "        text-align: right;\n",
       "    }\n",
       "</style>\n",
       "<table border=\"1\" class=\"dataframe\">\n",
       "  <thead>\n",
       "    <tr style=\"text-align: right;\">\n",
       "      <th></th>\n",
       "      <th>twitter</th>\n",
       "      <th>telephone</th>\n",
       "      <th>website</th>\n",
       "      <th>email</th>\n",
       "    </tr>\n",
       "  </thead>\n",
       "  <tbody>\n",
       "    <tr>\n",
       "      <td>0</td>\n",
       "      <td>NaN</td>\n",
       "      <td>NaN</td>\n",
       "      <td>NaN</td>\n",
       "      <td>NaN</td>\n",
       "    </tr>\n",
       "    <tr>\n",
       "      <td>1</td>\n",
       "      <td>NaN</td>\n",
       "      <td>NaN</td>\n",
       "      <td>NaN</td>\n",
       "      <td>NaN</td>\n",
       "    </tr>\n",
       "    <tr>\n",
       "      <td>2</td>\n",
       "      <td>NaN</td>\n",
       "      <td>NaN</td>\n",
       "      <td>NaN</td>\n",
       "      <td>NaN</td>\n",
       "    </tr>\n",
       "    <tr>\n",
       "      <td>3</td>\n",
       "      <td>NaN</td>\n",
       "      <td>NaN</td>\n",
       "      <td>NaN</td>\n",
       "      <td>NaN</td>\n",
       "    </tr>\n",
       "    <tr>\n",
       "      <td>4</td>\n",
       "      <td>NaN</td>\n",
       "      <td>NaN</td>\n",
       "      <td>NaN</td>\n",
       "      <td>NaN</td>\n",
       "    </tr>\n",
       "    <tr>\n",
       "      <td>...</td>\n",
       "      <td>...</td>\n",
       "      <td>...</td>\n",
       "      <td>...</td>\n",
       "      <td>...</td>\n",
       "    </tr>\n",
       "    <tr>\n",
       "      <td>127</td>\n",
       "      <td>NaN</td>\n",
       "      <td>NaN</td>\n",
       "      <td>NaN</td>\n",
       "      <td>NaN</td>\n",
       "    </tr>\n",
       "    <tr>\n",
       "      <td>128</td>\n",
       "      <td>NaN</td>\n",
       "      <td>NaN</td>\n",
       "      <td>NaN</td>\n",
       "      <td>NaN</td>\n",
       "    </tr>\n",
       "    <tr>\n",
       "      <td>129</td>\n",
       "      <td>NaN</td>\n",
       "      <td>NaN</td>\n",
       "      <td>NaN</td>\n",
       "      <td>NaN</td>\n",
       "    </tr>\n",
       "    <tr>\n",
       "      <td>130</td>\n",
       "      <td>NaN</td>\n",
       "      <td>NaN</td>\n",
       "      <td>NaN</td>\n",
       "      <td>NaN</td>\n",
       "    </tr>\n",
       "    <tr>\n",
       "      <td>131</td>\n",
       "      <td>NaN</td>\n",
       "      <td>NaN</td>\n",
       "      <td>NaN</td>\n",
       "      <td>NaN</td>\n",
       "    </tr>\n",
       "  </tbody>\n",
       "</table>\n",
       "<p>132 rows × 4 columns</p>\n",
       "</div>"
      ],
      "text/plain": [
       "    twitter telephone website email\n",
       "0       NaN       NaN     NaN   NaN\n",
       "1       NaN       NaN     NaN   NaN\n",
       "2       NaN       NaN     NaN   NaN\n",
       "3       NaN       NaN     NaN   NaN\n",
       "4       NaN       NaN     NaN   NaN\n",
       "..      ...       ...     ...   ...\n",
       "127     NaN       NaN     NaN   NaN\n",
       "128     NaN       NaN     NaN   NaN\n",
       "129     NaN       NaN     NaN   NaN\n",
       "130     NaN       NaN     NaN   NaN\n",
       "131     NaN       NaN     NaN   NaN\n",
       "\n",
       "[132 rows x 4 columns]"
      ]
     },
     "execution_count": 11,
     "metadata": {},
     "output_type": "execute_result"
    }
   ],
   "source": [
    "pd.DataFrame(list(pd.DataFrame(senior_officers).contact_details))"
   ]
  },
  {
   "cell_type": "markdown",
   "metadata": {},
   "source": [
    "As it can be seen from the above results that senior_officers contain the following fields:\n",
    "* **bio**: Senior officer biography (if available)\n",
    "* **contact_details** : Contact details for the senior officer\n",
    "    * **twitter**: Twitter profile URL\n",
    "    * **telephone**: Telephone number\n",
    "    * **website**: Website address\n",
    "    * **email**: Email address\n",
    "* **name**: Name of the person\n",
    "* **rank**: Force rank\n",
    "\n",
    "Field `contact_details` is a nested field of dictionary. During ETL process it'd be unnested to get only `twitter`,`telephone`,`website` and `email` from the field."
   ]
  },
  {
   "cell_type": "markdown",
   "metadata": {},
   "source": [
    "### Neighbourhood related\n",
    "The forces related responses from the API will be explored namely:\n",
    "1. Neighborhood\n",
    "2. Specific neighborhood\n",
    "3. Neighborhood boundary"
   ]
  },
  {
   "cell_type": "markdown",
   "metadata": {},
   "source": [
    "#### 1. Neighborhoods\n",
    "The call to this API returns the list of neighborhoods for a force. After reading the documentation it can be seen that to get the information on the specific force we need the `id` of force."
   ]
  },
  {
   "cell_type": "code",
   "execution_count": 12,
   "metadata": {},
   "outputs": [],
   "source": [
    "neighborhoods = requests.get(\"https://data.police.uk/api/leicestershire/neighbourhoods\").json()"
   ]
  },
  {
   "cell_type": "code",
   "execution_count": 13,
   "metadata": {},
   "outputs": [
    {
     "data": {
      "text/html": [
       "<div>\n",
       "<style scoped>\n",
       "    .dataframe tbody tr th:only-of-type {\n",
       "        vertical-align: middle;\n",
       "    }\n",
       "\n",
       "    .dataframe tbody tr th {\n",
       "        vertical-align: top;\n",
       "    }\n",
       "\n",
       "    .dataframe thead th {\n",
       "        text-align: right;\n",
       "    }\n",
       "</style>\n",
       "<table border=\"1\" class=\"dataframe\">\n",
       "  <thead>\n",
       "    <tr style=\"text-align: right;\">\n",
       "      <th></th>\n",
       "      <th>id</th>\n",
       "      <th>name</th>\n",
       "    </tr>\n",
       "  </thead>\n",
       "  <tbody>\n",
       "    <tr>\n",
       "      <td>0</td>\n",
       "      <td>NC04</td>\n",
       "      <td>City Centre</td>\n",
       "    </tr>\n",
       "    <tr>\n",
       "      <td>1</td>\n",
       "      <td>NC66</td>\n",
       "      <td>Cultural Quarter</td>\n",
       "    </tr>\n",
       "    <tr>\n",
       "      <td>2</td>\n",
       "      <td>NC67</td>\n",
       "      <td>Riverside</td>\n",
       "    </tr>\n",
       "    <tr>\n",
       "      <td>3</td>\n",
       "      <td>NC68</td>\n",
       "      <td>Clarendon Park</td>\n",
       "    </tr>\n",
       "    <tr>\n",
       "      <td>4</td>\n",
       "      <td>NE09</td>\n",
       "      <td>Belgrave South</td>\n",
       "    </tr>\n",
       "  </tbody>\n",
       "</table>\n",
       "</div>"
      ],
      "text/plain": [
       "     id              name\n",
       "0  NC04       City Centre\n",
       "1  NC66  Cultural Quarter\n",
       "2  NC67         Riverside\n",
       "3  NC68    Clarendon Park\n",
       "4  NE09    Belgrave South"
      ]
     },
     "execution_count": 13,
     "metadata": {},
     "output_type": "execute_result"
    }
   ],
   "source": [
    "pd.DataFrame(neighborhoods).head()"
   ]
  },
  {
   "cell_type": "markdown",
   "metadata": {},
   "source": [
    "As it can be seen from the above results and as well as documentation this request/record contains the following fields:\n",
    "\n",
    "* **id**: Police force specific team identifier.\n",
    "* **name**: Name for the neighbourhood"
   ]
  },
  {
   "cell_type": "markdown",
   "metadata": {},
   "source": [
    "#### 2. Specific neighbourhood\n",
    "The call to this API returns the description about  neighborhoods for a force. After reading the documentation it can be seen that to get the information on the specific neighborhood we need the `id` of neighborhood as well as `id` of the force."
   ]
  },
  {
   "cell_type": "code",
   "execution_count": 14,
   "metadata": {},
   "outputs": [],
   "source": [
    "specific_neighborhood = requests.get(\"https://data.police.uk/api/leicestershire/NC04\").json()"
   ]
  },
  {
   "cell_type": "code",
   "execution_count": 15,
   "metadata": {},
   "outputs": [],
   "source": [
    "specific_neighborhoods = []\n",
    "for neighborhood in neighborhoods[:10]:\n",
    "    try:\n",
    "        specific_neighborhood = requests.get(f\"https://data.police.uk/api/leicestershire/{neighborhood['id']}\").json()\n",
    "        specific_neighborhoods.append(specific_neighborhood)\n",
    "    except:\n",
    "        continue"
   ]
  },
  {
   "cell_type": "code",
   "execution_count": 16,
   "metadata": {},
   "outputs": [
    {
     "data": {
      "text/html": [
       "<div>\n",
       "<style scoped>\n",
       "    .dataframe tbody tr th:only-of-type {\n",
       "        vertical-align: middle;\n",
       "    }\n",
       "\n",
       "    .dataframe tbody tr th {\n",
       "        vertical-align: top;\n",
       "    }\n",
       "\n",
       "    .dataframe thead th {\n",
       "        text-align: right;\n",
       "    }\n",
       "</style>\n",
       "<table border=\"1\" class=\"dataframe\">\n",
       "  <thead>\n",
       "    <tr style=\"text-align: right;\">\n",
       "      <th></th>\n",
       "      <th>url_force</th>\n",
       "      <th>contact_details</th>\n",
       "      <th>name</th>\n",
       "      <th>links</th>\n",
       "      <th>centre</th>\n",
       "      <th>locations</th>\n",
       "      <th>description</th>\n",
       "      <th>id</th>\n",
       "      <th>population</th>\n",
       "    </tr>\n",
       "  </thead>\n",
       "  <tbody>\n",
       "    <tr>\n",
       "      <td>0</td>\n",
       "      <td>http://www.leics.police.uk/local-policing/city...</td>\n",
       "      <td>{'twitter': 'http://www.twitter.com/centrallei...</td>\n",
       "      <td>City Centre</td>\n",
       "      <td>[{'url': 'http://www.leicester.gov.uk/', 'desc...</td>\n",
       "      <td>{'latitude': '52.6389', 'longitude': '-1.13619'}</td>\n",
       "      <td>[{'name': 'Mansfield House (Leicester)', 'long...</td>\n",
       "      <td>&lt;p&gt;The Castle neighbourhood is a diverse cover...</td>\n",
       "      <td>NC04</td>\n",
       "      <td>0</td>\n",
       "    </tr>\n",
       "    <tr>\n",
       "      <td>1</td>\n",
       "      <td>http://www.leics.police.uk/local-policing/cult...</td>\n",
       "      <td>{'twitter': 'http://twitter.com/centralleicsNP...</td>\n",
       "      <td>Cultural Quarter</td>\n",
       "      <td>[]</td>\n",
       "      <td>{'latitude': '52.6337', 'longitude': '-1.12435'}</td>\n",
       "      <td>[{'name': 'Mansfield House (Leicester)', 'long...</td>\n",
       "      <td>NaN</td>\n",
       "      <td>NC66</td>\n",
       "      <td>0</td>\n",
       "    </tr>\n",
       "    <tr>\n",
       "      <td>2</td>\n",
       "      <td>http://www.leics.police.uk/local-policing/rive...</td>\n",
       "      <td>{'twitter': 'http://twitter.com/centralleicsNP...</td>\n",
       "      <td>Riverside</td>\n",
       "      <td>[]</td>\n",
       "      <td>{'latitude': '52.6274', 'longitude': '-1.13566'}</td>\n",
       "      <td>[{'name': 'Mansfield House (Leicester)', 'long...</td>\n",
       "      <td>NaN</td>\n",
       "      <td>NC67</td>\n",
       "      <td>0</td>\n",
       "    </tr>\n",
       "    <tr>\n",
       "      <td>3</td>\n",
       "      <td>http://www.leics.police.uk/local-policing/clar...</td>\n",
       "      <td>{'twitter': 'http://www.twitter.com/lpclarendo...</td>\n",
       "      <td>Clarendon Park</td>\n",
       "      <td>[]</td>\n",
       "      <td>{'latitude': '52.6202', 'longitude': '-1.12315'}</td>\n",
       "      <td>[{'name': 'Mansfield House (Leicester)', 'long...</td>\n",
       "      <td>NaN</td>\n",
       "      <td>NC68</td>\n",
       "      <td>0</td>\n",
       "    </tr>\n",
       "    <tr>\n",
       "      <td>4</td>\n",
       "      <td>http://www.leics.police.uk/local-policing/belg...</td>\n",
       "      <td>{'twitter': 'http://www.twitter.com/LPBelgrave...</td>\n",
       "      <td>Belgrave South</td>\n",
       "      <td>[{'url': 'http://www.leicester.gov.uk/', 'desc...</td>\n",
       "      <td>{'latitude': '52.6474', 'longitude': '-1.11783'}</td>\n",
       "      <td>[{'name': 'Keyham Lane (Leicester)', 'longitud...</td>\n",
       "      <td>&lt;p&gt;The Belgrave South neighbourhood boasts the...</td>\n",
       "      <td>NE09</td>\n",
       "      <td>0</td>\n",
       "    </tr>\n",
       "  </tbody>\n",
       "</table>\n",
       "</div>"
      ],
      "text/plain": [
       "                                           url_force  \\\n",
       "0  http://www.leics.police.uk/local-policing/city...   \n",
       "1  http://www.leics.police.uk/local-policing/cult...   \n",
       "2  http://www.leics.police.uk/local-policing/rive...   \n",
       "3  http://www.leics.police.uk/local-policing/clar...   \n",
       "4  http://www.leics.police.uk/local-policing/belg...   \n",
       "\n",
       "                                     contact_details              name  \\\n",
       "0  {'twitter': 'http://www.twitter.com/centrallei...       City Centre   \n",
       "1  {'twitter': 'http://twitter.com/centralleicsNP...  Cultural Quarter   \n",
       "2  {'twitter': 'http://twitter.com/centralleicsNP...         Riverside   \n",
       "3  {'twitter': 'http://www.twitter.com/lpclarendo...    Clarendon Park   \n",
       "4  {'twitter': 'http://www.twitter.com/LPBelgrave...    Belgrave South   \n",
       "\n",
       "                                               links  \\\n",
       "0  [{'url': 'http://www.leicester.gov.uk/', 'desc...   \n",
       "1                                                 []   \n",
       "2                                                 []   \n",
       "3                                                 []   \n",
       "4  [{'url': 'http://www.leicester.gov.uk/', 'desc...   \n",
       "\n",
       "                                             centre  \\\n",
       "0  {'latitude': '52.6389', 'longitude': '-1.13619'}   \n",
       "1  {'latitude': '52.6337', 'longitude': '-1.12435'}   \n",
       "2  {'latitude': '52.6274', 'longitude': '-1.13566'}   \n",
       "3  {'latitude': '52.6202', 'longitude': '-1.12315'}   \n",
       "4  {'latitude': '52.6474', 'longitude': '-1.11783'}   \n",
       "\n",
       "                                           locations  \\\n",
       "0  [{'name': 'Mansfield House (Leicester)', 'long...   \n",
       "1  [{'name': 'Mansfield House (Leicester)', 'long...   \n",
       "2  [{'name': 'Mansfield House (Leicester)', 'long...   \n",
       "3  [{'name': 'Mansfield House (Leicester)', 'long...   \n",
       "4  [{'name': 'Keyham Lane (Leicester)', 'longitud...   \n",
       "\n",
       "                                         description    id population  \n",
       "0  <p>The Castle neighbourhood is a diverse cover...  NC04          0  \n",
       "1                                                NaN  NC66          0  \n",
       "2                                                NaN  NC67          0  \n",
       "3                                                NaN  NC68          0  \n",
       "4  <p>The Belgrave South neighbourhood boasts the...  NE09          0  "
      ]
     },
     "execution_count": 16,
     "metadata": {},
     "output_type": "execute_result"
    }
   ],
   "source": [
    "pd.DataFrame(specific_neighborhoods).head()"
   ]
  },
  {
   "cell_type": "markdown",
   "metadata": {},
   "source": [
    "As it can be seen from the above result that there are four nested fields. `contact_details`, `links`,`centre` and `locations`. So let's explore them to get a better undestanding of each field."
   ]
  },
  {
   "cell_type": "code",
   "execution_count": 17,
   "metadata": {},
   "outputs": [],
   "source": [
    "df= pd.DataFrame(specific_neighborhoods)"
   ]
  },
  {
   "cell_type": "markdown",
   "metadata": {},
   "source": [
    "##### contact_details field"
   ]
  },
  {
   "cell_type": "code",
   "execution_count": 18,
   "metadata": {},
   "outputs": [
    {
     "data": {
      "text/html": [
       "<div>\n",
       "<style scoped>\n",
       "    .dataframe tbody tr th:only-of-type {\n",
       "        vertical-align: middle;\n",
       "    }\n",
       "\n",
       "    .dataframe tbody tr th {\n",
       "        vertical-align: top;\n",
       "    }\n",
       "\n",
       "    .dataframe thead th {\n",
       "        text-align: right;\n",
       "    }\n",
       "</style>\n",
       "<table border=\"1\" class=\"dataframe\">\n",
       "  <thead>\n",
       "    <tr style=\"text-align: right;\">\n",
       "      <th></th>\n",
       "      <th>twitter</th>\n",
       "      <th>facebook</th>\n",
       "      <th>telephone</th>\n",
       "      <th>email</th>\n",
       "    </tr>\n",
       "  </thead>\n",
       "  <tbody>\n",
       "    <tr>\n",
       "      <td>0</td>\n",
       "      <td>http://www.twitter.com/centralleicsNPA</td>\n",
       "      <td>https://www.facebook.com/CentralLeicsNPA/</td>\n",
       "      <td>101</td>\n",
       "      <td>centralleicester.npa@leicestershire.pnn.police.uk</td>\n",
       "    </tr>\n",
       "    <tr>\n",
       "      <td>1</td>\n",
       "      <td>http://twitter.com/centralleicsNPA</td>\n",
       "      <td>http://www.facebook.com/CentralLeicsNPA</td>\n",
       "      <td>101</td>\n",
       "      <td>centralleicester.npa@leicestershire.pnn.police.uk</td>\n",
       "    </tr>\n",
       "    <tr>\n",
       "      <td>2</td>\n",
       "      <td>http://twitter.com/centralleicsNPA</td>\n",
       "      <td>http://www.facebook.com/CentralLeicsNPA</td>\n",
       "      <td>101</td>\n",
       "      <td>centralleicester.npa@leicestershire.pnn.police.uk</td>\n",
       "    </tr>\n",
       "    <tr>\n",
       "      <td>3</td>\n",
       "      <td>http://www.twitter.com/lpclarendonpark</td>\n",
       "      <td>https://www.facebook.com/LPClarendonPark/</td>\n",
       "      <td>101</td>\n",
       "      <td>centralleicester.npa@leicestershire.pnn.police.uk</td>\n",
       "    </tr>\n",
       "    <tr>\n",
       "      <td>4</td>\n",
       "      <td>http://www.twitter.com/LPBelgrave</td>\n",
       "      <td>https://www.facebook.com/LPBelgraveRushey/</td>\n",
       "      <td>101</td>\n",
       "      <td>eastleicester.npa@leicestershire.pnn.police.uk</td>\n",
       "    </tr>\n",
       "  </tbody>\n",
       "</table>\n",
       "</div>"
      ],
      "text/plain": [
       "                                  twitter  \\\n",
       "0  http://www.twitter.com/centralleicsNPA   \n",
       "1      http://twitter.com/centralleicsNPA   \n",
       "2      http://twitter.com/centralleicsNPA   \n",
       "3  http://www.twitter.com/lpclarendonpark   \n",
       "4       http://www.twitter.com/LPBelgrave   \n",
       "\n",
       "                                     facebook telephone  \\\n",
       "0   https://www.facebook.com/CentralLeicsNPA/       101   \n",
       "1     http://www.facebook.com/CentralLeicsNPA       101   \n",
       "2     http://www.facebook.com/CentralLeicsNPA       101   \n",
       "3   https://www.facebook.com/LPClarendonPark/       101   \n",
       "4  https://www.facebook.com/LPBelgraveRushey/       101   \n",
       "\n",
       "                                               email  \n",
       "0  centralleicester.npa@leicestershire.pnn.police.uk  \n",
       "1  centralleicester.npa@leicestershire.pnn.police.uk  \n",
       "2  centralleicester.npa@leicestershire.pnn.police.uk  \n",
       "3  centralleicester.npa@leicestershire.pnn.police.uk  \n",
       "4     eastleicester.npa@leicestershire.pnn.police.uk  "
      ]
     },
     "execution_count": 18,
     "metadata": {},
     "output_type": "execute_result"
    }
   ],
   "source": [
    "pd.DataFrame(list(df.contact_details)).head()"
   ]
  },
  {
   "cell_type": "markdown",
   "metadata": {},
   "source": [
    "##### links field"
   ]
  },
  {
   "cell_type": "code",
   "execution_count": 19,
   "metadata": {},
   "outputs": [
    {
     "data": {
      "text/html": [
       "<div>\n",
       "<style scoped>\n",
       "    .dataframe tbody tr th:only-of-type {\n",
       "        vertical-align: middle;\n",
       "    }\n",
       "\n",
       "    .dataframe tbody tr th {\n",
       "        vertical-align: top;\n",
       "    }\n",
       "\n",
       "    .dataframe thead th {\n",
       "        text-align: right;\n",
       "    }\n",
       "</style>\n",
       "<table border=\"1\" class=\"dataframe\">\n",
       "  <thead>\n",
       "    <tr style=\"text-align: right;\">\n",
       "      <th></th>\n",
       "      <th>url</th>\n",
       "      <th>description</th>\n",
       "      <th>title</th>\n",
       "    </tr>\n",
       "  </thead>\n",
       "  <tbody>\n",
       "    <tr>\n",
       "      <td>0</td>\n",
       "      <td>http://www.leicester.gov.uk/</td>\n",
       "      <td>None</td>\n",
       "      <td>Leicester City Council</td>\n",
       "    </tr>\n",
       "    <tr>\n",
       "      <td>1</td>\n",
       "      <td>http://www.leicester.gov.uk/</td>\n",
       "      <td>None</td>\n",
       "      <td>Leicester City Council</td>\n",
       "    </tr>\n",
       "    <tr>\n",
       "      <td>2</td>\n",
       "      <td>http://leicspolice.wordpress.com/category/lpu-...</td>\n",
       "      <td>None</td>\n",
       "      <td>Keyham Lane LPU Blog</td>\n",
       "    </tr>\n",
       "    <tr>\n",
       "      <td>3</td>\n",
       "      <td>http://www.leicester.gov.uk/</td>\n",
       "      <td>None</td>\n",
       "      <td>Leicester City Council</td>\n",
       "    </tr>\n",
       "    <tr>\n",
       "      <td>4</td>\n",
       "      <td>http://leicspolice.wordpress.com/category/lpu-...</td>\n",
       "      <td>None</td>\n",
       "      <td>Keyham Lane LPU Blog</td>\n",
       "    </tr>\n",
       "  </tbody>\n",
       "</table>\n",
       "</div>"
      ],
      "text/plain": [
       "                                                 url description  \\\n",
       "0                       http://www.leicester.gov.uk/        None   \n",
       "1                       http://www.leicester.gov.uk/        None   \n",
       "2  http://leicspolice.wordpress.com/category/lpu-...        None   \n",
       "3                       http://www.leicester.gov.uk/        None   \n",
       "4  http://leicspolice.wordpress.com/category/lpu-...        None   \n",
       "\n",
       "                    title  \n",
       "0  Leicester City Council  \n",
       "1  Leicester City Council  \n",
       "2    Keyham Lane LPU Blog  \n",
       "3  Leicester City Council  \n",
       "4    Keyham Lane LPU Blog  "
      ]
     },
     "execution_count": 19,
     "metadata": {},
     "output_type": "execute_result"
    }
   ],
   "source": [
    "pd.DataFrame(list(df.links.explode().dropna())).head()"
   ]
  },
  {
   "cell_type": "markdown",
   "metadata": {},
   "source": [
    "##### centre field"
   ]
  },
  {
   "cell_type": "code",
   "execution_count": 20,
   "metadata": {},
   "outputs": [
    {
     "data": {
      "text/html": [
       "<div>\n",
       "<style scoped>\n",
       "    .dataframe tbody tr th:only-of-type {\n",
       "        vertical-align: middle;\n",
       "    }\n",
       "\n",
       "    .dataframe tbody tr th {\n",
       "        vertical-align: top;\n",
       "    }\n",
       "\n",
       "    .dataframe thead th {\n",
       "        text-align: right;\n",
       "    }\n",
       "</style>\n",
       "<table border=\"1\" class=\"dataframe\">\n",
       "  <thead>\n",
       "    <tr style=\"text-align: right;\">\n",
       "      <th></th>\n",
       "      <th>latitude</th>\n",
       "      <th>longitude</th>\n",
       "    </tr>\n",
       "  </thead>\n",
       "  <tbody>\n",
       "    <tr>\n",
       "      <td>0</td>\n",
       "      <td>52.6389</td>\n",
       "      <td>-1.13619</td>\n",
       "    </tr>\n",
       "    <tr>\n",
       "      <td>1</td>\n",
       "      <td>52.6337</td>\n",
       "      <td>-1.12435</td>\n",
       "    </tr>\n",
       "    <tr>\n",
       "      <td>2</td>\n",
       "      <td>52.6274</td>\n",
       "      <td>-1.13566</td>\n",
       "    </tr>\n",
       "    <tr>\n",
       "      <td>3</td>\n",
       "      <td>52.6202</td>\n",
       "      <td>-1.12315</td>\n",
       "    </tr>\n",
       "    <tr>\n",
       "      <td>4</td>\n",
       "      <td>52.6474</td>\n",
       "      <td>-1.11783</td>\n",
       "    </tr>\n",
       "  </tbody>\n",
       "</table>\n",
       "</div>"
      ],
      "text/plain": [
       "  latitude longitude\n",
       "0  52.6389  -1.13619\n",
       "1  52.6337  -1.12435\n",
       "2  52.6274  -1.13566\n",
       "3  52.6202  -1.12315\n",
       "4  52.6474  -1.11783"
      ]
     },
     "execution_count": 20,
     "metadata": {},
     "output_type": "execute_result"
    }
   ],
   "source": [
    "pd.DataFrame(list(df.centre)).head()"
   ]
  },
  {
   "cell_type": "markdown",
   "metadata": {},
   "source": [
    "##### locations field"
   ]
  },
  {
   "cell_type": "code",
   "execution_count": 21,
   "metadata": {},
   "outputs": [
    {
     "data": {
      "text/html": [
       "<div>\n",
       "<style scoped>\n",
       "    .dataframe tbody tr th:only-of-type {\n",
       "        vertical-align: middle;\n",
       "    }\n",
       "\n",
       "    .dataframe tbody tr th {\n",
       "        vertical-align: top;\n",
       "    }\n",
       "\n",
       "    .dataframe thead th {\n",
       "        text-align: right;\n",
       "    }\n",
       "</style>\n",
       "<table border=\"1\" class=\"dataframe\">\n",
       "  <thead>\n",
       "    <tr style=\"text-align: right;\">\n",
       "      <th></th>\n",
       "      <th>name</th>\n",
       "      <th>longitude</th>\n",
       "      <th>postcode</th>\n",
       "      <th>address</th>\n",
       "      <th>latitude</th>\n",
       "      <th>type</th>\n",
       "      <th>description</th>\n",
       "    </tr>\n",
       "  </thead>\n",
       "  <tbody>\n",
       "    <tr>\n",
       "      <td>0</td>\n",
       "      <td>Mansfield House (Leicester)</td>\n",
       "      <td>None</td>\n",
       "      <td>LE1 3GG</td>\n",
       "      <td>74 Belgrave Gate\\n, Leicester</td>\n",
       "      <td>None</td>\n",
       "      <td>station</td>\n",
       "      <td>None</td>\n",
       "    </tr>\n",
       "    <tr>\n",
       "      <td>1</td>\n",
       "      <td>Mansfield House (Leicester)</td>\n",
       "      <td>None</td>\n",
       "      <td>LE1 3GG</td>\n",
       "      <td>74 Belgrave Gate\\n, Leicester</td>\n",
       "      <td>None</td>\n",
       "      <td>station</td>\n",
       "      <td>None</td>\n",
       "    </tr>\n",
       "    <tr>\n",
       "      <td>2</td>\n",
       "      <td>Mansfield House (Leicester)</td>\n",
       "      <td>None</td>\n",
       "      <td>LE1 3GG</td>\n",
       "      <td>74 Belgrave Gate\\n, Leicester</td>\n",
       "      <td>None</td>\n",
       "      <td>station</td>\n",
       "      <td>None</td>\n",
       "    </tr>\n",
       "    <tr>\n",
       "      <td>3</td>\n",
       "      <td>Mansfield House (Leicester)</td>\n",
       "      <td>None</td>\n",
       "      <td>LE1 3GG</td>\n",
       "      <td>74 Belgrave Gate\\n, Leicester</td>\n",
       "      <td>None</td>\n",
       "      <td>station</td>\n",
       "      <td>None</td>\n",
       "    </tr>\n",
       "    <tr>\n",
       "      <td>4</td>\n",
       "      <td>Keyham Lane (Leicester)</td>\n",
       "      <td>None</td>\n",
       "      <td>LE5 1FY</td>\n",
       "      <td>Colin Grundy Drive\\n, Off Keyham Lane\\n, Leice...</td>\n",
       "      <td>None</td>\n",
       "      <td>station</td>\n",
       "      <td>None</td>\n",
       "    </tr>\n",
       "  </tbody>\n",
       "</table>\n",
       "</div>"
      ],
      "text/plain": [
       "                          name longitude postcode  \\\n",
       "0  Mansfield House (Leicester)      None  LE1 3GG   \n",
       "1  Mansfield House (Leicester)      None  LE1 3GG   \n",
       "2  Mansfield House (Leicester)      None  LE1 3GG   \n",
       "3  Mansfield House (Leicester)      None  LE1 3GG   \n",
       "4      Keyham Lane (Leicester)      None  LE5 1FY   \n",
       "\n",
       "                                             address latitude     type  \\\n",
       "0                      74 Belgrave Gate\\n, Leicester     None  station   \n",
       "1                      74 Belgrave Gate\\n, Leicester     None  station   \n",
       "2                      74 Belgrave Gate\\n, Leicester     None  station   \n",
       "3                      74 Belgrave Gate\\n, Leicester     None  station   \n",
       "4  Colin Grundy Drive\\n, Off Keyham Lane\\n, Leice...     None  station   \n",
       "\n",
       "  description  \n",
       "0        None  \n",
       "1        None  \n",
       "2        None  \n",
       "3        None  \n",
       "4        None  "
      ]
     },
     "execution_count": 21,
     "metadata": {},
     "output_type": "execute_result"
    }
   ],
   "source": [
    "pd.DataFrame(list(df.locations.explode().dropna())).head()"
   ]
  },
  {
   "cell_type": "markdown",
   "metadata": {},
   "source": [
    "As it can be seen from the above results and documentations that specific neighborhoods contain the following fields:\n",
    "\n",
    "* **url_force**: URL for the neighbourhood on the Force's website\n",
    "* **contact_details**: Ways to get in touch with the neighbourhood officers\n",
    "    * **twitter**: Twitter profile URL\n",
    "    * **facebook**: Facebook profile URL \n",
    "    * **telephone**: Telephone number \n",
    "    * **email**: Email address\n",
    "* **name**: Name of the neighbourhood\n",
    "* **welcome_message**: An introduction message for the neighbourhood\n",
    "* **links**\n",
    "    * **url**: URL\n",
    "    * **description**: Description of the link (if available)\n",
    "    * **title**: Title of the link\n",
    "* **centre**: Centre point locator for the neighbourhood.\n",
    "    * **latitude**: Centre point latitude\n",
    "    * **longitude**: Centre point longitude\n",
    "* **locations**: Any associated locations with the neighbourhood, e.g. police stations\n",
    "    * **name**: Name (if available)\n",
    "    * **longitude**: Location longitude\n",
    "    * **latitude**: Location latitude\n",
    "    * **postcode**: Postcode of the location\n",
    "    * **address**: Location address\n",
    "    * **type**: Type of location, e.g. 'station' (police station)\n",
    "    * **description**: Description of the location\n",
    "* **population**: Population of the neighbourhood\n",
    "* **id**: Police force specific team identifier. This identifier is not unique and may also be used by a different force.\n",
    "* **description**: Description (if available)\n",
    "\n",
    "Fields `contact_details`, `links`, `centre` and `locations` are nested fields. During ETL process they'll be unnested."
   ]
  },
  {
   "cell_type": "markdown",
   "metadata": {},
   "source": [
    "#### 3. Neighborhood Boundary\n",
    "The call to this API returns the boundaries of a neighborhood. After reading the documentation it can be seen that to get the information about the boundaries of the neighborhood we need the `id` of neighborhood as well as `id` of the force."
   ]
  },
  {
   "cell_type": "code",
   "execution_count": 22,
   "metadata": {},
   "outputs": [],
   "source": [
    "neighborhood_boundary = requests.get('https://data.police.uk/api/leicestershire/NC04/boundary').json()"
   ]
  },
  {
   "cell_type": "code",
   "execution_count": 23,
   "metadata": {},
   "outputs": [
    {
     "data": {
      "text/plain": [
       "{'latitude': '52.6394052587', 'longitude': '-1.1458618876'}"
      ]
     },
     "execution_count": 23,
     "metadata": {},
     "output_type": "execute_result"
    }
   ],
   "source": [
    "neighborhood_boundary[0]"
   ]
  },
  {
   "cell_type": "markdown",
   "metadata": {},
   "source": [
    "As it can be seen from the above results and as well as documentation this request/record contains the following fields:\n",
    "\n",
    "* **latitude**\n",
    "* **longitude**"
   ]
  },
  {
   "cell_type": "markdown",
   "metadata": {
    "toc-hr-collapsed": false
   },
   "source": [
    "### Crime Related\n",
    "The crime related responses from the API will be explored namely:\n",
    "1. Street level crimes\n",
    "2. Outcomes for a specific crime"
   ]
  },
  {
   "cell_type": "markdown",
   "metadata": {},
   "source": [
    "#### 1. Street level crimes\n",
    "\n",
    "The call to this API returns the crimes at street-level; either within a 1 mile radius of a single point, or within a custom area. After reading the documentation it can be seen that date, the point latitude and longitude are required for the API call."
   ]
  },
  {
   "cell_type": "code",
   "execution_count": 24,
   "metadata": {},
   "outputs": [],
   "source": [
    "crimes = requests.get('https://data.police.uk/api/crimes-street/all-crime?lat=52.629729&lng=-1.131592&date=2017-03').json()"
   ]
  },
  {
   "cell_type": "code",
   "execution_count": 25,
   "metadata": {},
   "outputs": [
    {
     "data": {
      "text/html": [
       "<div>\n",
       "<style scoped>\n",
       "    .dataframe tbody tr th:only-of-type {\n",
       "        vertical-align: middle;\n",
       "    }\n",
       "\n",
       "    .dataframe tbody tr th {\n",
       "        vertical-align: top;\n",
       "    }\n",
       "\n",
       "    .dataframe thead th {\n",
       "        text-align: right;\n",
       "    }\n",
       "</style>\n",
       "<table border=\"1\" class=\"dataframe\">\n",
       "  <thead>\n",
       "    <tr style=\"text-align: right;\">\n",
       "      <th></th>\n",
       "      <th>category</th>\n",
       "      <th>location_type</th>\n",
       "      <th>location</th>\n",
       "      <th>context</th>\n",
       "      <th>outcome_status</th>\n",
       "      <th>persistent_id</th>\n",
       "      <th>id</th>\n",
       "      <th>location_subtype</th>\n",
       "      <th>month</th>\n",
       "    </tr>\n",
       "  </thead>\n",
       "  <tbody>\n",
       "    <tr>\n",
       "      <td>0</td>\n",
       "      <td>anti-social-behaviour</td>\n",
       "      <td>Force</td>\n",
       "      <td>{'latitude': '52.623514', 'street': {'id': 882...</td>\n",
       "      <td></td>\n",
       "      <td>None</td>\n",
       "      <td></td>\n",
       "      <td>56865079</td>\n",
       "      <td></td>\n",
       "      <td>2017-03</td>\n",
       "    </tr>\n",
       "    <tr>\n",
       "      <td>1</td>\n",
       "      <td>anti-social-behaviour</td>\n",
       "      <td>Force</td>\n",
       "      <td>{'latitude': '52.625201', 'street': {'id': 882...</td>\n",
       "      <td></td>\n",
       "      <td>None</td>\n",
       "      <td></td>\n",
       "      <td>56862275</td>\n",
       "      <td></td>\n",
       "      <td>2017-03</td>\n",
       "    </tr>\n",
       "    <tr>\n",
       "      <td>2</td>\n",
       "      <td>anti-social-behaviour</td>\n",
       "      <td>Force</td>\n",
       "      <td>{'latitude': '52.631090', 'street': {'id': 883...</td>\n",
       "      <td></td>\n",
       "      <td>None</td>\n",
       "      <td></td>\n",
       "      <td>56866879</td>\n",
       "      <td></td>\n",
       "      <td>2017-03</td>\n",
       "    </tr>\n",
       "    <tr>\n",
       "      <td>3</td>\n",
       "      <td>anti-social-behaviour</td>\n",
       "      <td>Force</td>\n",
       "      <td>{'latitude': '52.631131', 'street': {'id': 883...</td>\n",
       "      <td></td>\n",
       "      <td>None</td>\n",
       "      <td></td>\n",
       "      <td>56866876</td>\n",
       "      <td></td>\n",
       "      <td>2017-03</td>\n",
       "    </tr>\n",
       "    <tr>\n",
       "      <td>4</td>\n",
       "      <td>anti-social-behaviour</td>\n",
       "      <td>Force</td>\n",
       "      <td>{'latitude': '52.629264', 'street': {'id': 883...</td>\n",
       "      <td></td>\n",
       "      <td>None</td>\n",
       "      <td></td>\n",
       "      <td>56866874</td>\n",
       "      <td></td>\n",
       "      <td>2017-03</td>\n",
       "    </tr>\n",
       "  </tbody>\n",
       "</table>\n",
       "</div>"
      ],
      "text/plain": [
       "                category location_type  \\\n",
       "0  anti-social-behaviour         Force   \n",
       "1  anti-social-behaviour         Force   \n",
       "2  anti-social-behaviour         Force   \n",
       "3  anti-social-behaviour         Force   \n",
       "4  anti-social-behaviour         Force   \n",
       "\n",
       "                                            location context outcome_status  \\\n",
       "0  {'latitude': '52.623514', 'street': {'id': 882...                   None   \n",
       "1  {'latitude': '52.625201', 'street': {'id': 882...                   None   \n",
       "2  {'latitude': '52.631090', 'street': {'id': 883...                   None   \n",
       "3  {'latitude': '52.631131', 'street': {'id': 883...                   None   \n",
       "4  {'latitude': '52.629264', 'street': {'id': 883...                   None   \n",
       "\n",
       "  persistent_id        id location_subtype    month  \n",
       "0                56865079                   2017-03  \n",
       "1                56862275                   2017-03  \n",
       "2                56866879                   2017-03  \n",
       "3                56866876                   2017-03  \n",
       "4                56866874                   2017-03  "
      ]
     },
     "execution_count": 25,
     "metadata": {},
     "output_type": "execute_result"
    }
   ],
   "source": [
    "pd.DataFrame(crimes).head()"
   ]
  },
  {
   "cell_type": "markdown",
   "metadata": {},
   "source": [
    "As it can be seen from the above result as well as from the documentation that this request/record contains the following fields:\n",
    "* **category**: Category of the crime\n",
    "* **persistent_id**: 64-character unique identifier for that crime.\n",
    "* **month**: Month of the crime\n",
    "* **location**: Approximate location of the incident\n",
    "    * **latitude**: Latitude of the location\n",
    "    * **longitude**: Longitude of the location\n",
    "    * **street**: The approximate street the crime occurred\n",
    "        * **id**: Unique identifier for the street\n",
    "        * **name**: Name of the location\n",
    "* **context**: Extra information about the crime\n",
    "* **id**: ID of the crime. This ID only relates to the API, it is NOT a police identifier\n",
    "* **location_type**: The type of the location. Either Force or BTP: Force indicates a normal police force location; BTP indicates a British Transport Police location. BTP locations fall within normal police force boundaries.\n",
    "* **location_subtype**: For BTP locations, the type of location at which this crime was recorded\n",
    "* **outcome_status**: The category and date of the latest recorded outcome for the crime\n",
    "    * **category**: Category of the outcome\n",
    "    * **date**: Date of the outcome"
   ]
  },
  {
   "cell_type": "markdown",
   "metadata": {},
   "source": [
    "Fields `location` and `outcome_status` are nested. During ETL they will be un-nested. "
   ]
  },
  {
   "cell_type": "markdown",
   "metadata": {},
   "source": [
    "#### 2. Outcomes for a specific crime\n",
    "The call to this API returns the outcomes (case history) for the specified crime. \n",
    "After reading the documentation it can be seen that to get the information on the outcome for a specific crime `Crime ID (persistent id)` which is returned by the street level crime is needed."
   ]
  },
  {
   "cell_type": "code",
   "execution_count": 26,
   "metadata": {},
   "outputs": [],
   "source": [
    "outcomes = requests.get('https://data.police.uk/api/outcomes-for-crime/590d68b69228a9ff95b675bb4af591b38de561aa03129dc09a03ef34f537588c').json()"
   ]
  },
  {
   "cell_type": "code",
   "execution_count": 27,
   "metadata": {},
   "outputs": [
    {
     "data": {
      "text/plain": [
       "{'outcomes': [{'category': {'code': 'under-investigation',\n",
       "    'name': 'Under investigation'},\n",
       "   'date': '2017-05',\n",
       "   'person_id': None},\n",
       "  {'category': {'code': 'formal-action-not-in-public-interest',\n",
       "    'name': 'Formal action is not in the public interest'},\n",
       "   'date': '2017-06',\n",
       "   'person_id': None},\n",
       "  {'category': {'code': 'unable-to-prosecute',\n",
       "    'name': 'Unable to prosecute suspect'},\n",
       "   'date': '2017-11',\n",
       "   'person_id': None}],\n",
       " 'crime': {'category': 'violent-crime',\n",
       "  'location_type': 'Force',\n",
       "  'location': {'latitude': '52.639814',\n",
       "   'street': {'id': 883235, 'name': 'On or near Sanvey Gate'},\n",
       "   'longitude': '-1.139118'},\n",
       "  'context': '',\n",
       "  'persistent_id': '590d68b69228a9ff95b675bb4af591b38de561aa03129dc09a03ef34f537588c',\n",
       "  'id': 56880258,\n",
       "  'location_subtype': '',\n",
       "  'month': '2017-05'}}"
      ]
     },
     "execution_count": 27,
     "metadata": {},
     "output_type": "execute_result"
    }
   ],
   "source": [
    "outcomes"
   ]
  },
  {
   "cell_type": "markdown",
   "metadata": {},
   "source": [
    "As it can be seen from the above result as well as from the documentation that this request/record contains the following fields:\n",
    "* **outcomes**: A list of categories and dates of each outcome\n",
    "    * **category**: Category of the outcome\n",
    "        * **code**: Internal code\n",
    "        * **name**: Human-readable name\n",
    "    * **date**: Date of the outcome\n",
    "    * **person_id**: An identifier for the suspect/offender, where available.\n",
    "* **crime**: Crime information\n",
    "    * **category**: Category of the crime\n",
    "    * **location_type**: The type of the location. Either Force or BTP: Force indicates a normal police force location; BTP indicates a British Transport Police location. BTP locations fall within normal police force boundaries.\n",
    "    * **persistent_id**: 64-character unique identifier for that crime.\n",
    "    * **month**: Month of the crime\n",
    "    * **location**: Approximate location of the incident\n",
    "        * **latitude**: Latitude of the location\n",
    "        * **longitude**: Longitude of the location\n",
    "        * **street**: The approximate street the crime occurred\n",
    "            * **id**: Unique identifier for the street\n",
    "            * **name**: Name of the location\n",
    "    * **context**: Extra information about the crime\n",
    "    * **id**: ID of the crime. This ID only relates to the API, it is NOT a police identifier\n",
    "   "
   ]
  },
  {
   "cell_type": "markdown",
   "metadata": {},
   "source": [
    "Fields `outcomes` and `crime` are nested and they'll be un-nested in the ETL phase."
   ]
  }
 ],
 "metadata": {
  "kernelspec": {
   "display_name": "Python 3",
   "language": "python",
   "name": "python3"
  },
  "language_info": {
   "codemirror_mode": {
    "name": "ipython",
    "version": 3
   },
   "file_extension": ".py",
   "mimetype": "text/x-python",
   "name": "python",
   "nbconvert_exporter": "python",
   "pygments_lexer": "ipython3",
   "version": "3.7.6"
  }
 },
 "nbformat": 4,
 "nbformat_minor": 4
}
