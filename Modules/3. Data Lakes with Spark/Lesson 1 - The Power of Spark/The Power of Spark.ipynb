{
 "cells": [
  {
   "cell_type": "markdown",
   "metadata": {},
   "source": [
    "## Why Learn Spark?\n",
    "Spark is currently one of the most popular tools for big data analytics. You might have heard of other tools such as Hadoop. Hadoop is a slightly older technology although still in use by some companies. Spark is generally faster than Hadoop, which is why Spark has become more popular over the last few years.\n",
    "\n",
    "There are many other big data tools and systems, each with its own use case. For example, there are database system like [Apache Cassandra](http://cassandra.apache.org/) and SQL query engines like [Presto](https://prestodb.io/). But Spark is still one of the most popular tools for analyzing large data sets."
   ]
  },
  {
   "cell_type": "markdown",
   "metadata": {},
   "source": [
    "### QUIZ QUESTION\n",
    "To test your current hardware knowledge, match each computer hardware component with the best corresponding description. Don't worry if you're not sure. You'll get more information about this in the next few videos.\n",
    "\n",
    "|HARDWARE COMPONENT|DESCRIPTION|\n",
    "|------------------|-----------|\n",
    "|Memory            |Short-term, quick data storage|\n",
    "|Solid State Drive |Long-term, sage data storage|\n",
    "|Network|Connection between computers|\n",
    "|CPU|Brain of the computer|"
   ]
  },
  {
   "cell_type": "markdown",
   "metadata": {},
   "source": [
    "## Numers Everyone Should Know\n",
    "### CPU (Central Processing Unit)\n",
    "The CPU is the \"brain\" of the computer. Every process on your computer is eventually handled by your CPU. This includes calculations and also instructions for the other components of the compute.\n",
    "\n",
    "### Memory (RAM)\n",
    "When your program runs, data gets temporarily stored in memory before getting sent to the CPU. Memory is ephemeral storage - when your computer shuts down, the data in the memory is lost.\n",
    "\n",
    "### Storage (SSD or Magnetic Disk)\n",
    "Storage is used for keeping data over long periods of time. When a program runs, the CPU will direct the memory to temporarily load data from long-term storage.\n",
    "\n",
    "### Network (LAN or the Internet)\n",
    "Network is the gateway for anything that you need that isn't stored on your computer. The network could connect to other computers in the same room (a Local Area Network) or to a computer on the other side of the world, connected over the internet.\n",
    "\n",
    "### Other Numbers to Know?\n",
    "You may have noticed a few other numbers involving the L1 and L2 Cache, mutex locking, and branch mispredicts. While these concepts are important for a detailed understanding of what's going on inside your computer, you don't need to worry about them for this course. If you're curious to learn more, check out [Peter Norvig's original blog post](http://norvig.com/21-days.html) from a few years ago, and [an interactive version](http://people.eecs.berkeley.edu/~rcs/research/interactive_latency.html) for today's current hardware.\n",
    "\n",
    "<img src=\"images/four_key_machine_components.png\">\n",
    "\n",
    "### QUIZ QUESTION\n",
    "Rank the hardware component in order from fastest to slowest\n",
    "\n",
    "|SPEED|HARDWARE COMPONENT|\n",
    "|-----|------------------|\n",
    "|Fastest|CPU|\n",
    "|2nd Fastest|Memory(RAM)|\n",
    "|3rd Fastest|Disk Storage(SSD)|\n",
    "|Slowest|Network|"
   ]
  },
  {
   "cell_type": "markdown",
   "metadata": {},
   "source": [
    "## Hardware: CPU\n",
    "The CPU is the brains of a computer. The CPU has a few different functions including directing other components of a computer as well as running mathematical calculations. The CPU can also store small amounts of data inside itself in what are called **registers**. These registers hold data that the CPU is working with at the moment.\n",
    "\n",
    "For example, say you write a program that reads in a 40 MB data file and then analyzes the file. When you execute the code, the instructions are loaded into the CPU. The CPU then instructs the computer to take the 40 MB from disk and store the data in memory (RAM). If you want to sum a column of data, then the CPU will essentially take two numbers at a time and sum them together. The accumulation of the sum needs to be stored somewhere while the CPU grabs the next number.\n",
    "\n",
    "This cumulative sum will be stored in a register. The registers make computations more efficient: the registers avoid having to send data unnecessarily back and forth between memory (RAM) and the CPU.\n",
    "\n",
    "### QUESTION 1 OF 2\n",
    "A 2.5 Gigahertz CPU means that the CPU processes 2.5 billion operations per second. Let's say that for each operation, the CPU processes 8 bytes of data. How many bytes could this CPU process per second?\n",
    "- [ ] 312.5 million bytes per second\n",
    "- [ ] 3.2 billion bytes per second\n",
    "- [x] 20 billion bytes per second\n",
    "- [ ] I'm not sure how to calculate this\n",
    "\n",
    "### QUESTION 2 OF 2\n",
    "Twitter generates about 6,000 tweets per second, and each tweet contains 200 bytes. So in one day, Twitter generates data on the order of:\n",
    "\n",
    "(6000 tweets / second) x (86400 seconds / day) x (200 bytes / tweet) = 104 billion bytes / day\n",
    "\n",
    "Knowing that tweets create approximately 104 billion bytes of data per day, how long would it take the 2.5 GigaHertz CPU to analyze a full day of tweets?\n",
    "- [ ] 0.19 seconds\n",
    "- [ ] 3.5 seconds\n",
    "- [x] 5.2 seconds\n",
    "- [ ] 47 seconds\n",
    "- [ ] 136 seconds"
   ]
  },
  {
   "cell_type": "markdown",
   "metadata": {},
   "source": [
    "## Hardware: Memory\n",
    "Most of the time CPU is sitting idle as it waits for the input data from the memory. Memory takes about 250 times longer to find a random byte than to process the same byte in the CPU. The solution is data is loaded sequentially. \n",
    "\n",
    "With CPU and Memory, what else do we need?\n",
    "It seems like the right combination of CPU and memory can help you quickly load and process data. We could build a single computer with lots of CPUs and a ton of memory. The computer would be incredibly fast.\n",
    "\n",
    "### QUESTION 1 OF 2\n",
    "What are the potential trade offs of creating one computer with a lots of CPUs and memory?\n",
    "\n",
    "It's true that you could build a computer with a ton of CPU and memory, which is effectively a supercomputer but it'll not be cost effective.\n",
    "\n",
    "### Characteristic of Memory\n",
    "* Efficient\n",
    "* Ephemeral\n",
    "* Expensive\n",
    "\n",
    "Beyond the fact that memory is expensive and ephemeral, we'll learn that for most use cases in the industry, memory and CPU aren't the bottleneck. Instead the storage and network, which you'll learn about in the next videos, slow down many tasks you'll work on in the industry.\n",
    "\n",
    "### QUESTION 2 OF 2\n",
    "What are the limitations of memory (RAM)?\n",
    "\n",
    "- [x] RAM is relatively expensive\n",
    "- [ ] You can only fit 8GB RAM onto a single computer\n",
    "- [x] Data stored in RAM gets erased when the computer shuts down\n",
    "- [ ] Operations in RAM are relatively inefficient compared to disk storage and network operations"
   ]
  },
  {
   "cell_type": "markdown",
   "metadata": {},
   "source": [
    "## Hardware: Storage\n",
    "Long term storage like hard drive disk(magnetic disk) is cheap and durable but it is much slower than memory. Loading data from the hard drive can be 200 times slower. Even the new SSDs  are still about 15 times slower.\n",
    "\n",
    "<img src=\"images/diff_mem_storage.png\">\n",
    "\n",
    "This difference of seconds and mili seconds may seem small but when we are working with GBs and TBs of data then this difference adds up"
   ]
  },
  {
   "cell_type": "markdown",
   "metadata": {},
   "source": [
    "## Hardware: Network\n",
    "In the past few decades every part of the computer is improved doubling in efficiency every few years. Unfortunately the speed of our network lags behind the improvements in CPU, memory and Storage as demonstrated in the following figure:\n",
    "\n",
    "<img src=\"images/hardware_improvement.png\">\n",
    "\n",
    "As a result moving data from one machine to another is the most common bottleneck when working with big data.\n",
    "For example the same hour of tweets that would take half a second to process from storage would take 30 seconds to download from a twitter API on  a typical network.\n",
    "<img src=\"images/ssd_tweet.png\">\n",
    "\n",
    "<img src=\"images/network_tweet.png\">\n",
    "\n",
    "It usually takes at lest 20 times longer to prcess data when we have to download it from the other machine first. For this reason, the distributed systems try to minimize **Shuffling** the data back and forth.\n",
    "**Shuffling** is the process of moving data back and forth between nodes of a cluster."
   ]
  },
  {
   "cell_type": "markdown",
   "metadata": {},
   "source": [
    "## Hardware: Key Ratios\n",
    "\n",
    "<img src=\"images/key_ratios.png\">\n"
   ]
  },
  {
   "cell_type": "markdown",
   "metadata": {},
   "source": [
    "## Small Data Numbers\n",
    "If you are working on a data that can fit into your memory then you are working on small data. Let's suppose you want to analyze 4 GB of log file and it can easily fit into the memory so it's the small data. Hence its better to use just a python code."
   ]
  },
  {
   "cell_type": "markdown",
   "metadata": {},
   "source": [
    "## Big Data Numbers\n",
    "Now suppose your log data explodes to 200 GB. The same python code won't work as you'll run out of the memory.\n",
    "\n",
    "### QUIZ QUESTION\n",
    "What happened to your computer when you started to run the program with the larger data set? Keep in mind that in this current configuration, the data set is stored on your local computer and does not need to travel across a network (Select all that apply)\n",
    "- [ ] It took too long to move data across the network\n",
    "- [x] The CPU couldn't load data quickly from memory\n",
    "- [x] The memory couldn't load data quickly from storage\n",
    "- [ ] The CPU simply couldn't handle the large data set\n",
    "- [ ] The storage couldn't load data quickly from the network\n",
    "- [ ] The CPU couldn't load data quickly from the network\n",
    "\n",
    "Click [here](https://www.youtube.com/watch?v=QjPr7qeJTQk) for more explanation about the question"
   ]
  },
  {
   "cell_type": "code",
   "execution_count": null,
   "metadata": {},
   "outputs": [],
   "source": []
  }
 ],
 "metadata": {
  "kernelspec": {
   "display_name": "Python 3",
   "language": "python",
   "name": "python3"
  },
  "language_info": {
   "codemirror_mode": {
    "name": "ipython",
    "version": 3
   },
   "file_extension": ".py",
   "mimetype": "text/x-python",
   "name": "python",
   "nbconvert_exporter": "python",
   "pygments_lexer": "ipython3",
   "version": "3.7.4"
  }
 },
 "nbformat": 4,
 "nbformat_minor": 4
}
