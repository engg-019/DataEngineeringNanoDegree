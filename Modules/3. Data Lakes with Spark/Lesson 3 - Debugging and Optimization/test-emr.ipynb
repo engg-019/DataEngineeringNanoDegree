{
 "cells": [
  {
   "cell_type": "markdown",
   "metadata": {},
   "source": [
    "## Rdd Example"
   ]
  },
  {
   "cell_type": "code",
   "execution_count": 22,
   "metadata": {},
   "outputs": [
    {
     "data": {
      "application/vnd.jupyter.widget-view+json": {
       "model_id": "ab2ace6a133b4cc3ac96aeea2d70ecb3",
       "version_major": 2,
       "version_minor": 0
      },
      "text/plain": [
       "VBox()"
      ]
     },
     "metadata": {},
     "output_type": "display_data"
    },
    {
     "data": {
      "application/vnd.jupyter.widget-view+json": {
       "model_id": "",
       "version_major": 2,
       "version_minor": 0
      },
      "text/plain": [
       "FloatProgress(value=0.0, bar_style='info', description='Progress:', layout=Layout(height='25px', width='50%'),…"
      ]
     },
     "metadata": {},
     "output_type": "display_data"
    }
   ],
   "source": [
    "log_of_songs = [\n",
    "    \"Despacito\",\n",
    "    \"Nice for what\",\n",
    "    \"No tears left to cry\",\n",
    "    \"Despacito\",\n",
    "    \"Havana\",\n",
    "    \"In my feelings\",\n",
    "    \"Nice for what\",\n",
    "    \"Despacito\",\n",
    "    \"All the stars\"\n",
    "]"
   ]
  },
  {
   "cell_type": "code",
   "execution_count": 23,
   "metadata": {},
   "outputs": [
    {
     "data": {
      "application/vnd.jupyter.widget-view+json": {
       "model_id": "4f6f1dfe13064380bbdd5714fa3b491d",
       "version_major": 2,
       "version_minor": 0
      },
      "text/plain": [
       "VBox()"
      ]
     },
     "metadata": {},
     "output_type": "display_data"
    },
    {
     "data": {
      "application/vnd.jupyter.widget-view+json": {
       "model_id": "",
       "version_major": 2,
       "version_minor": 0
      },
      "text/plain": [
       "FloatProgress(value=0.0, bar_style='info', description='Progress:', layout=Layout(height='25px', width='50%'),…"
      ]
     },
     "metadata": {},
     "output_type": "display_data"
    }
   ],
   "source": [
    "distributed_song_log = spark.sparkContext.parallelize(log_of_songs)"
   ]
  },
  {
   "cell_type": "code",
   "execution_count": 24,
   "metadata": {},
   "outputs": [
    {
     "data": {
      "application/vnd.jupyter.widget-view+json": {
       "model_id": "586653a124ee44069455e364d7631e2b",
       "version_major": 2,
       "version_minor": 0
      },
      "text/plain": [
       "VBox()"
      ]
     },
     "metadata": {},
     "output_type": "display_data"
    },
    {
     "data": {
      "application/vnd.jupyter.widget-view+json": {
       "model_id": "",
       "version_major": 2,
       "version_minor": 0
      },
      "text/plain": [
       "FloatProgress(value=0.0, bar_style='info', description='Progress:', layout=Layout(height='25px', width='50%'),…"
      ]
     },
     "metadata": {},
     "output_type": "display_data"
    },
    {
     "name": "stdout",
     "output_type": "stream",
     "text": [
      "['despacito', 'nice for what', 'no tears left to cry', 'despacito', 'havana', 'in my feelings', 'nice for what', 'despacito', 'all the stars']"
     ]
    }
   ],
   "source": [
    "distributed_song_log.map(lambda x:x.lower()).collect()"
   ]
  },
  {
   "cell_type": "markdown",
   "metadata": {},
   "source": [
    "## Reading the data from S3"
   ]
  },
  {
   "cell_type": "code",
   "execution_count": 27,
   "metadata": {},
   "outputs": [
    {
     "data": {
      "application/vnd.jupyter.widget-view+json": {
       "model_id": "cb04d62b5f4545d9ba3f500f0d52e57b",
       "version_major": 2,
       "version_minor": 0
      },
      "text/plain": [
       "VBox()"
      ]
     },
     "metadata": {},
     "output_type": "display_data"
    },
    {
     "data": {
      "application/vnd.jupyter.widget-view+json": {
       "model_id": "",
       "version_major": 2,
       "version_minor": 0
      },
      "text/plain": [
       "FloatProgress(value=0.0, bar_style='info', description='Progress:', layout=Layout(height='25px', width='50%'),…"
      ]
     },
     "metadata": {},
     "output_type": "display_data"
    },
    {
     "name": "stdout",
     "output_type": "stream",
     "text": [
      "DataFrame[artist: string, auth: string, firstName: string, gender: string, itemInSession: bigint, lastName: string, length: double, level: string, location: string, method: string, page: string, registration: bigint, sessionId: bigint, song: string, status: bigint, ts: bigint, userAgent: string, userId: string]"
     ]
    }
   ],
   "source": [
    "sparkify_log_data = 's3n://naqeeb-sparkify/sparkify_log_small.json'\n",
    "df = spark.read.json(sparkify_log_data)\n",
    "df.persist()"
   ]
  },
  {
   "cell_type": "code",
   "execution_count": 28,
   "metadata": {},
   "outputs": [
    {
     "data": {
      "application/vnd.jupyter.widget-view+json": {
       "model_id": "0a2fc99a6ad84fc590ab33e6b7c3191d",
       "version_major": 2,
       "version_minor": 0
      },
      "text/plain": [
       "VBox()"
      ]
     },
     "metadata": {},
     "output_type": "display_data"
    },
    {
     "data": {
      "application/vnd.jupyter.widget-view+json": {
       "model_id": "",
       "version_major": 2,
       "version_minor": 0
      },
      "text/plain": [
       "FloatProgress(value=0.0, bar_style='info', description='Progress:', layout=Layout(height='25px', width='50%'),…"
      ]
     },
     "metadata": {},
     "output_type": "display_data"
    },
    {
     "name": "stdout",
     "output_type": "stream",
     "text": [
      "+--------------------+---------+---------+------+-------------+---------+---------+-----+--------------------+------+--------+-------------+---------+--------------------+------+-------------+--------------------+------+\n",
      "|              artist|     auth|firstName|gender|itemInSession| lastName|   length|level|            location|method|    page| registration|sessionId|                song|status|           ts|           userAgent|userId|\n",
      "+--------------------+---------+---------+------+-------------+---------+---------+-----+--------------------+------+--------+-------------+---------+--------------------+------+-------------+--------------------+------+\n",
      "|       Showaddywaddy|Logged In|  Kenneth|     M|          112| Matthews|232.93342| paid|Charlotte-Concord...|   PUT|NextSong|1509380319284|     5132|Christmas Tears W...|   200|1513720872284|\"Mozilla/5.0 (Win...|  1046|\n",
      "|          Lily Allen|Logged In|Elizabeth|     F|            7|    Chase|195.23873| free|Shreveport-Bossie...|   PUT|NextSong|1512718541284|     5027|       Cheryl Tweedy|   200|1513720878284|\"Mozilla/5.0 (Win...|  1000|\n",
      "|Cobra Starship Fe...|Logged In|     Vera|     F|            6|Blackwell|196.20526| paid|          Racine, WI|   PUT|NextSong|1499855749284|     5516|Good Girls Go Bad...|   200|1513720881284|\"Mozilla/5.0 (Mac...|  2219|\n",
      "|          Alex Smoke|Logged In|   Sophee|     F|            8|   Barker|405.99465| paid|San Luis Obispo-P...|   PUT|NextSong|1513009647284|     2372| Don't See The Point|   200|1513720905284|\"Mozilla/5.0 (Win...|  2373|\n",
      "|                null|Logged In|   Jordyn|     F|            0|    Jones|     null| free|        Syracuse, NY|   GET|    Home|1513648531284|     1746|                null|   200|1513720913284|\"Mozilla/5.0 (Mac...|  1747|\n",
      "|                null|Logged In|   Jordyn|     F|            1|    Jones|     null| free|        Syracuse, NY|   GET|Settings|1513648531284|     1746|                null|   200|1513720932284|\"Mozilla/5.0 (Mac...|  1747|\n",
      "|              Redman|Logged In|    Paige|     F|            0|   Hunter|154.53995| free|       Brownwood, TX|   PUT|NextSong|1498414068284|     4406|        Smoke Buddah|   200|1513720955284|\"Mozilla/5.0 (Mac...|  1162|\n",
      "|     Ulrich Schnauss|Logged In|  Gabriel|     M|            2|     Koch|402.93832| paid|     Panama City, FL|   PUT|NextSong|1505820418284|     1060|           On My Own|   200|1513720959284|Mozilla/5.0 (Wind...|  1061|\n",
      "|                null|Logged In|    Mason|     M|            2|   Thomas|     null| paid|Indianapolis-Carm...|   GET|    Home|1487015656284|     5661|                null|   200|1513720959284|Mozilla/5.0 (comp...|   748|\n",
      "|                null|Logged In|Alexander|     M|            0|    Short|     null| free|       Green Bay, WI|   GET|    Home|1513594398284|     3689|                null|   200|1513720980284|\"Mozilla/5.0 (Win...|   597|\n",
      "|               Jay-Z|Logged In|  Micheal|     M|           23|   Morgan|223.26812| paid|        Sterling, CO|   PUT|NextSong|1485051492284|     5175|Heart Of The City...|   200|1513720983284|\"Mozilla/5.0 (Win...|  1806|\n",
      "|         Evanescence|Logged In|    Mason|     M|            3|   Thomas|237.11302| paid|Indianapolis-Carm...|   PUT|NextSong|1487015656284|     5661|    Bring Me To Life|   200|1513720993284|Mozilla/5.0 (comp...|   748|\n",
      "|     Scissor Sisters|Logged In|   Justin|     M|           82|    Jones|218.01751| paid|          Dayton, TN|   PUT|NextSong|1504706730284|     1175|               Laura|   200|1513721031284|\"Mozilla/5.0 (Win...|  1176|\n",
      "|        3 Doors Down|Logged In|     Zoie|     F|           28|   Wright|237.13914| paid|Chicago-Napervill...|   PUT|NextSong|1512172030284|     2163|    Here Without You|   200|1513721045284|\"Mozilla/5.0 (Mac...|  2164|\n",
      "|       George Younce|Logged In|  Malachi|     M|            3|     Lane|191.68608| free|     Sioux Falls, SD|   PUT|NextSong|1510109243284|     5272|This Old House w/...|   200|1513721058284|Mozilla/5.0 (Wind...|  2146|\n",
      "|              Aly-Us|Logged In|     Vera|     F|            7|Blackwell|383.58159| paid|          Racine, WI|   PUT|NextSong|1499855749284|     5516|Follow Me (Club Mix)|   200|1513721077284|\"Mozilla/5.0 (Mac...|  2219|\n",
      "|                null|Logged In|   Justin|     M|           83|    Jones|     null| paid|          Dayton, TN|   GET|    Home|1504706730284|     1175|                null|   200|1513721088284|\"Mozilla/5.0 (Win...|  1176|\n",
      "|            BjÃÂ¶rk|Logged In|    Elena|     F|            0|   Newman|348.57751| free|Boston-Cambridge-...|   PUT|NextSong|1513494341284|     2903|                Undo|   200|1513721095284|Mozilla/5.0 (Wind...|  2904|\n",
      "|      David Bromberg|Logged In|Alexander|     M|            1|    Short|146.36363| free|       Green Bay, WI|   PUT|NextSong|1513594398284|     3689|Sheebeg And Sheemore|   200|1513721097284|\"Mozilla/5.0 (Win...|   597|\n",
      "|          Nickelback|Logged In|  Abigail|     F|            4| Davidson|238.18404| paid|Lansing-East Lans...|   PUT|NextSong|1513173389284|     4591|Far Away (Album V...|   200|1513721104284|\"Mozilla/5.0 (Mac...|   226|\n",
      "+--------------------+---------+---------+------+-------------+---------+---------+-----+--------------------+------+--------+-------------+---------+--------------------+------+-------------+--------------------+------+\n",
      "only showing top 20 rows"
     ]
    }
   ],
   "source": [
    "df.show()"
   ]
  },
  {
   "cell_type": "markdown",
   "metadata": {},
   "source": [
    "### Writing to the S3 Bucket"
   ]
  },
  {
   "cell_type": "code",
   "execution_count": 21,
   "metadata": {},
   "outputs": [
    {
     "data": {
      "application/vnd.jupyter.widget-view+json": {
       "model_id": "f84cec4b94c44ea28f9700ee31a9ae18",
       "version_major": 2,
       "version_minor": 0
      },
      "text/plain": [
       "VBox()"
      ]
     },
     "metadata": {},
     "output_type": "display_data"
    },
    {
     "data": {
      "application/vnd.jupyter.widget-view+json": {
       "model_id": "",
       "version_major": 2,
       "version_minor": 0
      },
      "text/plain": [
       "FloatProgress(value=0.0, bar_style='info', description='Progress:', layout=Layout(height='25px', width='50%'),…"
      ]
     },
     "metadata": {},
     "output_type": "display_data"
    }
   ],
   "source": [
    "df.write.csv('s3n://naqeeb-sparkify/sparkify_log_small.csv')"
   ]
  }
 ],
 "metadata": {
  "kernelspec": {
   "display_name": "PySpark",
   "language": "",
   "name": "pysparkkernel"
  },
  "language_info": {
   "codemirror_mode": {
    "name": "python",
    "version": 2
   },
   "mimetype": "text/x-python",
   "name": "pyspark",
   "pygments_lexer": "python2"
  }
 },
 "nbformat": 4,
 "nbformat_minor": 4
}
