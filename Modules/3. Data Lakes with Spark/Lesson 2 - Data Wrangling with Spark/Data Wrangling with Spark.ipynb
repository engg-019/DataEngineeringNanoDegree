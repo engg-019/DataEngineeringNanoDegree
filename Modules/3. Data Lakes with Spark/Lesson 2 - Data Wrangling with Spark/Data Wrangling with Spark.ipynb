{
 "cells": [
  {
   "cell_type": "markdown",
   "metadata": {},
   "source": [
    "## Functional Programming\n",
    "* Spark is written in functional programming language Scala\n",
    "* Application Programming Interface available in Java, R, Python\n",
    "* In this course we'll using Python API (Pyspark) and we'll see the functional programming influence of Scala in Pyspark\n",
    "E.g. let's look at the map reduce song count example\n",
    "\n",
    "<img src=\"images/map_reduce.png\">\n",
    "\n",
    "This approach is different from Procedural Style as this is functional programming approach. In procedural style as shown below we use a counter and iterate through all the songs and increment when the song matches.\n",
    "\n",
    "<img src=\"images/functional_procedural.png\">"
   ]
  },
  {
   "cell_type": "markdown",
   "metadata": {},
   "source": [
    "## Why use Functional Programming\n",
    "* Perfect for distributed systems\n",
    "* It has no side-effects on variables out of its scope\n",
    "* It gets its name from functions in Algebra e.g\n",
    "        f(x) = x + 5\n",
    "        f(3) = 8\n",
    "Here the output only depends on the input while in python functions the output depends not only on the input but also on the parameters e.g\n",
    "        w = -1\n",
    "        def f(x):\n",
    "            global w\n",
    "            w += 1\n",
    "            return x + w+ 5\n",
    "            \n",
    "### QUIZ QUESTION\n",
    "How is it possible that Spark programs can be written in Python if Python is not a functional programming language? Mark all answers that are true.\n",
    "- [ ] You cannot write Spark Programs in Python\n",
    "- [x] The Pyspark API is written with functional programming principles in mind.\n",
    "- [ ] You can write Spark programs in Python using an API, but you need to be extra careful when writing Spark Programs with the Pyspark API because Python is an imperative language.\n",
    "- [ ] Spark is written in Scala. So the PySpark API first translates your code to Scala, which is a functional programming language."
   ]
  },
  {
   "cell_type": "markdown",
   "metadata": {
    "toc-hr-collapsed": true
   },
   "source": [
    "## Procedural Programming\n",
    "\n",
    "The code in this section counts the number of times a song appears in the log_of_songs variable. \n",
    "\n",
    "You'll notice that the first time you run `count_plays(\"Despacito\")`, you get the correct count. However, when you run the same code again `count_plays(\"Despacito\")`, the results are no longer correct.This is because the global variable `play_count` stores the results outside of the count_plays function. "
   ]
  },
  {
   "cell_type": "code",
   "execution_count": 1,
   "metadata": {},
   "outputs": [],
   "source": [
    "log_of_songs = [\n",
    "        \"Despacito\",\n",
    "        \"Nice for what\",\n",
    "        \"No tears left to cry\",\n",
    "        \"Despacito\",\n",
    "        \"Havana\",\n",
    "        \"In my feelings\",\n",
    "        \"Nice for what\",\n",
    "        \"Despacito\",\n",
    "        \"All the stars\"\n",
    "]"
   ]
  },
  {
   "cell_type": "code",
   "execution_count": 2,
   "metadata": {},
   "outputs": [],
   "source": [
    "play_count = 0"
   ]
  },
  {
   "cell_type": "code",
   "execution_count": 3,
   "metadata": {},
   "outputs": [],
   "source": [
    "def count_plays(song_title):\n",
    "    global play_count\n",
    "    for song in log_of_songs:\n",
    "        if song == song_title:\n",
    "            play_count = play_count + 1\n",
    "    return play_count"
   ]
  },
  {
   "cell_type": "code",
   "execution_count": 4,
   "metadata": {},
   "outputs": [
    {
     "data": {
      "text/plain": [
       "3"
      ]
     },
     "execution_count": 4,
     "metadata": {},
     "output_type": "execute_result"
    }
   ],
   "source": [
    "count_plays(\"Despacito\")"
   ]
  },
  {
   "cell_type": "code",
   "execution_count": 5,
   "metadata": {},
   "outputs": [
    {
     "data": {
      "text/plain": [
       "6"
      ]
     },
     "execution_count": 5,
     "metadata": {},
     "output_type": "execute_result"
    }
   ],
   "source": [
    "count_plays(\"Despacito\")"
   ]
  },
  {
   "cell_type": "markdown",
   "metadata": {},
   "source": [
    "### How to Solve the Issue\n",
    "\n",
    "How might you solve this issue? You could get rid of the global variable and instead use play_count as an input to the function:\n",
    "\n",
    "```python\n",
    "def count_plays(song_title, play_count):\n",
    "    for song in log_of_songs:\n",
    "        if song == song_title:\n",
    "            play_count = play_count + 1\n",
    "    return play_count\n",
    "\n",
    "```\n",
    "\n",
    "How would this work with parallel programming? Spark splits up data onto multiple machines. If your songs list were split onto two machines, Machine A would first need to finish counting, and then return its own result to Machine B. And then Machine B could use the output from Machine A and add to the count.\n",
    "\n",
    "However, that isn't parallel computing. Machine B would have to wait until Machine A finishes. You'll see in the next parts of the lesson how Spark solves this issue with a functional programming paradigm.\n",
    "\n",
    "In Spark, if your data is split onto two different machines, machine A will run a function to count how many times 'Despacito' appears on machine A. Machine B will simultaneously run a function to count how many times 'Despacito' appears on machine B. After they finish counting individually, they'll combine their results together. You'll see how this works in the next parts of the lesson."
   ]
  },
  {
   "cell_type": "markdown",
   "metadata": {},
   "source": [
    "## The Spark DAGs: Recipe for Data\n",
    "Every spark function makes a copy of its input data and never changes the original parent data. As spark does not change the input data its called immutable. This makes sense when you have a single function but what happens when you have a lots of functions.After all there are a lot of steps when you wrangle data. In Spark we do that by chaining together multiple functions that each accomplish small amount of work. It seems that Spark would need to create a copy of the data for each sub-function but if this was the case the spark would run out of the memory. To avoid that Spark uses Lazy evaluation. Before Spark does anything on the data it first builds step by step  directions of which functions and data it'll need. These directions in Spark are called Directed Acyclic Graph (DAG for short). \n",
    "\n",
    "<img src=\"images/dag.png\">\n",
    "\n",
    "Once spark builds the DAG from the code it checks if it can procrastinate, waiting until the last possible moment to get the data.\n",
    "\n",
    "Click [here](https://www.youtube.com/watch?v=lrgHpuIJxfM) for more explanation."
   ]
  },
  {
   "cell_type": "markdown",
   "metadata": {},
   "source": [
    "## Maps and Lambda Functions\n",
    "### Maps\n",
    "\n",
    "In Spark, maps take data as input and then transform that data with whatever function you put in the map. They are like directions for the data telling how each input should get to the output.\n",
    "\n",
    "The first code cell creates a SparkContext object. With the SparkContext, you can input a dataset and parallelize the data across a cluster (since you are currently using Spark in local mode on a single machine, technically the dataset isn't distributed yet).\n",
    "\n",
    "Run the code cell below to instantiate a SparkContext object and then read in the log_of_songs list into Spark. "
   ]
  },
  {
   "cell_type": "code",
   "execution_count": 6,
   "metadata": {},
   "outputs": [],
   "source": [
    "import pyspark\n",
    "sc = pyspark.SparkContext(appName=\"maps_and_lazy_evaluation_example\")\n",
    "\n",
    "log_of_songs = [\n",
    "        \"Despacito\",\n",
    "        \"Nice for what\",\n",
    "        \"No tears left to cry\",\n",
    "        \"Despacito\",\n",
    "        \"Havana\",\n",
    "        \"In my feelings\",\n",
    "        \"Nice for what\",\n",
    "        \"despacito\",\n",
    "        \"All the stars\"\n",
    "]\n",
    "\n",
    "# parallelize the log_of_songs to use with Spark\n",
    "distributed_song_log = sc.parallelize(log_of_songs)"
   ]
  },
  {
   "cell_type": "markdown",
   "metadata": {},
   "source": [
    "This next code cell defines a function that converts a song title to lowercase. Then there is an example converting the word \"Havana\" to \"havana\"."
   ]
  },
  {
   "cell_type": "code",
   "execution_count": 7,
   "metadata": {},
   "outputs": [
    {
     "data": {
      "text/plain": [
       "'havana'"
      ]
     },
     "execution_count": 7,
     "metadata": {},
     "output_type": "execute_result"
    }
   ],
   "source": [
    "def convert_song_to_lowercase(song):\n",
    "    return song.lower()\n",
    "\n",
    "convert_song_to_lowercase(\"Havana\")"
   ]
  },
  {
   "cell_type": "markdown",
   "metadata": {},
   "source": [
    "The following code cells demonstrate how to apply this function using a map step. The map step will go through each song in the list and apply the convert_song_to_lowercase() function. "
   ]
  },
  {
   "cell_type": "code",
   "execution_count": 8,
   "metadata": {},
   "outputs": [
    {
     "data": {
      "text/plain": [
       "PythonRDD[1] at RDD at PythonRDD.scala:53"
      ]
     },
     "execution_count": 8,
     "metadata": {},
     "output_type": "execute_result"
    }
   ],
   "source": [
    "distributed_song_log.map(convert_song_to_lowercase)"
   ]
  },
  {
   "cell_type": "markdown",
   "metadata": {},
   "source": [
    "You'll notice that this code cell ran quite quickly. This is because of lazy evaluation. Spark does not actually execute the map step unless it needs to.\n",
    "\n",
    "\"RDD\" in the output refers to resilient distributed dataset. RDDs are exactly what they say they are: fault-tolerant datasets distributed across a cluster. This is how Spark stores data. \n",
    "\n",
    "To get Spark to actually run the map step, you need to use an \"action\". One available action is the collect method. The collect() method takes the results from all of the clusters and \"collects\" them into a single list on the master node."
   ]
  },
  {
   "cell_type": "code",
   "execution_count": 9,
   "metadata": {},
   "outputs": [
    {
     "data": {
      "text/plain": [
       "['despacito',\n",
       " 'nice for what',\n",
       " 'no tears left to cry',\n",
       " 'despacito',\n",
       " 'havana',\n",
       " 'in my feelings',\n",
       " 'nice for what',\n",
       " 'despacito',\n",
       " 'all the stars']"
      ]
     },
     "execution_count": 9,
     "metadata": {},
     "output_type": "execute_result"
    }
   ],
   "source": [
    "distributed_song_log.map(convert_song_to_lowercase).collect()"
   ]
  },
  {
   "cell_type": "markdown",
   "metadata": {},
   "source": [
    "Note as well that Spark is not changing the original data set: Spark is merely making a copy. You can see this by running collect() on the original dataset."
   ]
  },
  {
   "cell_type": "code",
   "execution_count": 10,
   "metadata": {},
   "outputs": [
    {
     "data": {
      "text/plain": [
       "['Despacito',\n",
       " 'Nice for what',\n",
       " 'No tears left to cry',\n",
       " 'Despacito',\n",
       " 'Havana',\n",
       " 'In my feelings',\n",
       " 'Nice for what',\n",
       " 'despacito',\n",
       " 'All the stars']"
      ]
     },
     "execution_count": 10,
     "metadata": {},
     "output_type": "execute_result"
    }
   ],
   "source": [
    "distributed_song_log.collect()"
   ]
  },
  {
   "cell_type": "markdown",
   "metadata": {},
   "source": [
    "You do not always have to write a custom function for the map step. You can also use anonymous (lambda) functions as well as built-in Python functions like string.lower(). \n",
    "\n",
    "Anonymous functions are actually a Python feature for writing functional style programs."
   ]
  },
  {
   "cell_type": "code",
   "execution_count": 11,
   "metadata": {},
   "outputs": [
    {
     "data": {
      "text/plain": [
       "['despacito',\n",
       " 'nice for what',\n",
       " 'no tears left to cry',\n",
       " 'despacito',\n",
       " 'havana',\n",
       " 'in my feelings',\n",
       " 'nice for what',\n",
       " 'despacito',\n",
       " 'all the stars']"
      ]
     },
     "execution_count": 11,
     "metadata": {},
     "output_type": "execute_result"
    }
   ],
   "source": [
    "distributed_song_log.map(lambda song: song.lower()).collect()"
   ]
  },
  {
   "cell_type": "markdown",
   "metadata": {},
   "source": [
    "## Data Formats\n",
    "The most common data formats are:\n",
    "* **CSV** - Comma Separated values(CSV) file stores tabula data in index format. Each line represents record where fields are in the same order defined usually by the first header. As the name suggests the records are separated by the `,`. This might be problematic if the records contain commas as well. So oftentimes the records are wrapped in quotes or alternative separators actualism.\n",
    "* **JSON** - JavaScript Object Notation (JSON) store records in attribute value pairs. The values may contain simple often numeric types or arrays. JSON is very commonly used for browser server communication. So web server log files often contain this format.\n",
    "* **HTML** - Hypertext Markup Language (HTML) is a standard markup language for creating web pages and we applications. If you scrape data from the Internet you will need to deal with HTML. Here we have tags like `<h1>` and values are enclosed between staring tag and ending tag. Following is an example of the tag and values:\n",
    "        <h1> Header 1 </h1> \n",
    "* **XML** - Extensible Markup Language (XML) is generalized version of HTML where the tags don't have specific meaning. In XML you can define your own tags to encode the information in both a machine and human readable format. The difficulty in dealing with XML and HTML is that the elements can be nested."
   ]
  },
  {
   "cell_type": "markdown",
   "metadata": {},
   "source": [
    "## Distributed Data Stores\n",
    "When we have so much data that we need distributed computing. The data itself needs to stored in a distributed way as well. Distributed files systems store the data in  a fault tolerant way. So if a machine breaks we don't lose the information.\n",
    "In HDFS data is split in 128MB or 64 MB blocks and replicates this block across the cluster.\n",
    "<img src=\"images/hdfs.png\">\n",
    "\n",
    "AWS uses S3 to store the raw data."
   ]
  },
  {
   "cell_type": "markdown",
   "metadata": {},
   "source": [
    "## SparkSession\n",
    "The first component of each Spark Program is the the SparkContext. Spark context is the main entry point for the spark functionality and connects the cluster with the application.  \n",
    "\n",
    "<img src=\"images/spark_context.png\">\n",
    "\n",
    "If we want to use lower level abstractions we'll create objects with SparkContext. Following is an example of the spark context:"
   ]
  },
  {
   "cell_type": "code",
   "execution_count": 12,
   "metadata": {},
   "outputs": [],
   "source": [
    "# from pyspark import SparkConf, SparkContext\n",
    "\n",
    "# # To create SparkContext we need to create sparkConf object first\n",
    "# configure = SparkConf().setAppName('name').setMaster('local')\n",
    "\n",
    "# sc = SparkContext(conf=configure)"
   ]
  },
  {
   "cell_type": "markdown",
   "metadata": {},
   "source": [
    "To create dataframes we'll use SparkSession."
   ]
  },
  {
   "cell_type": "code",
   "execution_count": 13,
   "metadata": {},
   "outputs": [],
   "source": [
    "from pyspark.sql import SparkSession\n",
    "\n",
    "spark = SparkSession\\\n",
    "            .builder\\\n",
    "            .appName('app name')\\\n",
    "            .config('spark.master','local')\\\n",
    "            .getOrCreate()"
   ]
  },
  {
   "cell_type": "markdown",
   "metadata": {},
   "source": [
    "## Reading and Writing Data with Spark\n",
    "\n",
    "This block contains the code from the previous screencast. The only difference is that instead of reading in a dataset from a remote cluster, the data set is read in from a local file. You can see the file by clicking on the \"jupyter\" icon and opening the folder titled \"data\".\n",
    "\n",
    "Run the code cell to see how everything works. \n",
    "\n",
    "First let's import SparkConf and SparkSession"
   ]
  },
  {
   "cell_type": "code",
   "execution_count": 14,
   "metadata": {},
   "outputs": [],
   "source": [
    "from pyspark import SparkConf\n",
    "from pyspark.sql import SparkSession"
   ]
  },
  {
   "cell_type": "markdown",
   "metadata": {},
   "source": [
    "Since we're using Spark locally we already have both a sparkcontext and a sparksession running. We can update some of the parameters, such our application's name. Let's just call it \"Our first Python Spark SQL example\""
   ]
  },
  {
   "cell_type": "code",
   "execution_count": 15,
   "metadata": {},
   "outputs": [],
   "source": [
    "spark = SparkSession \\\n",
    "    .builder \\\n",
    "    .appName(\"Our first Python Spark SQL example\") \\\n",
    "    .getOrCreate()"
   ]
  },
  {
   "cell_type": "markdown",
   "metadata": {},
   "source": [
    "Let's check if the change went through"
   ]
  },
  {
   "cell_type": "code",
   "execution_count": 16,
   "metadata": {},
   "outputs": [
    {
     "data": {
      "text/plain": [
       "[('spark.master', 'local'),\n",
       " ('spark.app.name', 'Our first Python Spark SQL example'),\n",
       " ('spark.driver.port', '55026'),\n",
       " ('spark.rdd.compress', 'True'),\n",
       " ('spark.serializer.objectStreamReset', '100'),\n",
       " ('spark.executor.id', 'driver'),\n",
       " ('spark.app.id', 'local-1578302855552'),\n",
       " ('spark.submit.deployMode', 'client'),\n",
       " ('spark.ui.showConsoleProgress', 'true'),\n",
       " ('spark.driver.host', 'LAPTOP-IEPN0CHS')]"
      ]
     },
     "execution_count": 16,
     "metadata": {},
     "output_type": "execute_result"
    }
   ],
   "source": [
    "spark.sparkContext.getConf().getAll()"
   ]
  },
  {
   "cell_type": "code",
   "execution_count": 17,
   "metadata": {},
   "outputs": [
    {
     "data": {
      "text/html": [
       "\n",
       "            <div>\n",
       "                <p><b>SparkSession - in-memory</b></p>\n",
       "                \n",
       "        <div>\n",
       "            <p><b>SparkContext</b></p>\n",
       "\n",
       "            <p><a href=\"http://LAPTOP-IEPN0CHS:4040\">Spark UI</a></p>\n",
       "\n",
       "            <dl>\n",
       "              <dt>Version</dt>\n",
       "                <dd><code>v2.4.4</code></dd>\n",
       "              <dt>Master</dt>\n",
       "                <dd><code>local[*]</code></dd>\n",
       "              <dt>AppName</dt>\n",
       "                <dd><code>maps_and_lazy_evaluation_example</code></dd>\n",
       "            </dl>\n",
       "        </div>\n",
       "        \n",
       "            </div>\n",
       "        "
      ],
      "text/plain": [
       "<pyspark.sql.session.SparkSession at 0x2351943cf88>"
      ]
     },
     "execution_count": 17,
     "metadata": {},
     "output_type": "execute_result"
    }
   ],
   "source": [
    "spark"
   ]
  },
  {
   "cell_type": "markdown",
   "metadata": {},
   "source": [
    "As you can see the app name is exactly how we set it\n",
    "\n",
    "Let's create our first dataframe from a fairly small sample data set. Througout the course we'll work with a log file data set that describes user interactions with a music streaming service. The records describe events such as logging in to the site, visiting a page, listening to the next song, seeing an ad."
   ]
  },
  {
   "cell_type": "code",
   "execution_count": 18,
   "metadata": {},
   "outputs": [],
   "source": [
    "user_log = spark.read.json('data/sparkify_log_small.json')"
   ]
  },
  {
   "cell_type": "code",
   "execution_count": 19,
   "metadata": {},
   "outputs": [
    {
     "name": "stdout",
     "output_type": "stream",
     "text": [
      "root\n",
      " |-- artist: string (nullable = true)\n",
      " |-- auth: string (nullable = true)\n",
      " |-- firstName: string (nullable = true)\n",
      " |-- gender: string (nullable = true)\n",
      " |-- itemInSession: long (nullable = true)\n",
      " |-- lastName: string (nullable = true)\n",
      " |-- length: double (nullable = true)\n",
      " |-- level: string (nullable = true)\n",
      " |-- location: string (nullable = true)\n",
      " |-- method: string (nullable = true)\n",
      " |-- page: string (nullable = true)\n",
      " |-- registration: long (nullable = true)\n",
      " |-- sessionId: long (nullable = true)\n",
      " |-- song: string (nullable = true)\n",
      " |-- status: long (nullable = true)\n",
      " |-- ts: long (nullable = true)\n",
      " |-- userAgent: string (nullable = true)\n",
      " |-- userId: string (nullable = true)\n",
      "\n"
     ]
    }
   ],
   "source": [
    "user_log.printSchema()"
   ]
  },
  {
   "cell_type": "code",
   "execution_count": 20,
   "metadata": {},
   "outputs": [
    {
     "data": {
      "text/plain": [
       "DataFrame[summary: string, artist: string, auth: string, firstName: string, gender: string, itemInSession: string, lastName: string, length: string, level: string, location: string, method: string, page: string, registration: string, sessionId: string, song: string, status: string, ts: string, userAgent: string, userId: string]"
      ]
     },
     "execution_count": 20,
     "metadata": {},
     "output_type": "execute_result"
    }
   ],
   "source": [
    "user_log.describe()"
   ]
  },
  {
   "cell_type": "code",
   "execution_count": 21,
   "metadata": {},
   "outputs": [
    {
     "name": "stdout",
     "output_type": "stream",
     "text": [
      "+-------------+---------+---------+------+-------------+--------+---------+-----+--------------------+------+--------+-------------+---------+--------------------+------+-------------+--------------------+------+\n",
      "|       artist|     auth|firstName|gender|itemInSession|lastName|   length|level|            location|method|    page| registration|sessionId|                song|status|           ts|           userAgent|userId|\n",
      "+-------------+---------+---------+------+-------------+--------+---------+-----+--------------------+------+--------+-------------+---------+--------------------+------+-------------+--------------------+------+\n",
      "|Showaddywaddy|Logged In|  Kenneth|     M|          112|Matthews|232.93342| paid|Charlotte-Concord...|   PUT|NextSong|1509380319284|     5132|Christmas Tears W...|   200|1513720872284|\"Mozilla/5.0 (Win...|  1046|\n",
      "+-------------+---------+---------+------+-------------+--------+---------+-----+--------------------+------+--------+-------------+---------+--------------------+------+-------------+--------------------+------+\n",
      "only showing top 1 row\n",
      "\n"
     ]
    }
   ],
   "source": [
    "user_log.show(n=1)"
   ]
  },
  {
   "cell_type": "code",
   "execution_count": 22,
   "metadata": {},
   "outputs": [
    {
     "data": {
      "text/plain": [
       "[Row(artist='Showaddywaddy', auth='Logged In', firstName='Kenneth', gender='M', itemInSession=112, lastName='Matthews', length=232.93342, level='paid', location='Charlotte-Concord-Gastonia, NC-SC', method='PUT', page='NextSong', registration=1509380319284, sessionId=5132, song='Christmas Tears Will Fall', status=200, ts=1513720872284, userAgent='\"Mozilla/5.0 (Windows NT 6.1) AppleWebKit/537.36 (KHTML, like Gecko) Chrome/36.0.1985.125 Safari/537.36\"', userId='1046'),\n",
       " Row(artist='Lily Allen', auth='Logged In', firstName='Elizabeth', gender='F', itemInSession=7, lastName='Chase', length=195.23873, level='free', location='Shreveport-Bossier City, LA', method='PUT', page='NextSong', registration=1512718541284, sessionId=5027, song='Cheryl Tweedy', status=200, ts=1513720878284, userAgent='\"Mozilla/5.0 (Windows NT 6.1) AppleWebKit/537.36 (KHTML, like Gecko) Chrome/36.0.1985.143 Safari/537.36\"', userId='1000'),\n",
       " Row(artist='Cobra Starship Featuring Leighton Meester', auth='Logged In', firstName='Vera', gender='F', itemInSession=6, lastName='Blackwell', length=196.20526, level='paid', location='Racine, WI', method='PUT', page='NextSong', registration=1499855749284, sessionId=5516, song='Good Girls Go Bad (Feat.Leighton Meester) (Album Version)', status=200, ts=1513720881284, userAgent='\"Mozilla/5.0 (Macintosh; Intel Mac OS X 10_9_4) AppleWebKit/537.78.2 (KHTML, like Gecko) Version/7.0.6 Safari/537.78.2\"', userId='2219'),\n",
       " Row(artist='Alex Smoke', auth='Logged In', firstName='Sophee', gender='F', itemInSession=8, lastName='Barker', length=405.99465, level='paid', location='San Luis Obispo-Paso Robles-Arroyo Grande, CA', method='PUT', page='NextSong', registration=1513009647284, sessionId=2372, song=\"Don't See The Point\", status=200, ts=1513720905284, userAgent='\"Mozilla/5.0 (Windows NT 6.1; WOW64) AppleWebKit/537.36 (KHTML, like Gecko) Chrome/36.0.1985.143 Safari/537.36\"', userId='2373'),\n",
       " Row(artist=None, auth='Logged In', firstName='Jordyn', gender='F', itemInSession=0, lastName='Jones', length=None, level='free', location='Syracuse, NY', method='GET', page='Home', registration=1513648531284, sessionId=1746, song=None, status=200, ts=1513720913284, userAgent='\"Mozilla/5.0 (Macintosh; Intel Mac OS X 10_9_4) AppleWebKit/537.36 (KHTML, like Gecko) Chrome/37.0.2062.94 Safari/537.36\"', userId='1747')]"
      ]
     },
     "execution_count": 22,
     "metadata": {},
     "output_type": "execute_result"
    }
   ],
   "source": [
    "user_log.take(5)"
   ]
  },
  {
   "cell_type": "code",
   "execution_count": 23,
   "metadata": {},
   "outputs": [],
   "source": [
    "out_path = \"data/sparkify_log_small.csv\""
   ]
  },
  {
   "cell_type": "code",
   "execution_count": 25,
   "metadata": {},
   "outputs": [],
   "source": [
    "user_log.write.save(out_path, format=\"csv\", header=True)"
   ]
  },
  {
   "cell_type": "code",
   "execution_count": 26,
   "metadata": {},
   "outputs": [],
   "source": [
    "user_log_2 = spark.read.csv(out_path, header=True)"
   ]
  },
  {
   "cell_type": "code",
   "execution_count": 27,
   "metadata": {},
   "outputs": [
    {
     "name": "stdout",
     "output_type": "stream",
     "text": [
      "root\n",
      " |-- artist: string (nullable = true)\n",
      " |-- auth: string (nullable = true)\n",
      " |-- firstName: string (nullable = true)\n",
      " |-- gender: string (nullable = true)\n",
      " |-- itemInSession: string (nullable = true)\n",
      " |-- lastName: string (nullable = true)\n",
      " |-- length: string (nullable = true)\n",
      " |-- level: string (nullable = true)\n",
      " |-- location: string (nullable = true)\n",
      " |-- method: string (nullable = true)\n",
      " |-- page: string (nullable = true)\n",
      " |-- registration: string (nullable = true)\n",
      " |-- sessionId: string (nullable = true)\n",
      " |-- song: string (nullable = true)\n",
      " |-- status: string (nullable = true)\n",
      " |-- ts: string (nullable = true)\n",
      " |-- userAgent: string (nullable = true)\n",
      " |-- userId: string (nullable = true)\n",
      "\n"
     ]
    }
   ],
   "source": [
    "user_log_2.printSchema()"
   ]
  },
  {
   "cell_type": "code",
   "execution_count": 28,
   "metadata": {},
   "outputs": [
    {
     "data": {
      "text/plain": [
       "[Row(artist='Showaddywaddy', auth='Logged In', firstName='Kenneth', gender='M', itemInSession='112', lastName='Matthews', length='232.93342', level='paid', location='Charlotte-Concord-Gastonia, NC-SC', method='PUT', page='NextSong', registration='1509380319284', sessionId='5132', song='Christmas Tears Will Fall', status='200', ts='1513720872284', userAgent='\"Mozilla/5.0 (Windows NT 6.1) AppleWebKit/537.36 (KHTML, like Gecko) Chrome/36.0.1985.125 Safari/537.36\"', userId='1046'),\n",
       " Row(artist='Lily Allen', auth='Logged In', firstName='Elizabeth', gender='F', itemInSession='7', lastName='Chase', length='195.23873', level='free', location='Shreveport-Bossier City, LA', method='PUT', page='NextSong', registration='1512718541284', sessionId='5027', song='Cheryl Tweedy', status='200', ts='1513720878284', userAgent='\"Mozilla/5.0 (Windows NT 6.1) AppleWebKit/537.36 (KHTML, like Gecko) Chrome/36.0.1985.143 Safari/537.36\"', userId='1000')]"
      ]
     },
     "execution_count": 28,
     "metadata": {},
     "output_type": "execute_result"
    }
   ],
   "source": [
    "user_log_2.take(2)"
   ]
  },
  {
   "cell_type": "code",
   "execution_count": 29,
   "metadata": {},
   "outputs": [
    {
     "name": "stdout",
     "output_type": "stream",
     "text": [
      "+------+\n",
      "|userID|\n",
      "+------+\n",
      "|  1046|\n",
      "|  1000|\n",
      "|  2219|\n",
      "|  2373|\n",
      "|  1747|\n",
      "|  1747|\n",
      "|  1162|\n",
      "|  1061|\n",
      "|   748|\n",
      "|   597|\n",
      "|  1806|\n",
      "|   748|\n",
      "|  1176|\n",
      "|  2164|\n",
      "|  2146|\n",
      "|  2219|\n",
      "|  1176|\n",
      "|  2904|\n",
      "|   597|\n",
      "|   226|\n",
      "+------+\n",
      "only showing top 20 rows\n",
      "\n"
     ]
    }
   ],
   "source": [
    "user_log_2.select(\"userID\").show()"
   ]
  },
  {
   "cell_type": "markdown",
   "metadata": {},
   "source": [
    "## Imperative vs Declarative Programming\n",
    "There are two ways to wrangle the data in Spark:\n",
    "\n",
    "|Imperative Programming|Declarative Programming|\n",
    "|----------------------|-----------------------|\n",
    "|Spark DataFrames & Python| SQL|\n",
    "|Cares about How|Cares about the 'What'|\n",
    "|Example: drive to the car &rarr; go in the shop &rarr; buy the cake| Get the Cake\n",
    "|We focus on the steps|We focus on the result we want to achieve|\n"
   ]
  },
  {
   "cell_type": "markdown",
   "metadata": {},
   "source": [
    "## Data Wrangling with Data Frames"
   ]
  },
  {
   "cell_type": "markdown",
   "metadata": {},
   "source": [
    "### Importing the libraries"
   ]
  },
  {
   "cell_type": "code",
   "execution_count": 30,
   "metadata": {},
   "outputs": [],
   "source": [
    "from pyspark.sql import SparkSession\n",
    "import pyspark.sql.functions as fn\n",
    "import pyspark.sql.types as typ\n",
    "import datetime\n",
    "import numpy as np\n",
    "import pandas as pd\n",
    "import matplotlib.pyplot as plt\n",
    "\n",
    "%matplotlib inline"
   ]
  },
  {
   "cell_type": "markdown",
   "metadata": {},
   "source": [
    "### Creating Spark Session"
   ]
  },
  {
   "cell_type": "code",
   "execution_count": 31,
   "metadata": {},
   "outputs": [],
   "source": [
    "spark = SparkSession \\\n",
    "    .builder \\\n",
    "    .appName(\"Wrangling Data\") \\\n",
    "    .getOrCreate()"
   ]
  },
  {
   "cell_type": "markdown",
   "metadata": {},
   "source": [
    "### Reading the data"
   ]
  },
  {
   "cell_type": "code",
   "execution_count": 32,
   "metadata": {},
   "outputs": [],
   "source": [
    "user_log = spark.read.json('data/sparkify_log_small.json')"
   ]
  },
  {
   "cell_type": "markdown",
   "metadata": {},
   "source": [
    "### Data Exploration \n",
    "The next cells explore the data set."
   ]
  },
  {
   "cell_type": "markdown",
   "metadata": {},
   "source": [
    "#### Displaying the first 10 rows"
   ]
  },
  {
   "cell_type": "code",
   "execution_count": 33,
   "metadata": {},
   "outputs": [
    {
     "data": {
      "text/html": [
       "<div>\n",
       "<style scoped>\n",
       "    .dataframe tbody tr th:only-of-type {\n",
       "        vertical-align: middle;\n",
       "    }\n",
       "\n",
       "    .dataframe tbody tr th {\n",
       "        vertical-align: top;\n",
       "    }\n",
       "\n",
       "    .dataframe thead th {\n",
       "        text-align: right;\n",
       "    }\n",
       "</style>\n",
       "<table border=\"1\" class=\"dataframe\">\n",
       "  <thead>\n",
       "    <tr style=\"text-align: right;\">\n",
       "      <th></th>\n",
       "      <th>artist</th>\n",
       "      <th>auth</th>\n",
       "      <th>firstName</th>\n",
       "      <th>gender</th>\n",
       "      <th>itemInSession</th>\n",
       "      <th>lastName</th>\n",
       "      <th>length</th>\n",
       "      <th>level</th>\n",
       "      <th>location</th>\n",
       "      <th>method</th>\n",
       "      <th>page</th>\n",
       "      <th>registration</th>\n",
       "      <th>sessionId</th>\n",
       "      <th>song</th>\n",
       "      <th>status</th>\n",
       "      <th>ts</th>\n",
       "      <th>userAgent</th>\n",
       "      <th>userId</th>\n",
       "    </tr>\n",
       "  </thead>\n",
       "  <tbody>\n",
       "    <tr>\n",
       "      <td>0</td>\n",
       "      <td>Showaddywaddy</td>\n",
       "      <td>Logged In</td>\n",
       "      <td>Kenneth</td>\n",
       "      <td>M</td>\n",
       "      <td>112</td>\n",
       "      <td>Matthews</td>\n",
       "      <td>232.93342</td>\n",
       "      <td>paid</td>\n",
       "      <td>Charlotte-Concord-Gastonia, NC-SC</td>\n",
       "      <td>PUT</td>\n",
       "      <td>NextSong</td>\n",
       "      <td>1509380319284</td>\n",
       "      <td>5132</td>\n",
       "      <td>Christmas Tears Will Fall</td>\n",
       "      <td>200</td>\n",
       "      <td>1513720872284</td>\n",
       "      <td>\"Mozilla/5.0 (Windows NT 6.1) AppleWebKit/537....</td>\n",
       "      <td>1046</td>\n",
       "    </tr>\n",
       "    <tr>\n",
       "      <td>1</td>\n",
       "      <td>Lily Allen</td>\n",
       "      <td>Logged In</td>\n",
       "      <td>Elizabeth</td>\n",
       "      <td>F</td>\n",
       "      <td>7</td>\n",
       "      <td>Chase</td>\n",
       "      <td>195.23873</td>\n",
       "      <td>free</td>\n",
       "      <td>Shreveport-Bossier City, LA</td>\n",
       "      <td>PUT</td>\n",
       "      <td>NextSong</td>\n",
       "      <td>1512718541284</td>\n",
       "      <td>5027</td>\n",
       "      <td>Cheryl Tweedy</td>\n",
       "      <td>200</td>\n",
       "      <td>1513720878284</td>\n",
       "      <td>\"Mozilla/5.0 (Windows NT 6.1) AppleWebKit/537....</td>\n",
       "      <td>1000</td>\n",
       "    </tr>\n",
       "    <tr>\n",
       "      <td>2</td>\n",
       "      <td>Cobra Starship Featuring Leighton Meester</td>\n",
       "      <td>Logged In</td>\n",
       "      <td>Vera</td>\n",
       "      <td>F</td>\n",
       "      <td>6</td>\n",
       "      <td>Blackwell</td>\n",
       "      <td>196.20526</td>\n",
       "      <td>paid</td>\n",
       "      <td>Racine, WI</td>\n",
       "      <td>PUT</td>\n",
       "      <td>NextSong</td>\n",
       "      <td>1499855749284</td>\n",
       "      <td>5516</td>\n",
       "      <td>Good Girls Go Bad (Feat.Leighton Meester) (Alb...</td>\n",
       "      <td>200</td>\n",
       "      <td>1513720881284</td>\n",
       "      <td>\"Mozilla/5.0 (Macintosh; Intel Mac OS X 10_9_4...</td>\n",
       "      <td>2219</td>\n",
       "    </tr>\n",
       "    <tr>\n",
       "      <td>3</td>\n",
       "      <td>Alex Smoke</td>\n",
       "      <td>Logged In</td>\n",
       "      <td>Sophee</td>\n",
       "      <td>F</td>\n",
       "      <td>8</td>\n",
       "      <td>Barker</td>\n",
       "      <td>405.99465</td>\n",
       "      <td>paid</td>\n",
       "      <td>San Luis Obispo-Paso Robles-Arroyo Grande, CA</td>\n",
       "      <td>PUT</td>\n",
       "      <td>NextSong</td>\n",
       "      <td>1513009647284</td>\n",
       "      <td>2372</td>\n",
       "      <td>Don't See The Point</td>\n",
       "      <td>200</td>\n",
       "      <td>1513720905284</td>\n",
       "      <td>\"Mozilla/5.0 (Windows NT 6.1; WOW64) AppleWebK...</td>\n",
       "      <td>2373</td>\n",
       "    </tr>\n",
       "    <tr>\n",
       "      <td>4</td>\n",
       "      <td>None</td>\n",
       "      <td>Logged In</td>\n",
       "      <td>Jordyn</td>\n",
       "      <td>F</td>\n",
       "      <td>0</td>\n",
       "      <td>Jones</td>\n",
       "      <td>NaN</td>\n",
       "      <td>free</td>\n",
       "      <td>Syracuse, NY</td>\n",
       "      <td>GET</td>\n",
       "      <td>Home</td>\n",
       "      <td>1513648531284</td>\n",
       "      <td>1746</td>\n",
       "      <td>None</td>\n",
       "      <td>200</td>\n",
       "      <td>1513720913284</td>\n",
       "      <td>\"Mozilla/5.0 (Macintosh; Intel Mac OS X 10_9_4...</td>\n",
       "      <td>1747</td>\n",
       "    </tr>\n",
       "  </tbody>\n",
       "</table>\n",
       "</div>"
      ],
      "text/plain": [
       "                                      artist       auth  firstName gender  \\\n",
       "0                              Showaddywaddy  Logged In    Kenneth      M   \n",
       "1                                 Lily Allen  Logged In  Elizabeth      F   \n",
       "2  Cobra Starship Featuring Leighton Meester  Logged In       Vera      F   \n",
       "3                                 Alex Smoke  Logged In     Sophee      F   \n",
       "4                                       None  Logged In     Jordyn      F   \n",
       "\n",
       "   itemInSession   lastName     length level  \\\n",
       "0            112   Matthews  232.93342  paid   \n",
       "1              7      Chase  195.23873  free   \n",
       "2              6  Blackwell  196.20526  paid   \n",
       "3              8     Barker  405.99465  paid   \n",
       "4              0      Jones        NaN  free   \n",
       "\n",
       "                                        location method      page  \\\n",
       "0              Charlotte-Concord-Gastonia, NC-SC    PUT  NextSong   \n",
       "1                    Shreveport-Bossier City, LA    PUT  NextSong   \n",
       "2                                     Racine, WI    PUT  NextSong   \n",
       "3  San Luis Obispo-Paso Robles-Arroyo Grande, CA    PUT  NextSong   \n",
       "4                                   Syracuse, NY    GET      Home   \n",
       "\n",
       "    registration  sessionId  \\\n",
       "0  1509380319284       5132   \n",
       "1  1512718541284       5027   \n",
       "2  1499855749284       5516   \n",
       "3  1513009647284       2372   \n",
       "4  1513648531284       1746   \n",
       "\n",
       "                                                song  status             ts  \\\n",
       "0                          Christmas Tears Will Fall     200  1513720872284   \n",
       "1                                      Cheryl Tweedy     200  1513720878284   \n",
       "2  Good Girls Go Bad (Feat.Leighton Meester) (Alb...     200  1513720881284   \n",
       "3                                Don't See The Point     200  1513720905284   \n",
       "4                                               None     200  1513720913284   \n",
       "\n",
       "                                           userAgent userId  \n",
       "0  \"Mozilla/5.0 (Windows NT 6.1) AppleWebKit/537....   1046  \n",
       "1  \"Mozilla/5.0 (Windows NT 6.1) AppleWebKit/537....   1000  \n",
       "2  \"Mozilla/5.0 (Macintosh; Intel Mac OS X 10_9_4...   2219  \n",
       "3  \"Mozilla/5.0 (Windows NT 6.1; WOW64) AppleWebK...   2373  \n",
       "4  \"Mozilla/5.0 (Macintosh; Intel Mac OS X 10_9_4...   1747  "
      ]
     },
     "execution_count": 33,
     "metadata": {},
     "output_type": "execute_result"
    }
   ],
   "source": [
    "user_log.limit(10).toPandas().head()"
   ]
  },
  {
   "cell_type": "markdown",
   "metadata": {},
   "source": [
    "#### Printing the schema"
   ]
  },
  {
   "cell_type": "code",
   "execution_count": 34,
   "metadata": {},
   "outputs": [
    {
     "name": "stdout",
     "output_type": "stream",
     "text": [
      "root\n",
      " |-- artist: string (nullable = true)\n",
      " |-- auth: string (nullable = true)\n",
      " |-- firstName: string (nullable = true)\n",
      " |-- gender: string (nullable = true)\n",
      " |-- itemInSession: long (nullable = true)\n",
      " |-- lastName: string (nullable = true)\n",
      " |-- length: double (nullable = true)\n",
      " |-- level: string (nullable = true)\n",
      " |-- location: string (nullable = true)\n",
      " |-- method: string (nullable = true)\n",
      " |-- page: string (nullable = true)\n",
      " |-- registration: long (nullable = true)\n",
      " |-- sessionId: long (nullable = true)\n",
      " |-- song: string (nullable = true)\n",
      " |-- status: long (nullable = true)\n",
      " |-- ts: long (nullable = true)\n",
      " |-- userAgent: string (nullable = true)\n",
      " |-- userId: string (nullable = true)\n",
      "\n"
     ]
    }
   ],
   "source": [
    "user_log.printSchema()"
   ]
  },
  {
   "cell_type": "markdown",
   "metadata": {},
   "source": [
    "#### Using summary on columns"
   ]
  },
  {
   "cell_type": "code",
   "execution_count": 35,
   "metadata": {},
   "outputs": [
    {
     "data": {
      "text/html": [
       "<div>\n",
       "<style scoped>\n",
       "    .dataframe tbody tr th:only-of-type {\n",
       "        vertical-align: middle;\n",
       "    }\n",
       "\n",
       "    .dataframe tbody tr th {\n",
       "        vertical-align: top;\n",
       "    }\n",
       "\n",
       "    .dataframe thead th {\n",
       "        text-align: right;\n",
       "    }\n",
       "</style>\n",
       "<table border=\"1\" class=\"dataframe\">\n",
       "  <thead>\n",
       "    <tr style=\"text-align: right;\">\n",
       "      <th></th>\n",
       "      <th>summary</th>\n",
       "      <th>artist</th>\n",
       "    </tr>\n",
       "  </thead>\n",
       "  <tbody>\n",
       "    <tr>\n",
       "      <td>0</td>\n",
       "      <td>count</td>\n",
       "      <td>8348</td>\n",
       "    </tr>\n",
       "    <tr>\n",
       "      <td>1</td>\n",
       "      <td>mean</td>\n",
       "      <td>461.0</td>\n",
       "    </tr>\n",
       "    <tr>\n",
       "      <td>2</td>\n",
       "      <td>stddev</td>\n",
       "      <td>300.0</td>\n",
       "    </tr>\n",
       "    <tr>\n",
       "      <td>3</td>\n",
       "      <td>min</td>\n",
       "      <td>!!!</td>\n",
       "    </tr>\n",
       "    <tr>\n",
       "      <td>4</td>\n",
       "      <td>max</td>\n",
       "      <td>ÃÂlafur Arnalds</td>\n",
       "    </tr>\n",
       "  </tbody>\n",
       "</table>\n",
       "</div>"
      ],
      "text/plain": [
       "  summary             artist\n",
       "0   count               8348\n",
       "1    mean              461.0\n",
       "2  stddev              300.0\n",
       "3     min                !!!\n",
       "4     max  ÃÂlafur Arnalds"
      ]
     },
     "execution_count": 35,
     "metadata": {},
     "output_type": "execute_result"
    }
   ],
   "source": [
    "user_log.describe('artist').toPandas()"
   ]
  },
  {
   "cell_type": "code",
   "execution_count": 36,
   "metadata": {},
   "outputs": [
    {
     "data": {
      "text/html": [
       "<div>\n",
       "<style scoped>\n",
       "    .dataframe tbody tr th:only-of-type {\n",
       "        vertical-align: middle;\n",
       "    }\n",
       "\n",
       "    .dataframe tbody tr th {\n",
       "        vertical-align: top;\n",
       "    }\n",
       "\n",
       "    .dataframe thead th {\n",
       "        text-align: right;\n",
       "    }\n",
       "</style>\n",
       "<table border=\"1\" class=\"dataframe\">\n",
       "  <thead>\n",
       "    <tr style=\"text-align: right;\">\n",
       "      <th></th>\n",
       "      <th>summary</th>\n",
       "      <th>sessionID</th>\n",
       "    </tr>\n",
       "  </thead>\n",
       "  <tbody>\n",
       "    <tr>\n",
       "      <td>0</td>\n",
       "      <td>count</td>\n",
       "      <td>10001</td>\n",
       "    </tr>\n",
       "    <tr>\n",
       "      <td>1</td>\n",
       "      <td>mean</td>\n",
       "      <td>4436.436356364364</td>\n",
       "    </tr>\n",
       "    <tr>\n",
       "      <td>2</td>\n",
       "      <td>stddev</td>\n",
       "      <td>2043.2684482891812</td>\n",
       "    </tr>\n",
       "    <tr>\n",
       "      <td>3</td>\n",
       "      <td>min</td>\n",
       "      <td>9</td>\n",
       "    </tr>\n",
       "    <tr>\n",
       "      <td>4</td>\n",
       "      <td>max</td>\n",
       "      <td>7144</td>\n",
       "    </tr>\n",
       "  </tbody>\n",
       "</table>\n",
       "</div>"
      ],
      "text/plain": [
       "  summary           sessionID\n",
       "0   count               10001\n",
       "1    mean   4436.436356364364\n",
       "2  stddev  2043.2684482891812\n",
       "3     min                   9\n",
       "4     max                7144"
      ]
     },
     "execution_count": 36,
     "metadata": {},
     "output_type": "execute_result"
    }
   ],
   "source": [
    "user_log.describe('sessionID').toPandas()"
   ]
  },
  {
   "cell_type": "markdown",
   "metadata": {},
   "source": [
    "#### counts the number of rows"
   ]
  },
  {
   "cell_type": "code",
   "execution_count": 37,
   "metadata": {},
   "outputs": [
    {
     "data": {
      "text/plain": [
       "10001"
      ]
     },
     "execution_count": 37,
     "metadata": {},
     "output_type": "execute_result"
    }
   ],
   "source": [
    "user_log.count() "
   ]
  },
  {
   "cell_type": "markdown",
   "metadata": {},
   "source": [
    "#### Get unique values in columns"
   ]
  },
  {
   "cell_type": "code",
   "execution_count": 38,
   "metadata": {},
   "outputs": [
    {
     "data": {
      "text/html": [
       "<div>\n",
       "<style scoped>\n",
       "    .dataframe tbody tr th:only-of-type {\n",
       "        vertical-align: middle;\n",
       "    }\n",
       "\n",
       "    .dataframe tbody tr th {\n",
       "        vertical-align: top;\n",
       "    }\n",
       "\n",
       "    .dataframe thead th {\n",
       "        text-align: right;\n",
       "    }\n",
       "</style>\n",
       "<table border=\"1\" class=\"dataframe\">\n",
       "  <thead>\n",
       "    <tr style=\"text-align: right;\">\n",
       "      <th></th>\n",
       "      <th>page</th>\n",
       "    </tr>\n",
       "  </thead>\n",
       "  <tbody>\n",
       "    <tr>\n",
       "      <td>0</td>\n",
       "      <td>About</td>\n",
       "    </tr>\n",
       "    <tr>\n",
       "      <td>1</td>\n",
       "      <td>Downgrade</td>\n",
       "    </tr>\n",
       "    <tr>\n",
       "      <td>2</td>\n",
       "      <td>Error</td>\n",
       "    </tr>\n",
       "    <tr>\n",
       "      <td>3</td>\n",
       "      <td>Help</td>\n",
       "    </tr>\n",
       "    <tr>\n",
       "      <td>4</td>\n",
       "      <td>Home</td>\n",
       "    </tr>\n",
       "    <tr>\n",
       "      <td>5</td>\n",
       "      <td>Login</td>\n",
       "    </tr>\n",
       "    <tr>\n",
       "      <td>6</td>\n",
       "      <td>Logout</td>\n",
       "    </tr>\n",
       "    <tr>\n",
       "      <td>7</td>\n",
       "      <td>NextSong</td>\n",
       "    </tr>\n",
       "    <tr>\n",
       "      <td>8</td>\n",
       "      <td>Save Settings</td>\n",
       "    </tr>\n",
       "    <tr>\n",
       "      <td>9</td>\n",
       "      <td>Settings</td>\n",
       "    </tr>\n",
       "    <tr>\n",
       "      <td>10</td>\n",
       "      <td>Submit Downgrade</td>\n",
       "    </tr>\n",
       "    <tr>\n",
       "      <td>11</td>\n",
       "      <td>Submit Upgrade</td>\n",
       "    </tr>\n",
       "    <tr>\n",
       "      <td>12</td>\n",
       "      <td>Upgrade</td>\n",
       "    </tr>\n",
       "  </tbody>\n",
       "</table>\n",
       "</div>"
      ],
      "text/plain": [
       "                page\n",
       "0              About\n",
       "1          Downgrade\n",
       "2              Error\n",
       "3               Help\n",
       "4               Home\n",
       "5              Login\n",
       "6             Logout\n",
       "7           NextSong\n",
       "8      Save Settings\n",
       "9           Settings\n",
       "10  Submit Downgrade\n",
       "11    Submit Upgrade\n",
       "12           Upgrade"
      ]
     },
     "execution_count": 38,
     "metadata": {},
     "output_type": "execute_result"
    }
   ],
   "source": [
    "user_log.select('page').drop_duplicates().sort('page').toPandas()"
   ]
  },
  {
   "cell_type": "markdown",
   "metadata": {},
   "source": [
    "### Filtering"
   ]
  },
  {
   "cell_type": "code",
   "execution_count": 39,
   "metadata": {},
   "outputs": [
    {
     "data": {
      "text/html": [
       "<div>\n",
       "<style scoped>\n",
       "    .dataframe tbody tr th:only-of-type {\n",
       "        vertical-align: middle;\n",
       "    }\n",
       "\n",
       "    .dataframe tbody tr th {\n",
       "        vertical-align: top;\n",
       "    }\n",
       "\n",
       "    .dataframe thead th {\n",
       "        text-align: right;\n",
       "    }\n",
       "</style>\n",
       "<table border=\"1\" class=\"dataframe\">\n",
       "  <thead>\n",
       "    <tr style=\"text-align: right;\">\n",
       "      <th></th>\n",
       "      <th>userId</th>\n",
       "      <th>firstName</th>\n",
       "      <th>page</th>\n",
       "      <th>song</th>\n",
       "    </tr>\n",
       "  </thead>\n",
       "  <tbody>\n",
       "    <tr>\n",
       "      <td>0</td>\n",
       "      <td>1046</td>\n",
       "      <td>Kenneth</td>\n",
       "      <td>NextSong</td>\n",
       "      <td>Christmas Tears Will Fall</td>\n",
       "    </tr>\n",
       "    <tr>\n",
       "      <td>1</td>\n",
       "      <td>1046</td>\n",
       "      <td>Kenneth</td>\n",
       "      <td>NextSong</td>\n",
       "      <td>Be Wary Of A Woman</td>\n",
       "    </tr>\n",
       "    <tr>\n",
       "      <td>2</td>\n",
       "      <td>1046</td>\n",
       "      <td>Kenneth</td>\n",
       "      <td>NextSong</td>\n",
       "      <td>Public Enemy No.1</td>\n",
       "    </tr>\n",
       "    <tr>\n",
       "      <td>3</td>\n",
       "      <td>1046</td>\n",
       "      <td>Kenneth</td>\n",
       "      <td>NextSong</td>\n",
       "      <td>Reign Of The Tyrants</td>\n",
       "    </tr>\n",
       "    <tr>\n",
       "      <td>4</td>\n",
       "      <td>1046</td>\n",
       "      <td>Kenneth</td>\n",
       "      <td>NextSong</td>\n",
       "      <td>Father And Son</td>\n",
       "    </tr>\n",
       "    <tr>\n",
       "      <td>5</td>\n",
       "      <td>1046</td>\n",
       "      <td>Kenneth</td>\n",
       "      <td>NextSong</td>\n",
       "      <td>No. 5</td>\n",
       "    </tr>\n",
       "    <tr>\n",
       "      <td>6</td>\n",
       "      <td>1046</td>\n",
       "      <td>Kenneth</td>\n",
       "      <td>NextSong</td>\n",
       "      <td>Seventeen</td>\n",
       "    </tr>\n",
       "    <tr>\n",
       "      <td>7</td>\n",
       "      <td>1046</td>\n",
       "      <td>Kenneth</td>\n",
       "      <td>Home</td>\n",
       "      <td>None</td>\n",
       "    </tr>\n",
       "    <tr>\n",
       "      <td>8</td>\n",
       "      <td>1046</td>\n",
       "      <td>Kenneth</td>\n",
       "      <td>NextSong</td>\n",
       "      <td>War on war</td>\n",
       "    </tr>\n",
       "    <tr>\n",
       "      <td>9</td>\n",
       "      <td>1046</td>\n",
       "      <td>Kenneth</td>\n",
       "      <td>NextSong</td>\n",
       "      <td>Killermont Street</td>\n",
       "    </tr>\n",
       "    <tr>\n",
       "      <td>10</td>\n",
       "      <td>1046</td>\n",
       "      <td>Kenneth</td>\n",
       "      <td>NextSong</td>\n",
       "      <td>Black &amp; Blue</td>\n",
       "    </tr>\n",
       "    <tr>\n",
       "      <td>11</td>\n",
       "      <td>1046</td>\n",
       "      <td>Kenneth</td>\n",
       "      <td>Logout</td>\n",
       "      <td>None</td>\n",
       "    </tr>\n",
       "    <tr>\n",
       "      <td>12</td>\n",
       "      <td>1046</td>\n",
       "      <td>Kenneth</td>\n",
       "      <td>Home</td>\n",
       "      <td>None</td>\n",
       "    </tr>\n",
       "    <tr>\n",
       "      <td>13</td>\n",
       "      <td>1046</td>\n",
       "      <td>Kenneth</td>\n",
       "      <td>NextSong</td>\n",
       "      <td>Heads Will Roll</td>\n",
       "    </tr>\n",
       "    <tr>\n",
       "      <td>14</td>\n",
       "      <td>1046</td>\n",
       "      <td>Kenneth</td>\n",
       "      <td>NextSong</td>\n",
       "      <td>Bleed It Out [Live At Milton Keynes]</td>\n",
       "    </tr>\n",
       "    <tr>\n",
       "      <td>15</td>\n",
       "      <td>1046</td>\n",
       "      <td>Kenneth</td>\n",
       "      <td>NextSong</td>\n",
       "      <td>Clocks</td>\n",
       "    </tr>\n",
       "    <tr>\n",
       "      <td>16</td>\n",
       "      <td>1046</td>\n",
       "      <td>Kenneth</td>\n",
       "      <td>NextSong</td>\n",
       "      <td>Love Rain</td>\n",
       "    </tr>\n",
       "    <tr>\n",
       "      <td>17</td>\n",
       "      <td>1046</td>\n",
       "      <td>Kenneth</td>\n",
       "      <td>NextSong</td>\n",
       "      <td>Ry Ry's Song (Album Version)</td>\n",
       "    </tr>\n",
       "    <tr>\n",
       "      <td>18</td>\n",
       "      <td>1046</td>\n",
       "      <td>Kenneth</td>\n",
       "      <td>NextSong</td>\n",
       "      <td>The Invisible Man</td>\n",
       "    </tr>\n",
       "    <tr>\n",
       "      <td>19</td>\n",
       "      <td>1046</td>\n",
       "      <td>Kenneth</td>\n",
       "      <td>NextSong</td>\n",
       "      <td>Catch You Baby (Steve Pitron &amp; Max Sanna Radio...</td>\n",
       "    </tr>\n",
       "    <tr>\n",
       "      <td>20</td>\n",
       "      <td>1046</td>\n",
       "      <td>Kenneth</td>\n",
       "      <td>NextSong</td>\n",
       "      <td>Ask The Mountains</td>\n",
       "    </tr>\n",
       "    <tr>\n",
       "      <td>21</td>\n",
       "      <td>1046</td>\n",
       "      <td>Kenneth</td>\n",
       "      <td>NextSong</td>\n",
       "      <td>Given Up (Album Version)</td>\n",
       "    </tr>\n",
       "    <tr>\n",
       "      <td>22</td>\n",
       "      <td>1046</td>\n",
       "      <td>Kenneth</td>\n",
       "      <td>NextSong</td>\n",
       "      <td>El Cuatrero</td>\n",
       "    </tr>\n",
       "    <tr>\n",
       "      <td>23</td>\n",
       "      <td>1046</td>\n",
       "      <td>Kenneth</td>\n",
       "      <td>NextSong</td>\n",
       "      <td>Hero/Heroine</td>\n",
       "    </tr>\n",
       "    <tr>\n",
       "      <td>24</td>\n",
       "      <td>1046</td>\n",
       "      <td>Kenneth</td>\n",
       "      <td>NextSong</td>\n",
       "      <td>Spring</td>\n",
       "    </tr>\n",
       "    <tr>\n",
       "      <td>25</td>\n",
       "      <td>1046</td>\n",
       "      <td>Kenneth</td>\n",
       "      <td>NextSong</td>\n",
       "      <td>Rising Moon</td>\n",
       "    </tr>\n",
       "    <tr>\n",
       "      <td>26</td>\n",
       "      <td>1046</td>\n",
       "      <td>Kenneth</td>\n",
       "      <td>NextSong</td>\n",
       "      <td>Tough Little Boys</td>\n",
       "    </tr>\n",
       "    <tr>\n",
       "      <td>27</td>\n",
       "      <td>1046</td>\n",
       "      <td>Kenneth</td>\n",
       "      <td>NextSong</td>\n",
       "      <td>Qu'Est-Ce Que T'Es Belle</td>\n",
       "    </tr>\n",
       "    <tr>\n",
       "      <td>28</td>\n",
       "      <td>1046</td>\n",
       "      <td>Kenneth</td>\n",
       "      <td>NextSong</td>\n",
       "      <td>Secrets</td>\n",
       "    </tr>\n",
       "    <tr>\n",
       "      <td>29</td>\n",
       "      <td>1046</td>\n",
       "      <td>Kenneth</td>\n",
       "      <td>NextSong</td>\n",
       "      <td>Under The Gun</td>\n",
       "    </tr>\n",
       "  </tbody>\n",
       "</table>\n",
       "</div>"
      ],
      "text/plain": [
       "   userId firstName      page  \\\n",
       "0    1046   Kenneth  NextSong   \n",
       "1    1046   Kenneth  NextSong   \n",
       "2    1046   Kenneth  NextSong   \n",
       "3    1046   Kenneth  NextSong   \n",
       "4    1046   Kenneth  NextSong   \n",
       "5    1046   Kenneth  NextSong   \n",
       "6    1046   Kenneth  NextSong   \n",
       "7    1046   Kenneth      Home   \n",
       "8    1046   Kenneth  NextSong   \n",
       "9    1046   Kenneth  NextSong   \n",
       "10   1046   Kenneth  NextSong   \n",
       "11   1046   Kenneth    Logout   \n",
       "12   1046   Kenneth      Home   \n",
       "13   1046   Kenneth  NextSong   \n",
       "14   1046   Kenneth  NextSong   \n",
       "15   1046   Kenneth  NextSong   \n",
       "16   1046   Kenneth  NextSong   \n",
       "17   1046   Kenneth  NextSong   \n",
       "18   1046   Kenneth  NextSong   \n",
       "19   1046   Kenneth  NextSong   \n",
       "20   1046   Kenneth  NextSong   \n",
       "21   1046   Kenneth  NextSong   \n",
       "22   1046   Kenneth  NextSong   \n",
       "23   1046   Kenneth  NextSong   \n",
       "24   1046   Kenneth  NextSong   \n",
       "25   1046   Kenneth  NextSong   \n",
       "26   1046   Kenneth  NextSong   \n",
       "27   1046   Kenneth  NextSong   \n",
       "28   1046   Kenneth  NextSong   \n",
       "29   1046   Kenneth  NextSong   \n",
       "\n",
       "                                                 song  \n",
       "0                           Christmas Tears Will Fall  \n",
       "1                                  Be Wary Of A Woman  \n",
       "2                                   Public Enemy No.1  \n",
       "3                                Reign Of The Tyrants  \n",
       "4                                      Father And Son  \n",
       "5                                               No. 5  \n",
       "6                                           Seventeen  \n",
       "7                                                None  \n",
       "8                                          War on war  \n",
       "9                                   Killermont Street  \n",
       "10                                       Black & Blue  \n",
       "11                                               None  \n",
       "12                                               None  \n",
       "13                                    Heads Will Roll  \n",
       "14               Bleed It Out [Live At Milton Keynes]  \n",
       "15                                             Clocks  \n",
       "16                                          Love Rain  \n",
       "17                       Ry Ry's Song (Album Version)  \n",
       "18                                  The Invisible Man  \n",
       "19  Catch You Baby (Steve Pitron & Max Sanna Radio...  \n",
       "20                                  Ask The Mountains  \n",
       "21                           Given Up (Album Version)  \n",
       "22                                        El Cuatrero  \n",
       "23                                       Hero/Heroine  \n",
       "24                                             Spring  \n",
       "25                                        Rising Moon  \n",
       "26                                  Tough Little Boys  \n",
       "27                           Qu'Est-Ce Que T'Es Belle  \n",
       "28                                            Secrets  \n",
       "29                                      Under The Gun  "
      ]
     },
     "execution_count": 39,
     "metadata": {},
     "output_type": "execute_result"
    }
   ],
   "source": [
    "user_log.select(['userId','firstName','page','song']).where(user_log.userId == '1046').toPandas()"
   ]
  },
  {
   "cell_type": "markdown",
   "metadata": {},
   "source": [
    "### Calculating Statics by Hour"
   ]
  },
  {
   "cell_type": "markdown",
   "metadata": {},
   "source": [
    "#### Grouping and datetime example"
   ]
  },
  {
   "cell_type": "code",
   "execution_count": 40,
   "metadata": {},
   "outputs": [],
   "source": [
    "get_hour = fn.udf(lambda x:datetime.datetime.fromtimestamp(x/1000.0).hour)"
   ]
  },
  {
   "cell_type": "code",
   "execution_count": 41,
   "metadata": {},
   "outputs": [],
   "source": [
    "user_log = user_log.withColumn('hour',get_hour(user_log.ts))"
   ]
  },
  {
   "cell_type": "code",
   "execution_count": 42,
   "metadata": {},
   "outputs": [
    {
     "data": {
      "text/html": [
       "<div>\n",
       "<style scoped>\n",
       "    .dataframe tbody tr th:only-of-type {\n",
       "        vertical-align: middle;\n",
       "    }\n",
       "\n",
       "    .dataframe tbody tr th {\n",
       "        vertical-align: top;\n",
       "    }\n",
       "\n",
       "    .dataframe thead th {\n",
       "        text-align: right;\n",
       "    }\n",
       "</style>\n",
       "<table border=\"1\" class=\"dataframe\">\n",
       "  <thead>\n",
       "    <tr style=\"text-align: right;\">\n",
       "      <th></th>\n",
       "      <th>artist</th>\n",
       "      <th>auth</th>\n",
       "      <th>firstName</th>\n",
       "      <th>gender</th>\n",
       "      <th>itemInSession</th>\n",
       "      <th>lastName</th>\n",
       "      <th>length</th>\n",
       "      <th>level</th>\n",
       "      <th>location</th>\n",
       "      <th>method</th>\n",
       "      <th>page</th>\n",
       "      <th>registration</th>\n",
       "      <th>sessionId</th>\n",
       "      <th>song</th>\n",
       "      <th>status</th>\n",
       "      <th>ts</th>\n",
       "      <th>userAgent</th>\n",
       "      <th>userId</th>\n",
       "      <th>hour</th>\n",
       "    </tr>\n",
       "  </thead>\n",
       "  <tbody>\n",
       "    <tr>\n",
       "      <td>0</td>\n",
       "      <td>Showaddywaddy</td>\n",
       "      <td>Logged In</td>\n",
       "      <td>Kenneth</td>\n",
       "      <td>M</td>\n",
       "      <td>112</td>\n",
       "      <td>Matthews</td>\n",
       "      <td>232.93342</td>\n",
       "      <td>paid</td>\n",
       "      <td>Charlotte-Concord-Gastonia, NC-SC</td>\n",
       "      <td>PUT</td>\n",
       "      <td>NextSong</td>\n",
       "      <td>1509380319284</td>\n",
       "      <td>5132</td>\n",
       "      <td>Christmas Tears Will Fall</td>\n",
       "      <td>200</td>\n",
       "      <td>1513720872284</td>\n",
       "      <td>\"Mozilla/5.0 (Windows NT 6.1) AppleWebKit/537....</td>\n",
       "      <td>1046</td>\n",
       "      <td>22</td>\n",
       "    </tr>\n",
       "    <tr>\n",
       "      <td>1</td>\n",
       "      <td>Lily Allen</td>\n",
       "      <td>Logged In</td>\n",
       "      <td>Elizabeth</td>\n",
       "      <td>F</td>\n",
       "      <td>7</td>\n",
       "      <td>Chase</td>\n",
       "      <td>195.23873</td>\n",
       "      <td>free</td>\n",
       "      <td>Shreveport-Bossier City, LA</td>\n",
       "      <td>PUT</td>\n",
       "      <td>NextSong</td>\n",
       "      <td>1512718541284</td>\n",
       "      <td>5027</td>\n",
       "      <td>Cheryl Tweedy</td>\n",
       "      <td>200</td>\n",
       "      <td>1513720878284</td>\n",
       "      <td>\"Mozilla/5.0 (Windows NT 6.1) AppleWebKit/537....</td>\n",
       "      <td>1000</td>\n",
       "      <td>22</td>\n",
       "    </tr>\n",
       "    <tr>\n",
       "      <td>2</td>\n",
       "      <td>Cobra Starship Featuring Leighton Meester</td>\n",
       "      <td>Logged In</td>\n",
       "      <td>Vera</td>\n",
       "      <td>F</td>\n",
       "      <td>6</td>\n",
       "      <td>Blackwell</td>\n",
       "      <td>196.20526</td>\n",
       "      <td>paid</td>\n",
       "      <td>Racine, WI</td>\n",
       "      <td>PUT</td>\n",
       "      <td>NextSong</td>\n",
       "      <td>1499855749284</td>\n",
       "      <td>5516</td>\n",
       "      <td>Good Girls Go Bad (Feat.Leighton Meester) (Alb...</td>\n",
       "      <td>200</td>\n",
       "      <td>1513720881284</td>\n",
       "      <td>\"Mozilla/5.0 (Macintosh; Intel Mac OS X 10_9_4...</td>\n",
       "      <td>2219</td>\n",
       "      <td>22</td>\n",
       "    </tr>\n",
       "    <tr>\n",
       "      <td>3</td>\n",
       "      <td>Alex Smoke</td>\n",
       "      <td>Logged In</td>\n",
       "      <td>Sophee</td>\n",
       "      <td>F</td>\n",
       "      <td>8</td>\n",
       "      <td>Barker</td>\n",
       "      <td>405.99465</td>\n",
       "      <td>paid</td>\n",
       "      <td>San Luis Obispo-Paso Robles-Arroyo Grande, CA</td>\n",
       "      <td>PUT</td>\n",
       "      <td>NextSong</td>\n",
       "      <td>1513009647284</td>\n",
       "      <td>2372</td>\n",
       "      <td>Don't See The Point</td>\n",
       "      <td>200</td>\n",
       "      <td>1513720905284</td>\n",
       "      <td>\"Mozilla/5.0 (Windows NT 6.1; WOW64) AppleWebK...</td>\n",
       "      <td>2373</td>\n",
       "      <td>22</td>\n",
       "    </tr>\n",
       "    <tr>\n",
       "      <td>4</td>\n",
       "      <td>None</td>\n",
       "      <td>Logged In</td>\n",
       "      <td>Jordyn</td>\n",
       "      <td>F</td>\n",
       "      <td>0</td>\n",
       "      <td>Jones</td>\n",
       "      <td>NaN</td>\n",
       "      <td>free</td>\n",
       "      <td>Syracuse, NY</td>\n",
       "      <td>GET</td>\n",
       "      <td>Home</td>\n",
       "      <td>1513648531284</td>\n",
       "      <td>1746</td>\n",
       "      <td>None</td>\n",
       "      <td>200</td>\n",
       "      <td>1513720913284</td>\n",
       "      <td>\"Mozilla/5.0 (Macintosh; Intel Mac OS X 10_9_4...</td>\n",
       "      <td>1747</td>\n",
       "      <td>22</td>\n",
       "    </tr>\n",
       "    <tr>\n",
       "      <td>5</td>\n",
       "      <td>None</td>\n",
       "      <td>Logged In</td>\n",
       "      <td>Jordyn</td>\n",
       "      <td>F</td>\n",
       "      <td>1</td>\n",
       "      <td>Jones</td>\n",
       "      <td>NaN</td>\n",
       "      <td>free</td>\n",
       "      <td>Syracuse, NY</td>\n",
       "      <td>GET</td>\n",
       "      <td>Settings</td>\n",
       "      <td>1513648531284</td>\n",
       "      <td>1746</td>\n",
       "      <td>None</td>\n",
       "      <td>200</td>\n",
       "      <td>1513720932284</td>\n",
       "      <td>\"Mozilla/5.0 (Macintosh; Intel Mac OS X 10_9_4...</td>\n",
       "      <td>1747</td>\n",
       "      <td>22</td>\n",
       "    </tr>\n",
       "    <tr>\n",
       "      <td>6</td>\n",
       "      <td>Redman</td>\n",
       "      <td>Logged In</td>\n",
       "      <td>Paige</td>\n",
       "      <td>F</td>\n",
       "      <td>0</td>\n",
       "      <td>Hunter</td>\n",
       "      <td>154.53995</td>\n",
       "      <td>free</td>\n",
       "      <td>Brownwood, TX</td>\n",
       "      <td>PUT</td>\n",
       "      <td>NextSong</td>\n",
       "      <td>1498414068284</td>\n",
       "      <td>4406</td>\n",
       "      <td>Smoke Buddah</td>\n",
       "      <td>200</td>\n",
       "      <td>1513720955284</td>\n",
       "      <td>\"Mozilla/5.0 (Macintosh; Intel Mac OS X 10_9_4...</td>\n",
       "      <td>1162</td>\n",
       "      <td>22</td>\n",
       "    </tr>\n",
       "    <tr>\n",
       "      <td>7</td>\n",
       "      <td>Ulrich Schnauss</td>\n",
       "      <td>Logged In</td>\n",
       "      <td>Gabriel</td>\n",
       "      <td>M</td>\n",
       "      <td>2</td>\n",
       "      <td>Koch</td>\n",
       "      <td>402.93832</td>\n",
       "      <td>paid</td>\n",
       "      <td>Panama City, FL</td>\n",
       "      <td>PUT</td>\n",
       "      <td>NextSong</td>\n",
       "      <td>1505820418284</td>\n",
       "      <td>1060</td>\n",
       "      <td>On My Own</td>\n",
       "      <td>200</td>\n",
       "      <td>1513720959284</td>\n",
       "      <td>Mozilla/5.0 (Windows NT 6.1; WOW64; rv:32.0) G...</td>\n",
       "      <td>1061</td>\n",
       "      <td>22</td>\n",
       "    </tr>\n",
       "    <tr>\n",
       "      <td>8</td>\n",
       "      <td>None</td>\n",
       "      <td>Logged In</td>\n",
       "      <td>Mason</td>\n",
       "      <td>M</td>\n",
       "      <td>2</td>\n",
       "      <td>Thomas</td>\n",
       "      <td>NaN</td>\n",
       "      <td>paid</td>\n",
       "      <td>Indianapolis-Carmel-Anderson, IN</td>\n",
       "      <td>GET</td>\n",
       "      <td>Home</td>\n",
       "      <td>1487015656284</td>\n",
       "      <td>5661</td>\n",
       "      <td>None</td>\n",
       "      <td>200</td>\n",
       "      <td>1513720959284</td>\n",
       "      <td>Mozilla/5.0 (compatible; MSIE 10.0; Windows NT...</td>\n",
       "      <td>748</td>\n",
       "      <td>22</td>\n",
       "    </tr>\n",
       "    <tr>\n",
       "      <td>9</td>\n",
       "      <td>None</td>\n",
       "      <td>Logged In</td>\n",
       "      <td>Alexander</td>\n",
       "      <td>M</td>\n",
       "      <td>0</td>\n",
       "      <td>Short</td>\n",
       "      <td>NaN</td>\n",
       "      <td>free</td>\n",
       "      <td>Green Bay, WI</td>\n",
       "      <td>GET</td>\n",
       "      <td>Home</td>\n",
       "      <td>1513594398284</td>\n",
       "      <td>3689</td>\n",
       "      <td>None</td>\n",
       "      <td>200</td>\n",
       "      <td>1513720980284</td>\n",
       "      <td>\"Mozilla/5.0 (Windows NT 6.1; WOW64) AppleWebK...</td>\n",
       "      <td>597</td>\n",
       "      <td>22</td>\n",
       "    </tr>\n",
       "  </tbody>\n",
       "</table>\n",
       "</div>"
      ],
      "text/plain": [
       "                                      artist       auth  firstName gender  \\\n",
       "0                              Showaddywaddy  Logged In    Kenneth      M   \n",
       "1                                 Lily Allen  Logged In  Elizabeth      F   \n",
       "2  Cobra Starship Featuring Leighton Meester  Logged In       Vera      F   \n",
       "3                                 Alex Smoke  Logged In     Sophee      F   \n",
       "4                                       None  Logged In     Jordyn      F   \n",
       "5                                       None  Logged In     Jordyn      F   \n",
       "6                                     Redman  Logged In      Paige      F   \n",
       "7                            Ulrich Schnauss  Logged In    Gabriel      M   \n",
       "8                                       None  Logged In      Mason      M   \n",
       "9                                       None  Logged In  Alexander      M   \n",
       "\n",
       "   itemInSession   lastName     length level  \\\n",
       "0            112   Matthews  232.93342  paid   \n",
       "1              7      Chase  195.23873  free   \n",
       "2              6  Blackwell  196.20526  paid   \n",
       "3              8     Barker  405.99465  paid   \n",
       "4              0      Jones        NaN  free   \n",
       "5              1      Jones        NaN  free   \n",
       "6              0     Hunter  154.53995  free   \n",
       "7              2       Koch  402.93832  paid   \n",
       "8              2     Thomas        NaN  paid   \n",
       "9              0      Short        NaN  free   \n",
       "\n",
       "                                        location method      page  \\\n",
       "0              Charlotte-Concord-Gastonia, NC-SC    PUT  NextSong   \n",
       "1                    Shreveport-Bossier City, LA    PUT  NextSong   \n",
       "2                                     Racine, WI    PUT  NextSong   \n",
       "3  San Luis Obispo-Paso Robles-Arroyo Grande, CA    PUT  NextSong   \n",
       "4                                   Syracuse, NY    GET      Home   \n",
       "5                                   Syracuse, NY    GET  Settings   \n",
       "6                                  Brownwood, TX    PUT  NextSong   \n",
       "7                                Panama City, FL    PUT  NextSong   \n",
       "8               Indianapolis-Carmel-Anderson, IN    GET      Home   \n",
       "9                                  Green Bay, WI    GET      Home   \n",
       "\n",
       "    registration  sessionId  \\\n",
       "0  1509380319284       5132   \n",
       "1  1512718541284       5027   \n",
       "2  1499855749284       5516   \n",
       "3  1513009647284       2372   \n",
       "4  1513648531284       1746   \n",
       "5  1513648531284       1746   \n",
       "6  1498414068284       4406   \n",
       "7  1505820418284       1060   \n",
       "8  1487015656284       5661   \n",
       "9  1513594398284       3689   \n",
       "\n",
       "                                                song  status             ts  \\\n",
       "0                          Christmas Tears Will Fall     200  1513720872284   \n",
       "1                                      Cheryl Tweedy     200  1513720878284   \n",
       "2  Good Girls Go Bad (Feat.Leighton Meester) (Alb...     200  1513720881284   \n",
       "3                                Don't See The Point     200  1513720905284   \n",
       "4                                               None     200  1513720913284   \n",
       "5                                               None     200  1513720932284   \n",
       "6                                       Smoke Buddah     200  1513720955284   \n",
       "7                                          On My Own     200  1513720959284   \n",
       "8                                               None     200  1513720959284   \n",
       "9                                               None     200  1513720980284   \n",
       "\n",
       "                                           userAgent userId hour  \n",
       "0  \"Mozilla/5.0 (Windows NT 6.1) AppleWebKit/537....   1046   22  \n",
       "1  \"Mozilla/5.0 (Windows NT 6.1) AppleWebKit/537....   1000   22  \n",
       "2  \"Mozilla/5.0 (Macintosh; Intel Mac OS X 10_9_4...   2219   22  \n",
       "3  \"Mozilla/5.0 (Windows NT 6.1; WOW64) AppleWebK...   2373   22  \n",
       "4  \"Mozilla/5.0 (Macintosh; Intel Mac OS X 10_9_4...   1747   22  \n",
       "5  \"Mozilla/5.0 (Macintosh; Intel Mac OS X 10_9_4...   1747   22  \n",
       "6  \"Mozilla/5.0 (Macintosh; Intel Mac OS X 10_9_4...   1162   22  \n",
       "7  Mozilla/5.0 (Windows NT 6.1; WOW64; rv:32.0) G...   1061   22  \n",
       "8  Mozilla/5.0 (compatible; MSIE 10.0; Windows NT...    748   22  \n",
       "9  \"Mozilla/5.0 (Windows NT 6.1; WOW64) AppleWebK...    597   22  "
      ]
     },
     "execution_count": 42,
     "metadata": {},
     "output_type": "execute_result"
    }
   ],
   "source": [
    "user_log.limit(10).toPandas()"
   ]
  },
  {
   "cell_type": "code",
   "execution_count": 43,
   "metadata": {},
   "outputs": [],
   "source": [
    "songs_in_hour = user_log.filter(user_log.page == 'NextSong').groupby(user_log.hour).count().orderBy(user_log.hour.cast('float'))"
   ]
  },
  {
   "cell_type": "code",
   "execution_count": 44,
   "metadata": {},
   "outputs": [],
   "source": [
    "songs_in_hour_pd = songs_in_hour.toPandas()"
   ]
  },
  {
   "cell_type": "code",
   "execution_count": 45,
   "metadata": {},
   "outputs": [],
   "source": [
    "songs_in_hour_pd.hour = songs_in_hour_pd.hour.astype('int')"
   ]
  },
  {
   "cell_type": "code",
   "execution_count": 46,
   "metadata": {},
   "outputs": [
    {
     "data": {
      "text/plain": [
       "Text(0, 0.5, 'Songs played')"
      ]
     },
     "execution_count": 46,
     "metadata": {},
     "output_type": "execute_result"
    },
    {
     "data": {
      "image/png": "[encoded data removed]",
      "text/plain": [
       "<Figure size 432x288 with 1 Axes>"
      ]
     },
     "metadata": {
      "needs_background": "light"
     },
     "output_type": "display_data"
    }
   ],
   "source": [
    "songs_in_hour_pd.plot('hour','count',kind='scatter',xticks=range(0,24))\n",
    "plt.ylabel('Songs played')"
   ]
  },
  {
   "cell_type": "markdown",
   "metadata": {},
   "source": [
    "### Drop Rows with Missing Values\n",
    "\n",
    "As you'll see, it turns out there are no missing values in the userID or session columns. But there are userID values that are empty strings."
   ]
  },
  {
   "cell_type": "code",
   "execution_count": 47,
   "metadata": {},
   "outputs": [],
   "source": [
    "user_log_valid = user_log.dropna(subset=['userId','sessionId'])"
   ]
  },
  {
   "cell_type": "code",
   "execution_count": 48,
   "metadata": {},
   "outputs": [
    {
     "data": {
      "text/plain": [
       "10001"
      ]
     },
     "execution_count": 48,
     "metadata": {},
     "output_type": "execute_result"
    }
   ],
   "source": [
    "user_log_valid.count()"
   ]
  },
  {
   "cell_type": "code",
   "execution_count": 49,
   "metadata": {},
   "outputs": [
    {
     "name": "stdout",
     "output_type": "stream",
     "text": [
      "+------+\n",
      "|userId|\n",
      "+------+\n",
      "|      |\n",
      "|    10|\n",
      "|   100|\n",
      "|  1000|\n",
      "|  1003|\n",
      "|  1005|\n",
      "|  1006|\n",
      "|  1017|\n",
      "|  1019|\n",
      "|  1020|\n",
      "|  1022|\n",
      "|  1025|\n",
      "|  1030|\n",
      "|  1035|\n",
      "|  1037|\n",
      "|   104|\n",
      "|  1040|\n",
      "|  1042|\n",
      "|  1043|\n",
      "|  1046|\n",
      "+------+\n",
      "only showing top 20 rows\n",
      "\n"
     ]
    }
   ],
   "source": [
    "user_log.select('userId').drop_duplicates().sort('userId').show()"
   ]
  },
  {
   "cell_type": "markdown",
   "metadata": {},
   "source": [
    "As it can be seen that 1st entry is blank. let's apply the filter"
   ]
  },
  {
   "cell_type": "code",
   "execution_count": 50,
   "metadata": {},
   "outputs": [],
   "source": [
    "user_log_valid = user_log_valid.filter(user_log_valid.userId !='')"
   ]
  },
  {
   "cell_type": "code",
   "execution_count": 51,
   "metadata": {},
   "outputs": [
    {
     "data": {
      "text/plain": [
       "9665"
      ]
     },
     "execution_count": 51,
     "metadata": {},
     "output_type": "execute_result"
    }
   ],
   "source": [
    "user_log_valid.count()"
   ]
  },
  {
   "cell_type": "markdown",
   "metadata": {},
   "source": [
    "### Users Downgrade Their Accounts\n",
    "\n",
    "Find when users downgrade their accounts and then flag those log entries. Then use a window function and cumulative sum to distinguish each user's data as either pre or post downgrade events."
   ]
  },
  {
   "cell_type": "code",
   "execution_count": 52,
   "metadata": {},
   "outputs": [
    {
     "data": {
      "text/html": [
       "<div>\n",
       "<style scoped>\n",
       "    .dataframe tbody tr th:only-of-type {\n",
       "        vertical-align: middle;\n",
       "    }\n",
       "\n",
       "    .dataframe tbody tr th {\n",
       "        vertical-align: top;\n",
       "    }\n",
       "\n",
       "    .dataframe thead th {\n",
       "        text-align: right;\n",
       "    }\n",
       "</style>\n",
       "<table border=\"1\" class=\"dataframe\">\n",
       "  <thead>\n",
       "    <tr style=\"text-align: right;\">\n",
       "      <th></th>\n",
       "      <th>artist</th>\n",
       "      <th>auth</th>\n",
       "      <th>firstName</th>\n",
       "      <th>gender</th>\n",
       "      <th>itemInSession</th>\n",
       "      <th>lastName</th>\n",
       "      <th>length</th>\n",
       "      <th>level</th>\n",
       "      <th>location</th>\n",
       "      <th>method</th>\n",
       "      <th>page</th>\n",
       "      <th>registration</th>\n",
       "      <th>sessionId</th>\n",
       "      <th>song</th>\n",
       "      <th>status</th>\n",
       "      <th>ts</th>\n",
       "      <th>userAgent</th>\n",
       "      <th>userId</th>\n",
       "      <th>hour</th>\n",
       "    </tr>\n",
       "  </thead>\n",
       "  <tbody>\n",
       "    <tr>\n",
       "      <td>0</td>\n",
       "      <td>None</td>\n",
       "      <td>Logged In</td>\n",
       "      <td>Kelly</td>\n",
       "      <td>F</td>\n",
       "      <td>24</td>\n",
       "      <td>Newton</td>\n",
       "      <td>None</td>\n",
       "      <td>paid</td>\n",
       "      <td>Houston-The Woodlands-Sugar Land, TX</td>\n",
       "      <td>PUT</td>\n",
       "      <td>Submit Downgrade</td>\n",
       "      <td>1513283366284</td>\n",
       "      <td>5931</td>\n",
       "      <td>None</td>\n",
       "      <td>307</td>\n",
       "      <td>1513768454284</td>\n",
       "      <td>Mozilla/5.0 (Windows NT 6.1; WOW64; rv:31.0) G...</td>\n",
       "      <td>1138</td>\n",
       "      <td>11</td>\n",
       "    </tr>\n",
       "  </tbody>\n",
       "</table>\n",
       "</div>"
      ],
      "text/plain": [
       "  artist       auth firstName gender  itemInSession lastName length level  \\\n",
       "0   None  Logged In     Kelly      F             24   Newton   None  paid   \n",
       "\n",
       "                               location method              page  \\\n",
       "0  Houston-The Woodlands-Sugar Land, TX    PUT  Submit Downgrade   \n",
       "\n",
       "    registration  sessionId  song  status             ts  \\\n",
       "0  1513283366284       5931  None     307  1513768454284   \n",
       "\n",
       "                                           userAgent userId hour  \n",
       "0  Mozilla/5.0 (Windows NT 6.1; WOW64; rv:31.0) G...   1138   11  "
      ]
     },
     "execution_count": 52,
     "metadata": {},
     "output_type": "execute_result"
    }
   ],
   "source": [
    "user_log_valid.filter(\"page = 'Submit Downgrade'\").toPandas()"
   ]
  },
  {
   "cell_type": "code",
   "execution_count": 53,
   "metadata": {},
   "outputs": [
    {
     "data": {
      "text/plain": [
       "[Row(userId='1138', firstname='Kelly', page='Home', level='paid', song=None),\n",
       " Row(userId='1138', firstname='Kelly', page='NextSong', level='paid', song='Everybody Everybody'),\n",
       " Row(userId='1138', firstname='Kelly', page='NextSong', level='paid', song='Gears'),\n",
       " Row(userId='1138', firstname='Kelly', page='NextSong', level='paid', song='Use Somebody'),\n",
       " Row(userId='1138', firstname='Kelly', page='NextSong', level='paid', song='Love Of My Life (1993 Digital Remaster)'),\n",
       " Row(userId='1138', firstname='Kelly', page='NextSong', level='paid', song='Down In The Valley Woe'),\n",
       " Row(userId='1138', firstname='Kelly', page='NextSong', level='paid', song='Treat Her Like A Lady'),\n",
       " Row(userId='1138', firstname='Kelly', page='NextSong', level='paid', song=\"Everybody Thinks You're An Angel\"),\n",
       " Row(userId='1138', firstname='Kelly', page='NextSong', level='paid', song='Fourteen Wives'),\n",
       " Row(userId='1138', firstname='Kelly', page='NextSong', level='paid', song='Love On The Rocks'),\n",
       " Row(userId='1138', firstname='Kelly', page='NextSong', level='paid', song='Breakeven'),\n",
       " Row(userId='1138', firstname='Kelly', page='NextSong', level='paid', song='Leaf House'),\n",
       " Row(userId='1138', firstname='Kelly', page='NextSong', level='paid', song='NAISEN KANSSA'),\n",
       " Row(userId='1138', firstname='Kelly', page='NextSong', level='paid', song=\"You're In My Heart\"),\n",
       " Row(userId='1138', firstname='Kelly', page='NextSong', level='paid', song='Roll On Down The Highway'),\n",
       " Row(userId='1138', firstname='Kelly', page='NextSong', level='paid', song='Plasticities (Remix)'),\n",
       " Row(userId='1138', firstname='Kelly', page='NextSong', level='paid', song='Secrets'),\n",
       " Row(userId='1138', firstname='Kelly', page='NextSong', level='paid', song='Hello'),\n",
       " Row(userId='1138', firstname='Kelly', page='NextSong', level='paid', song='I Never Told You'),\n",
       " Row(userId='1138', firstname='Kelly', page='NextSong', level='paid', song='Love Break Me'),\n",
       " Row(userId='1138', firstname='Kelly', page='NextSong', level='paid', song='One Touch One Bounce'),\n",
       " Row(userId='1138', firstname='Kelly', page='NextSong', level='paid', song='Undo'),\n",
       " Row(userId='1138', firstname='Kelly', page='NextSong', level='paid', song='Overdue (Blackbeard Remix)'),\n",
       " Row(userId='1138', firstname='Kelly', page='NextSong', level='paid', song='Slave To Love (1999 Digital Remaster)'),\n",
       " Row(userId='1138', firstname='Kelly', page='NextSong', level='paid', song='Stronger'),\n",
       " Row(userId='1138', firstname='Kelly', page='NextSong', level='paid', song='All Of Us (Album Version)'),\n",
       " Row(userId='1138', firstname='Kelly', page='NextSong', level='paid', song='Sehr kosmisch'),\n",
       " Row(userId='1138', firstname='Kelly', page='NextSong', level='paid', song='March Of The Celts'),\n",
       " Row(userId='1138', firstname='Kelly', page='NextSong', level='paid', song='Electricity'),\n",
       " Row(userId='1138', firstname='Kelly', page='NextSong', level='paid', song='Aces High'),\n",
       " Row(userId='1138', firstname='Kelly', page='NextSong', level='paid', song='Bananeira'),\n",
       " Row(userId='1138', firstname='Kelly', page='NextSong', level='paid', song='The General'),\n",
       " Row(userId='1138', firstname='Kelly', page='NextSong', level='paid', song='HÃ\\x83Â©roe De Leyenda (VersiÃ\\x83Â³n Maxi)'),\n",
       " Row(userId='1138', firstname='Kelly', page='NextSong', level='paid', song=\"Don't Stop The Music\"),\n",
       " Row(userId='1138', firstname='Kelly', page='NextSong', level='paid', song=\"You're The One\"),\n",
       " Row(userId='1138', firstname='Kelly', page='NextSong', level='paid', song='Entering White Cecilia'),\n",
       " Row(userId='1138', firstname='Kelly', page='NextSong', level='paid', song='Piccolo Cesare'),\n",
       " Row(userId='1138', firstname='Kelly', page='Help', level='paid', song=None),\n",
       " Row(userId='1138', firstname='Kelly', page='NextSong', level='paid', song='Last Christmas (Album Version)'),\n",
       " Row(userId='1138', firstname='Kelly', page='NextSong', level='paid', song='You Shook Me'),\n",
       " Row(userId='1138', firstname='Kelly', page='NextSong', level='paid', song='Going Steady'),\n",
       " Row(userId='1138', firstname='Kelly', page='NextSong', level='paid', song='My Name Is'),\n",
       " Row(userId='1138', firstname='Kelly', page='NextSong', level='paid', song='Undo'),\n",
       " Row(userId='1138', firstname='Kelly', page='NextSong', level='paid', song='Secrets'),\n",
       " Row(userId='1138', firstname='Kelly', page='NextSong', level='paid', song='Good Times Gone (Album Version)'),\n",
       " Row(userId='1138', firstname='Kelly', page='NextSong', level='paid', song='Angelito'),\n",
       " Row(userId='1138', firstname='Kelly', page='NextSong', level='paid', song='Batdance ( LP Version )'),\n",
       " Row(userId='1138', firstname='Kelly', page='Home', level='paid', song=None),\n",
       " Row(userId='1138', firstname='Kelly', page='NextSong', level='paid', song='DiÃ\\x83Â¡kdal'),\n",
       " Row(userId='1138', firstname='Kelly', page='NextSong', level='paid', song='Whirring'),\n",
       " Row(userId='1138', firstname='Kelly', page='NextSong', level='paid', song='Potholderz (feat. Count Bass D)'),\n",
       " Row(userId='1138', firstname='Kelly', page='NextSong', level='paid', song='Seaside'),\n",
       " Row(userId='1138', firstname='Kelly', page='NextSong', level='paid', song='Louder Than A Bomb'),\n",
       " Row(userId='1138', firstname='Kelly', page='NextSong', level='paid', song='Just Like You'),\n",
       " Row(userId='1138', firstname='Kelly', page='NextSong', level='paid', song=\"You're The One\"),\n",
       " Row(userId='1138', firstname='Kelly', page='NextSong', level='paid', song='Turn It Again (Album Version)'),\n",
       " Row(userId='1138', firstname='Kelly', page='NextSong', level='paid', song='Everywhere I Go'),\n",
       " Row(userId='1138', firstname='Kelly', page='NextSong', level='paid', song=\"Easy Skankin'\"),\n",
       " Row(userId='1138', firstname='Kelly', page='NextSong', level='paid', song='Roses'),\n",
       " Row(userId='1138', firstname='Kelly', page='NextSong', level='paid', song='Killing Me Softly With His Song'),\n",
       " Row(userId='1138', firstname='Kelly', page='NextSong', level='paid', song='The Razor (Album Version)'),\n",
       " Row(userId='1138', firstname='Kelly', page='NextSong', level='paid', song='Idols and Anchors'),\n",
       " Row(userId='1138', firstname='Kelly', page='Downgrade', level='paid', song=None),\n",
       " Row(userId='1138', firstname='Kelly', page='Submit Downgrade', level='paid', song=None),\n",
       " Row(userId='1138', firstname='Kelly', page='Home', level='free', song=None),\n",
       " Row(userId='1138', firstname='Kelly', page='NextSong', level='free', song='Bones'),\n",
       " Row(userId='1138', firstname='Kelly', page='Home', level='free', song=None),\n",
       " Row(userId='1138', firstname='Kelly', page='NextSong', level='free', song='Grenouilles Mantidactylus (Small Frogs)')]"
      ]
     },
     "execution_count": 53,
     "metadata": {},
     "output_type": "execute_result"
    }
   ],
   "source": [
    "user_log_valid.select(['userId','firstname','page','level','song']).where(user_log_valid.userId == '1138').collect()"
   ]
  },
  {
   "cell_type": "code",
   "execution_count": 54,
   "metadata": {},
   "outputs": [],
   "source": [
    "flag_downgrade_event = fn.udf(lambda x: 1 if x == 'Submit Downgrade' else 0,typ.IntegerType())"
   ]
  },
  {
   "cell_type": "code",
   "execution_count": 55,
   "metadata": {},
   "outputs": [],
   "source": [
    "user_log_valid = user_log_valid.withColumn('downgraded',flag_downgrade_event('page'))"
   ]
  },
  {
   "cell_type": "code",
   "execution_count": 56,
   "metadata": {},
   "outputs": [
    {
     "data": {
      "text/plain": [
       "Row(artist='Showaddywaddy', auth='Logged In', firstName='Kenneth', gender='M', itemInSession=112, lastName='Matthews', length=232.93342, level='paid', location='Charlotte-Concord-Gastonia, NC-SC', method='PUT', page='NextSong', registration=1509380319284, sessionId=5132, song='Christmas Tears Will Fall', status=200, ts=1513720872284, userAgent='\"Mozilla/5.0 (Windows NT 6.1) AppleWebKit/537.36 (KHTML, like Gecko) Chrome/36.0.1985.125 Safari/537.36\"', userId='1046', hour='22', downgraded=0)"
      ]
     },
     "execution_count": 56,
     "metadata": {},
     "output_type": "execute_result"
    }
   ],
   "source": [
    "user_log_valid.head()"
   ]
  },
  {
   "cell_type": "code",
   "execution_count": 57,
   "metadata": {},
   "outputs": [],
   "source": [
    "from pyspark.sql import Window"
   ]
  },
  {
   "cell_type": "code",
   "execution_count": 58,
   "metadata": {},
   "outputs": [],
   "source": [
    "windowval = Window.partitionBy('userId').orderBy(fn.desc('ts')).rangeBetween(Window.unboundedPreceding, 0)"
   ]
  },
  {
   "cell_type": "code",
   "execution_count": 59,
   "metadata": {},
   "outputs": [],
   "source": [
    "user_log_valid = user_log_valid.withColumn('phase', fn.sum('downgraded').over(windowval))"
   ]
  },
  {
   "cell_type": "code",
   "execution_count": 60,
   "metadata": {},
   "outputs": [
    {
     "data": {
      "text/plain": [
       "[Row(userId='1138', firstname='Kelly', page='Home', level='paid', song=None, ts=1513729066284, phase=1),\n",
       " Row(userId='1138', firstname='Kelly', page='NextSong', level='paid', song='Everybody Everybody', ts=1513729066284, phase=1),\n",
       " Row(userId='1138', firstname='Kelly', page='NextSong', level='paid', song='Gears', ts=1513729313284, phase=1),\n",
       " Row(userId='1138', firstname='Kelly', page='NextSong', level='paid', song='Use Somebody', ts=1513729552284, phase=1),\n",
       " Row(userId='1138', firstname='Kelly', page='NextSong', level='paid', song='Love Of My Life (1993 Digital Remaster)', ts=1513729783284, phase=1),\n",
       " Row(userId='1138', firstname='Kelly', page='NextSong', level='paid', song='Down In The Valley Woe', ts=1513730001284, phase=1),\n",
       " Row(userId='1138', firstname='Kelly', page='NextSong', level='paid', song='Treat Her Like A Lady', ts=1513730263284, phase=1),\n",
       " Row(userId='1138', firstname='Kelly', page='NextSong', level='paid', song=\"Everybody Thinks You're An Angel\", ts=1513730518284, phase=1),\n",
       " Row(userId='1138', firstname='Kelly', page='NextSong', level='paid', song='Fourteen Wives', ts=1513730768284, phase=1),\n",
       " Row(userId='1138', firstname='Kelly', page='NextSong', level='paid', song='Love On The Rocks', ts=1513731182284, phase=1),\n",
       " Row(userId='1138', firstname='Kelly', page='NextSong', level='paid', song='Breakeven', ts=1513731435284, phase=1),\n",
       " Row(userId='1138', firstname='Kelly', page='NextSong', level='paid', song='Leaf House', ts=1513731695284, phase=1),\n",
       " Row(userId='1138', firstname='Kelly', page='NextSong', level='paid', song='NAISEN KANSSA', ts=1513731857284, phase=1),\n",
       " Row(userId='1138', firstname='Kelly', page='NextSong', level='paid', song=\"You're In My Heart\", ts=1513732160284, phase=1),\n",
       " Row(userId='1138', firstname='Kelly', page='NextSong', level='paid', song='Roll On Down The Highway', ts=1513732302284, phase=1),\n",
       " Row(userId='1138', firstname='Kelly', page='NextSong', level='paid', song='Plasticities (Remix)', ts=1513732540284, phase=1),\n",
       " Row(userId='1138', firstname='Kelly', page='NextSong', level='paid', song='Secrets', ts=1513732770284, phase=1),\n",
       " Row(userId='1138', firstname='Kelly', page='NextSong', level='paid', song='Hello', ts=1513732994284, phase=1),\n",
       " Row(userId='1138', firstname='Kelly', page='NextSong', level='paid', song='I Never Told You', ts=1513733223284, phase=1),\n",
       " Row(userId='1138', firstname='Kelly', page='NextSong', level='paid', song='Love Break Me', ts=1513733456284, phase=1),\n",
       " Row(userId='1138', firstname='Kelly', page='NextSong', level='paid', song='One Touch One Bounce', ts=1513733738284, phase=1),\n",
       " Row(userId='1138', firstname='Kelly', page='NextSong', level='paid', song='Undo', ts=1513733941284, phase=1),\n",
       " Row(userId='1138', firstname='Kelly', page='NextSong', level='paid', song='Overdue (Blackbeard Remix)', ts=1513734289284, phase=1),\n",
       " Row(userId='1138', firstname='Kelly', page='NextSong', level='paid', song='Slave To Love (1999 Digital Remaster)', ts=1513734598284, phase=1),\n",
       " Row(userId='1138', firstname='Kelly', page='NextSong', level='paid', song='Stronger', ts=1513734863284, phase=1),\n",
       " Row(userId='1138', firstname='Kelly', page='NextSong', level='paid', song='All Of Us (Album Version)', ts=1513735174284, phase=1),\n",
       " Row(userId='1138', firstname='Kelly', page='NextSong', level='paid', song='Sehr kosmisch', ts=1513735385284, phase=1),\n",
       " Row(userId='1138', firstname='Kelly', page='NextSong', level='paid', song='March Of The Celts', ts=1513736040284, phase=1),\n",
       " Row(userId='1138', firstname='Kelly', page='NextSong', level='paid', song='Electricity', ts=1513736237284, phase=1),\n",
       " Row(userId='1138', firstname='Kelly', page='NextSong', level='paid', song='Aces High', ts=1513736446284, phase=1),\n",
       " Row(userId='1138', firstname='Kelly', page='NextSong', level='paid', song='Bananeira', ts=1513736709284, phase=1),\n",
       " Row(userId='1138', firstname='Kelly', page='NextSong', level='paid', song='The General', ts=1513736915284, phase=1),\n",
       " Row(userId='1138', firstname='Kelly', page='NextSong', level='paid', song='HÃ\\x83Â©roe De Leyenda (VersiÃ\\x83Â³n Maxi)', ts=1513737160284, phase=1),\n",
       " Row(userId='1138', firstname='Kelly', page='NextSong', level='paid', song=\"Don't Stop The Music\", ts=1513737460284, phase=1),\n",
       " Row(userId='1138', firstname='Kelly', page='NextSong', level='paid', song=\"You're The One\", ts=1513737728284, phase=1),\n",
       " Row(userId='1138', firstname='Kelly', page='NextSong', level='paid', song='Entering White Cecilia', ts=1513737936284, phase=1),\n",
       " Row(userId='1138', firstname='Kelly', page='NextSong', level='paid', song='Piccolo Cesare', ts=1513738144284, phase=1),\n",
       " Row(userId='1138', firstname='Kelly', page='Help', level='paid', song=None, ts=1513738197284, phase=1),\n",
       " Row(userId='1138', firstname='Kelly', page='NextSong', level='paid', song='Last Christmas (Album Version)', ts=1513738432284, phase=1),\n",
       " Row(userId='1138', firstname='Kelly', page='NextSong', level='paid', song='You Shook Me', ts=1513763195284, phase=1),\n",
       " Row(userId='1138', firstname='Kelly', page='NextSong', level='paid', song='Going Steady', ts=1513763453284, phase=1),\n",
       " Row(userId='1138', firstname='Kelly', page='NextSong', level='paid', song='My Name Is', ts=1513763622284, phase=1),\n",
       " Row(userId='1138', firstname='Kelly', page='NextSong', level='paid', song='Undo', ts=1513763890284, phase=1),\n",
       " Row(userId='1138', firstname='Kelly', page='NextSong', level='paid', song='Secrets', ts=1513764238284, phase=1),\n",
       " Row(userId='1138', firstname='Kelly', page='NextSong', level='paid', song='Good Times Gone (Album Version)', ts=1513764462284, phase=1),\n",
       " Row(userId='1138', firstname='Kelly', page='NextSong', level='paid', song='Angelito', ts=1513764782284, phase=1),\n",
       " Row(userId='1138', firstname='Kelly', page='NextSong', level='paid', song='Batdance ( LP Version )', ts=1513765075284, phase=1),\n",
       " Row(userId='1138', firstname='Kelly', page='Home', level='paid', song=None, ts=1513765075284, phase=1),\n",
       " Row(userId='1138', firstname='Kelly', page='NextSong', level='paid', song='DiÃ\\x83Â¡kdal', ts=1513765448284, phase=1),\n",
       " Row(userId='1138', firstname='Kelly', page='NextSong', level='paid', song='Whirring', ts=1513765655284, phase=1),\n",
       " Row(userId='1138', firstname='Kelly', page='NextSong', level='paid', song='Potholderz (feat. Count Bass D)', ts=1513765818284, phase=1),\n",
       " Row(userId='1138', firstname='Kelly', page='NextSong', level='paid', song='Seaside', ts=1513766091284, phase=1),\n",
       " Row(userId='1138', firstname='Kelly', page='NextSong', level='paid', song='Louder Than A Bomb', ts=1513766189284, phase=1),\n",
       " Row(userId='1138', firstname='Kelly', page='NextSong', level='paid', song='Just Like You', ts=1513766385284, phase=1),\n",
       " Row(userId='1138', firstname='Kelly', page='NextSong', level='paid', song=\"You're The One\", ts=1513766599284, phase=1),\n",
       " Row(userId='1138', firstname='Kelly', page='NextSong', level='paid', song='Turn It Again (Album Version)', ts=1513766838284, phase=1),\n",
       " Row(userId='1138', firstname='Kelly', page='NextSong', level='paid', song='Everywhere I Go', ts=1513767203284, phase=1),\n",
       " Row(userId='1138', firstname='Kelly', page='NextSong', level='paid', song=\"Easy Skankin'\", ts=1513767413284, phase=1),\n",
       " Row(userId='1138', firstname='Kelly', page='NextSong', level='paid', song='Roses', ts=1513767643284, phase=1),\n",
       " Row(userId='1138', firstname='Kelly', page='NextSong', level='paid', song='Killing Me Softly With His Song', ts=1513768012284, phase=1),\n",
       " Row(userId='1138', firstname='Kelly', page='NextSong', level='paid', song='The Razor (Album Version)', ts=1513768242284, phase=1),\n",
       " Row(userId='1138', firstname='Kelly', page='NextSong', level='paid', song='Idols and Anchors', ts=1513768452284, phase=1),\n",
       " Row(userId='1138', firstname='Kelly', page='Downgrade', level='paid', song=None, ts=1513768453284, phase=1),\n",
       " Row(userId='1138', firstname='Kelly', page='Submit Downgrade', level='paid', song=None, ts=1513768454284, phase=1),\n",
       " Row(userId='1138', firstname='Kelly', page='Home', level='free', song=None, ts=1513768456284, phase=0),\n",
       " Row(userId='1138', firstname='Kelly', page='NextSong', level='free', song='Bones', ts=1513814880284, phase=0),\n",
       " Row(userId='1138', firstname='Kelly', page='Home', level='free', song=None, ts=1513821430284, phase=0),\n",
       " Row(userId='1138', firstname='Kelly', page='NextSong', level='free', song='Grenouilles Mantidactylus (Small Frogs)', ts=1513833144284, phase=0)]"
      ]
     },
     "execution_count": 60,
     "metadata": {},
     "output_type": "execute_result"
    }
   ],
   "source": [
    "user_log_valid.select(['userId','firstname','page','level','song','ts','phase']).where(user_log_valid.userId == '1138').sort('ts').collect()"
   ]
  },
  {
   "cell_type": "markdown",
   "metadata": {},
   "source": [
    "## Data Wrangling with Dataframes Extra Tips\n",
    "### General functions\n",
    "We have used the following general functions that are quite similar to methods of pandas dataframes:\n",
    "\n",
    "* **select()**: returns a new DataFrame with the selected columns\n",
    "* **filter()**: filters rows using the given condition\n",
    "* **where()**: is just an alias for filter()\n",
    "* **groupBy()**: groups the DataFrame using the specified columns, so we can run aggregation on them\n",
    "* **sort()**: returns a new DataFrame sorted by the specified column(s). By default the second parameter 'ascending' is True.\n",
    "* **dropDuplicates()**: returns a new DataFrame with unique rows based on all or just a subset of columns\n",
    "* **withColumn()**: returns a new DataFrame by adding a column or replacing the existing column that has the same name. The first parameter is the name of the new column, the second is an expression of how to compute it.\n",
    "\n",
    "Aggregate functions\n",
    "Spark SQL provides built-in methods for the most common aggregations such as **`count()`**, **countDistinct()**, **`avg()`**, **`max()`**, **`min()`**, etc. in the pyspark.sql.functions module. These methods are not the same as the built-in methods in the Python Standard Library, where we can find min() for example as well, hence you need to be careful not to use them interchangeably.\n",
    "\n",
    "In many cases, there are multiple ways to express the same aggregations. For example, if we would like to compute one type of aggregate for one or more columns of the DataFrame we can just simply chain the aggregate method after a **`groupBy()`**. If we would like to use different functions on different columns, **`agg()`** comes in handy. For example **`agg({\"salary\": \"avg\", \"age\": \"max\"})`** computes the average salary and maximum age.\n",
    "\n",
    "### User defined functions (UDF)\n",
    "In Spark SQL we can define our own functions with the udf method from the pyspark.sql.functions module. The default type of the returned variable for UDFs is string. If we would like to return an other type we need to explicitly do so by using the different types from the pyspark.sql.types module.\n",
    "\n",
    "### Window functions\n",
    "Window functions are a way of combining the values of ranges of rows in a DataFrame. When defining the window we can choose how to sort and group (with the **`partitionBy`** method) the rows and how wide of a window we'd like to use (described by **`rangeBetween`** or **`rowsBetween`**).\n",
    "\n",
    "For further information see the [Spark SQL, DataFrames and Datasets Guide](https://spark.apache.org/docs/latest/sql-programming-guide.html) and the [Spark Python API Docs](https://spark.apache.org/docs/latest/api/python/index.html)."
   ]
  },
  {
   "cell_type": "markdown",
   "metadata": {},
   "source": [
    "## Quiz\n",
    "Answer these quiz questions. Use the \"sparkify_log_small.json\" file in the Spark Sandbox. You'll need to wrangle the data yourself to find the answers. "
   ]
  },
  {
   "cell_type": "markdown",
   "metadata": {},
   "source": [
    "### QUESTION 1 OF 5\n",
    "Which page did user id \"\" (empty string) NOT visit?\n",
    "- [ ] About\n",
    "- [ ] Home\n",
    "- [ ] Login \n",
    "- [x] NextSong"
   ]
  },
  {
   "cell_type": "code",
   "execution_count": 61,
   "metadata": {},
   "outputs": [
    {
     "data": {
      "text/html": [
       "<div>\n",
       "<style scoped>\n",
       "    .dataframe tbody tr th:only-of-type {\n",
       "        vertical-align: middle;\n",
       "    }\n",
       "\n",
       "    .dataframe tbody tr th {\n",
       "        vertical-align: top;\n",
       "    }\n",
       "\n",
       "    .dataframe thead th {\n",
       "        text-align: right;\n",
       "    }\n",
       "</style>\n",
       "<table border=\"1\" class=\"dataframe\">\n",
       "  <thead>\n",
       "    <tr style=\"text-align: right;\">\n",
       "      <th></th>\n",
       "      <th>page</th>\n",
       "    </tr>\n",
       "  </thead>\n",
       "  <tbody>\n",
       "    <tr>\n",
       "      <td>0</td>\n",
       "      <td>Home</td>\n",
       "    </tr>\n",
       "    <tr>\n",
       "      <td>1</td>\n",
       "      <td>About</td>\n",
       "    </tr>\n",
       "    <tr>\n",
       "      <td>2</td>\n",
       "      <td>Login</td>\n",
       "    </tr>\n",
       "    <tr>\n",
       "      <td>3</td>\n",
       "      <td>Help</td>\n",
       "    </tr>\n",
       "  </tbody>\n",
       "</table>\n",
       "</div>"
      ],
      "text/plain": [
       "    page\n",
       "0   Home\n",
       "1  About\n",
       "2  Login\n",
       "3   Help"
      ]
     },
     "execution_count": 61,
     "metadata": {},
     "output_type": "execute_result"
    }
   ],
   "source": [
    "user_log.filter(\"userId = ''\").select('page').dropDuplicates().toPandas()"
   ]
  },
  {
   "cell_type": "markdown",
   "metadata": {},
   "source": [
    "### QUESTION 2 OF 5\n",
    "What type of user does the empty string user id most likely refer to?\n",
    "\n",
    "Users who are only visiting the About, Home and Login pages are probably unregistered visitors."
   ]
  },
  {
   "cell_type": "markdown",
   "metadata": {},
   "source": [
    "### QUESTION 3 OF 5\n",
    "How many female users do we have in the data set?\n",
    "- [x] 462\n",
    "- [ ] 501\n",
    "- [ ] 3820\n",
    "- [ ] 5844"
   ]
  },
  {
   "cell_type": "code",
   "execution_count": 92,
   "metadata": {},
   "outputs": [
    {
     "name": "stdout",
     "output_type": "stream",
     "text": [
      "+------+-----+\n",
      "|gender|count|\n",
      "+------+-----+\n",
      "|     F|  462|\n",
      "|  null|    1|\n",
      "|     M|  501|\n",
      "+------+-----+\n",
      "\n"
     ]
    }
   ],
   "source": [
    "user_log.select('userId','gender').dropDuplicates().groupby('gender').count().show()"
   ]
  },
  {
   "cell_type": "markdown",
   "metadata": {},
   "source": [
    "### QUESTION 4 OF 5\n",
    "How many songs were played from the most played artist?\n",
    "\n",
    "- [ ] 3\n",
    "- [ ] 53\n",
    "- [x] 83\n",
    "- [ ] 113"
   ]
  },
  {
   "cell_type": "code",
   "execution_count": 63,
   "metadata": {},
   "outputs": [
    {
     "data": {
      "text/html": [
       "<div>\n",
       "<style scoped>\n",
       "    .dataframe tbody tr th:only-of-type {\n",
       "        vertical-align: middle;\n",
       "    }\n",
       "\n",
       "    .dataframe tbody tr th {\n",
       "        vertical-align: top;\n",
       "    }\n",
       "\n",
       "    .dataframe thead th {\n",
       "        text-align: right;\n",
       "    }\n",
       "</style>\n",
       "<table border=\"1\" class=\"dataframe\">\n",
       "  <thead>\n",
       "    <tr style=\"text-align: right;\">\n",
       "      <th></th>\n",
       "      <th>artist</th>\n",
       "      <th>count</th>\n",
       "    </tr>\n",
       "  </thead>\n",
       "  <tbody>\n",
       "    <tr>\n",
       "      <td>0</td>\n",
       "      <td>Coldplay</td>\n",
       "      <td>83</td>\n",
       "    </tr>\n",
       "  </tbody>\n",
       "</table>\n",
       "</div>"
      ],
      "text/plain": [
       "     artist  count\n",
       "0  Coldplay     83"
      ]
     },
     "execution_count": 63,
     "metadata": {},
     "output_type": "execute_result"
    }
   ],
   "source": [
    "user_log.groupby('artist')\\\n",
    "    .count()\\\n",
    "    .filter('artist IS NOT NULL')\\\n",
    "    .orderBy(fn.desc('count'))\\\n",
    "    .limit(1)\\\n",
    "    .toPandas()"
   ]
  },
  {
   "cell_type": "markdown",
   "metadata": {},
   "source": [
    "### QUESTION 5 OF 5\n",
    "How many songs do users listen to on average between visiting our home page? Please round your answer to the closest integer.\n",
    "\n",
    "- [ ] 5\n",
    "- [ ] 7\n",
    "- [ ] 9\n",
    "- [ ] 11"
   ]
  },
  {
   "cell_type": "code",
   "execution_count": 66,
   "metadata": {},
   "outputs": [
    {
     "name": "stdout",
     "output_type": "stream",
     "text": [
      "+------+------+-------------+\n",
      "|userID|period|count(period)|\n",
      "+------+------+-------------+\n",
      "|  1436|     0|            2|\n",
      "|  2088|     1|           13|\n",
      "|  2162|     0|           19|\n",
      "|  2162|     2|           15|\n",
      "|  2294|     0|            4|\n",
      "|  2294|     1|           17|\n",
      "|  2294|     2|            3|\n",
      "|  2294|     3|           16|\n",
      "|  2294|     4|            4|\n",
      "|  2294|     5|           11|\n",
      "|  2904|     0|            1|\n",
      "|   691|     1|            3|\n",
      "|  1394|     0|            9|\n",
      "|  1394|     1|           17|\n",
      "|  2275|     0|            3|\n",
      "|  2756|     0|            4|\n",
      "|  2756|     2|            1|\n",
      "|   451|     0|            1|\n",
      "|   451|     1|            1|\n",
      "|   800|     1|            2|\n",
      "+------+------+-------------+\n",
      "only showing top 20 rows\n",
      "\n"
     ]
    }
   ],
   "source": [
    "function = fn.udf(lambda ishome : int(ishome == 'Home'), typ.IntegerType())\n",
    "\n",
    "user_window = Window \\\n",
    "    .partitionBy('userID') \\\n",
    "    .orderBy(fn.desc('ts')) \\\n",
    "    .rangeBetween(Window.unboundedPreceding, 0)\n",
    "\n",
    "cusum = user_log.filter((user_log.page == 'NextSong') | (user_log.page == 'Home')) \\\n",
    "    .select('userID', 'page', 'ts') \\\n",
    "    .withColumn('homevisit', function(fn.col('page'))) \\\n",
    "    .withColumn('period', fn.sum('homevisit').over(user_window))\n",
    "\n",
    "cusum.filter((cusum.page == 'NextSong')) \\\n",
    "    .groupBy('userID', 'period') \\\n",
    "    .agg({'period':'count'}) \\\n",
    "    .show()"
   ]
  },
  {
   "cell_type": "markdown",
   "metadata": {},
   "source": [
    "## Spark SQL\n",
    "Spark comes with the SQL library that let's you query the data using SQL syntax. \n",
    "There are quite advantages using Spark SQL\n",
    "1. If you are already comfortable with using SQL language.\n",
    "2. You'll be able to share your Spark code with a wider community since many analysts, data scientists and data analysts prefer using SQL\n",
    "3. Spark automatically optimizes SQL code to speed up the process of manipulating and retrieving data.\n",
    "\n",
    "### Spark SQL resources\n",
    "Here are a few resources that you might find helpful when working with Spark SQL\n",
    "\n",
    "* **[Spark SQL built-in functions](https://spark.apache.org/docs/latest/api/sql/index.html)**\n",
    "* **[Spark SQL guide](https://spark.apache.org/docs/latest/sql-getting-started.html)**"
   ]
  },
  {
   "cell_type": "markdown",
   "metadata": {},
   "source": [
    "## Example Spark SQL"
   ]
  },
  {
   "cell_type": "code",
   "execution_count": 67,
   "metadata": {},
   "outputs": [],
   "source": [
    "from pyspark.sql import SparkSession\n",
    "import pyspark.sql.types as typ\n",
    "import pyspark.sql.functions as fn\n",
    "import datetime\n",
    "import numpy as np\n",
    "import pandas as pd\n",
    "import matplotlib.pyplot as plt\n",
    "\n",
    "%matplotlib inline"
   ]
  },
  {
   "cell_type": "code",
   "execution_count": 68,
   "metadata": {},
   "outputs": [],
   "source": [
    "spark = SparkSession\\\n",
    "            .builder\\\n",
    "            .appName('Data Wrangling with Spark SQL')\\\n",
    "            .getOrCreate()"
   ]
  },
  {
   "cell_type": "code",
   "execution_count": 69,
   "metadata": {},
   "outputs": [],
   "source": [
    "path = \"data/sparkify_log_small.json\"\n",
    "user_log = spark.read.json(path)"
   ]
  },
  {
   "cell_type": "code",
   "execution_count": 70,
   "metadata": {},
   "outputs": [
    {
     "data": {
      "text/plain": [
       "[Row(artist='Showaddywaddy', auth='Logged In', firstName='Kenneth', gender='M', itemInSession=112, lastName='Matthews', length=232.93342, level='paid', location='Charlotte-Concord-Gastonia, NC-SC', method='PUT', page='NextSong', registration=1509380319284, sessionId=5132, song='Christmas Tears Will Fall', status=200, ts=1513720872284, userAgent='\"Mozilla/5.0 (Windows NT 6.1) AppleWebKit/537.36 (KHTML, like Gecko) Chrome/36.0.1985.125 Safari/537.36\"', userId='1046')]"
      ]
     },
     "execution_count": 70,
     "metadata": {},
     "output_type": "execute_result"
    }
   ],
   "source": [
    "user_log.take(1)"
   ]
  },
  {
   "cell_type": "code",
   "execution_count": 71,
   "metadata": {},
   "outputs": [
    {
     "name": "stdout",
     "output_type": "stream",
     "text": [
      "root\n",
      " |-- artist: string (nullable = true)\n",
      " |-- auth: string (nullable = true)\n",
      " |-- firstName: string (nullable = true)\n",
      " |-- gender: string (nullable = true)\n",
      " |-- itemInSession: long (nullable = true)\n",
      " |-- lastName: string (nullable = true)\n",
      " |-- length: double (nullable = true)\n",
      " |-- level: string (nullable = true)\n",
      " |-- location: string (nullable = true)\n",
      " |-- method: string (nullable = true)\n",
      " |-- page: string (nullable = true)\n",
      " |-- registration: long (nullable = true)\n",
      " |-- sessionId: long (nullable = true)\n",
      " |-- song: string (nullable = true)\n",
      " |-- status: long (nullable = true)\n",
      " |-- ts: long (nullable = true)\n",
      " |-- userAgent: string (nullable = true)\n",
      " |-- userId: string (nullable = true)\n",
      "\n"
     ]
    }
   ],
   "source": [
    "user_log.printSchema()"
   ]
  },
  {
   "cell_type": "markdown",
   "metadata": {},
   "source": [
    "### Create a View And Run Queries\n",
    "The code below creates a temporary view against which you can run SQL queries."
   ]
  },
  {
   "cell_type": "code",
   "execution_count": 72,
   "metadata": {},
   "outputs": [],
   "source": [
    "user_log.createOrReplaceTempView('user_log_table')"
   ]
  },
  {
   "cell_type": "code",
   "execution_count": 78,
   "metadata": {},
   "outputs": [
    {
     "data": {
      "text/html": [
       "<div>\n",
       "<style scoped>\n",
       "    .dataframe tbody tr th:only-of-type {\n",
       "        vertical-align: middle;\n",
       "    }\n",
       "\n",
       "    .dataframe tbody tr th {\n",
       "        vertical-align: top;\n",
       "    }\n",
       "\n",
       "    .dataframe thead th {\n",
       "        text-align: right;\n",
       "    }\n",
       "</style>\n",
       "<table border=\"1\" class=\"dataframe\">\n",
       "  <thead>\n",
       "    <tr style=\"text-align: right;\">\n",
       "      <th></th>\n",
       "      <th>artist</th>\n",
       "      <th>auth</th>\n",
       "      <th>firstName</th>\n",
       "      <th>gender</th>\n",
       "      <th>itemInSession</th>\n",
       "      <th>lastName</th>\n",
       "      <th>length</th>\n",
       "      <th>level</th>\n",
       "      <th>location</th>\n",
       "      <th>method</th>\n",
       "      <th>page</th>\n",
       "      <th>registration</th>\n",
       "      <th>sessionId</th>\n",
       "      <th>song</th>\n",
       "      <th>status</th>\n",
       "      <th>ts</th>\n",
       "      <th>userAgent</th>\n",
       "      <th>userId</th>\n",
       "    </tr>\n",
       "  </thead>\n",
       "  <tbody>\n",
       "    <tr>\n",
       "      <td>0</td>\n",
       "      <td>Showaddywaddy</td>\n",
       "      <td>Logged In</td>\n",
       "      <td>Kenneth</td>\n",
       "      <td>M</td>\n",
       "      <td>112</td>\n",
       "      <td>Matthews</td>\n",
       "      <td>232.93342</td>\n",
       "      <td>paid</td>\n",
       "      <td>Charlotte-Concord-Gastonia, NC-SC</td>\n",
       "      <td>PUT</td>\n",
       "      <td>NextSong</td>\n",
       "      <td>1509380319284</td>\n",
       "      <td>5132</td>\n",
       "      <td>Christmas Tears Will Fall</td>\n",
       "      <td>200</td>\n",
       "      <td>1513720872284</td>\n",
       "      <td>\"Mozilla/5.0 (Windows NT 6.1) AppleWebKit/537....</td>\n",
       "      <td>1046</td>\n",
       "    </tr>\n",
       "    <tr>\n",
       "      <td>1</td>\n",
       "      <td>Lily Allen</td>\n",
       "      <td>Logged In</td>\n",
       "      <td>Elizabeth</td>\n",
       "      <td>F</td>\n",
       "      <td>7</td>\n",
       "      <td>Chase</td>\n",
       "      <td>195.23873</td>\n",
       "      <td>free</td>\n",
       "      <td>Shreveport-Bossier City, LA</td>\n",
       "      <td>PUT</td>\n",
       "      <td>NextSong</td>\n",
       "      <td>1512718541284</td>\n",
       "      <td>5027</td>\n",
       "      <td>Cheryl Tweedy</td>\n",
       "      <td>200</td>\n",
       "      <td>1513720878284</td>\n",
       "      <td>\"Mozilla/5.0 (Windows NT 6.1) AppleWebKit/537....</td>\n",
       "      <td>1000</td>\n",
       "    </tr>\n",
       "  </tbody>\n",
       "</table>\n",
       "</div>"
      ],
      "text/plain": [
       "          artist       auth  firstName gender  itemInSession  lastName  \\\n",
       "0  Showaddywaddy  Logged In    Kenneth      M            112  Matthews   \n",
       "1     Lily Allen  Logged In  Elizabeth      F              7     Chase   \n",
       "\n",
       "      length level                           location method      page  \\\n",
       "0  232.93342  paid  Charlotte-Concord-Gastonia, NC-SC    PUT  NextSong   \n",
       "1  195.23873  free        Shreveport-Bossier City, LA    PUT  NextSong   \n",
       "\n",
       "    registration  sessionId                       song  status             ts  \\\n",
       "0  1509380319284       5132  Christmas Tears Will Fall     200  1513720872284   \n",
       "1  1512718541284       5027              Cheryl Tweedy     200  1513720878284   \n",
       "\n",
       "                                           userAgent userId  \n",
       "0  \"Mozilla/5.0 (Windows NT 6.1) AppleWebKit/537....   1046  \n",
       "1  \"Mozilla/5.0 (Windows NT 6.1) AppleWebKit/537....   1000  "
      ]
     },
     "execution_count": 78,
     "metadata": {},
     "output_type": "execute_result"
    }
   ],
   "source": [
    "spark.sql(\"\"\"\n",
    "          SELECT *\n",
    "          FROM user_log_table\n",
    "          LIMIT 2\n",
    "          \"\"\"\n",
    "         ).toPandas()"
   ]
  },
  {
   "cell_type": "code",
   "execution_count": 79,
   "metadata": {},
   "outputs": [
    {
     "data": {
      "text/html": [
       "<div>\n",
       "<style scoped>\n",
       "    .dataframe tbody tr th:only-of-type {\n",
       "        vertical-align: middle;\n",
       "    }\n",
       "\n",
       "    .dataframe tbody tr th {\n",
       "        vertical-align: top;\n",
       "    }\n",
       "\n",
       "    .dataframe thead th {\n",
       "        text-align: right;\n",
       "    }\n",
       "</style>\n",
       "<table border=\"1\" class=\"dataframe\">\n",
       "  <thead>\n",
       "    <tr style=\"text-align: right;\">\n",
       "      <th></th>\n",
       "      <th>count(1)</th>\n",
       "    </tr>\n",
       "  </thead>\n",
       "  <tbody>\n",
       "    <tr>\n",
       "      <td>0</td>\n",
       "      <td>10001</td>\n",
       "    </tr>\n",
       "  </tbody>\n",
       "</table>\n",
       "</div>"
      ],
      "text/plain": [
       "   count(1)\n",
       "0     10001"
      ]
     },
     "execution_count": 79,
     "metadata": {},
     "output_type": "execute_result"
    }
   ],
   "source": [
    "spark.sql(\"\"\"\n",
    "          SELECT COUNT(*)\n",
    "          FROM user_log_table\n",
    "          \"\"\"\n",
    "         ).toPandas()"
   ]
  },
  {
   "cell_type": "code",
   "execution_count": 80,
   "metadata": {},
   "outputs": [
    {
     "data": {
      "text/html": [
       "<div>\n",
       "<style scoped>\n",
       "    .dataframe tbody tr th:only-of-type {\n",
       "        vertical-align: middle;\n",
       "    }\n",
       "\n",
       "    .dataframe tbody tr th {\n",
       "        vertical-align: top;\n",
       "    }\n",
       "\n",
       "    .dataframe thead th {\n",
       "        text-align: right;\n",
       "    }\n",
       "</style>\n",
       "<table border=\"1\" class=\"dataframe\">\n",
       "  <thead>\n",
       "    <tr style=\"text-align: right;\">\n",
       "      <th></th>\n",
       "      <th>userID</th>\n",
       "      <th>firstname</th>\n",
       "      <th>page</th>\n",
       "      <th>song</th>\n",
       "    </tr>\n",
       "  </thead>\n",
       "  <tbody>\n",
       "    <tr>\n",
       "      <td>0</td>\n",
       "      <td>1046</td>\n",
       "      <td>Kenneth</td>\n",
       "      <td>NextSong</td>\n",
       "      <td>Christmas Tears Will Fall</td>\n",
       "    </tr>\n",
       "    <tr>\n",
       "      <td>1</td>\n",
       "      <td>1046</td>\n",
       "      <td>Kenneth</td>\n",
       "      <td>NextSong</td>\n",
       "      <td>Be Wary Of A Woman</td>\n",
       "    </tr>\n",
       "    <tr>\n",
       "      <td>2</td>\n",
       "      <td>1046</td>\n",
       "      <td>Kenneth</td>\n",
       "      <td>NextSong</td>\n",
       "      <td>Public Enemy No.1</td>\n",
       "    </tr>\n",
       "    <tr>\n",
       "      <td>3</td>\n",
       "      <td>1046</td>\n",
       "      <td>Kenneth</td>\n",
       "      <td>NextSong</td>\n",
       "      <td>Reign Of The Tyrants</td>\n",
       "    </tr>\n",
       "    <tr>\n",
       "      <td>4</td>\n",
       "      <td>1046</td>\n",
       "      <td>Kenneth</td>\n",
       "      <td>NextSong</td>\n",
       "      <td>Father And Son</td>\n",
       "    </tr>\n",
       "    <tr>\n",
       "      <td>5</td>\n",
       "      <td>1046</td>\n",
       "      <td>Kenneth</td>\n",
       "      <td>NextSong</td>\n",
       "      <td>No. 5</td>\n",
       "    </tr>\n",
       "    <tr>\n",
       "      <td>6</td>\n",
       "      <td>1046</td>\n",
       "      <td>Kenneth</td>\n",
       "      <td>NextSong</td>\n",
       "      <td>Seventeen</td>\n",
       "    </tr>\n",
       "    <tr>\n",
       "      <td>7</td>\n",
       "      <td>1046</td>\n",
       "      <td>Kenneth</td>\n",
       "      <td>Home</td>\n",
       "      <td>None</td>\n",
       "    </tr>\n",
       "    <tr>\n",
       "      <td>8</td>\n",
       "      <td>1046</td>\n",
       "      <td>Kenneth</td>\n",
       "      <td>NextSong</td>\n",
       "      <td>War on war</td>\n",
       "    </tr>\n",
       "    <tr>\n",
       "      <td>9</td>\n",
       "      <td>1046</td>\n",
       "      <td>Kenneth</td>\n",
       "      <td>NextSong</td>\n",
       "      <td>Killermont Street</td>\n",
       "    </tr>\n",
       "    <tr>\n",
       "      <td>10</td>\n",
       "      <td>1046</td>\n",
       "      <td>Kenneth</td>\n",
       "      <td>NextSong</td>\n",
       "      <td>Black &amp; Blue</td>\n",
       "    </tr>\n",
       "    <tr>\n",
       "      <td>11</td>\n",
       "      <td>1046</td>\n",
       "      <td>Kenneth</td>\n",
       "      <td>Logout</td>\n",
       "      <td>None</td>\n",
       "    </tr>\n",
       "    <tr>\n",
       "      <td>12</td>\n",
       "      <td>1046</td>\n",
       "      <td>Kenneth</td>\n",
       "      <td>Home</td>\n",
       "      <td>None</td>\n",
       "    </tr>\n",
       "    <tr>\n",
       "      <td>13</td>\n",
       "      <td>1046</td>\n",
       "      <td>Kenneth</td>\n",
       "      <td>NextSong</td>\n",
       "      <td>Heads Will Roll</td>\n",
       "    </tr>\n",
       "    <tr>\n",
       "      <td>14</td>\n",
       "      <td>1046</td>\n",
       "      <td>Kenneth</td>\n",
       "      <td>NextSong</td>\n",
       "      <td>Bleed It Out [Live At Milton Keynes]</td>\n",
       "    </tr>\n",
       "    <tr>\n",
       "      <td>15</td>\n",
       "      <td>1046</td>\n",
       "      <td>Kenneth</td>\n",
       "      <td>NextSong</td>\n",
       "      <td>Clocks</td>\n",
       "    </tr>\n",
       "    <tr>\n",
       "      <td>16</td>\n",
       "      <td>1046</td>\n",
       "      <td>Kenneth</td>\n",
       "      <td>NextSong</td>\n",
       "      <td>Love Rain</td>\n",
       "    </tr>\n",
       "    <tr>\n",
       "      <td>17</td>\n",
       "      <td>1046</td>\n",
       "      <td>Kenneth</td>\n",
       "      <td>NextSong</td>\n",
       "      <td>Ry Ry's Song (Album Version)</td>\n",
       "    </tr>\n",
       "    <tr>\n",
       "      <td>18</td>\n",
       "      <td>1046</td>\n",
       "      <td>Kenneth</td>\n",
       "      <td>NextSong</td>\n",
       "      <td>The Invisible Man</td>\n",
       "    </tr>\n",
       "    <tr>\n",
       "      <td>19</td>\n",
       "      <td>1046</td>\n",
       "      <td>Kenneth</td>\n",
       "      <td>NextSong</td>\n",
       "      <td>Catch You Baby (Steve Pitron &amp; Max Sanna Radio...</td>\n",
       "    </tr>\n",
       "    <tr>\n",
       "      <td>20</td>\n",
       "      <td>1046</td>\n",
       "      <td>Kenneth</td>\n",
       "      <td>NextSong</td>\n",
       "      <td>Ask The Mountains</td>\n",
       "    </tr>\n",
       "    <tr>\n",
       "      <td>21</td>\n",
       "      <td>1046</td>\n",
       "      <td>Kenneth</td>\n",
       "      <td>NextSong</td>\n",
       "      <td>Given Up (Album Version)</td>\n",
       "    </tr>\n",
       "    <tr>\n",
       "      <td>22</td>\n",
       "      <td>1046</td>\n",
       "      <td>Kenneth</td>\n",
       "      <td>NextSong</td>\n",
       "      <td>El Cuatrero</td>\n",
       "    </tr>\n",
       "    <tr>\n",
       "      <td>23</td>\n",
       "      <td>1046</td>\n",
       "      <td>Kenneth</td>\n",
       "      <td>NextSong</td>\n",
       "      <td>Hero/Heroine</td>\n",
       "    </tr>\n",
       "    <tr>\n",
       "      <td>24</td>\n",
       "      <td>1046</td>\n",
       "      <td>Kenneth</td>\n",
       "      <td>NextSong</td>\n",
       "      <td>Spring</td>\n",
       "    </tr>\n",
       "    <tr>\n",
       "      <td>25</td>\n",
       "      <td>1046</td>\n",
       "      <td>Kenneth</td>\n",
       "      <td>NextSong</td>\n",
       "      <td>Rising Moon</td>\n",
       "    </tr>\n",
       "    <tr>\n",
       "      <td>26</td>\n",
       "      <td>1046</td>\n",
       "      <td>Kenneth</td>\n",
       "      <td>NextSong</td>\n",
       "      <td>Tough Little Boys</td>\n",
       "    </tr>\n",
       "    <tr>\n",
       "      <td>27</td>\n",
       "      <td>1046</td>\n",
       "      <td>Kenneth</td>\n",
       "      <td>NextSong</td>\n",
       "      <td>Qu'Est-Ce Que T'Es Belle</td>\n",
       "    </tr>\n",
       "    <tr>\n",
       "      <td>28</td>\n",
       "      <td>1046</td>\n",
       "      <td>Kenneth</td>\n",
       "      <td>NextSong</td>\n",
       "      <td>Secrets</td>\n",
       "    </tr>\n",
       "    <tr>\n",
       "      <td>29</td>\n",
       "      <td>1046</td>\n",
       "      <td>Kenneth</td>\n",
       "      <td>NextSong</td>\n",
       "      <td>Under The Gun</td>\n",
       "    </tr>\n",
       "  </tbody>\n",
       "</table>\n",
       "</div>"
      ],
      "text/plain": [
       "   userID firstname      page  \\\n",
       "0    1046   Kenneth  NextSong   \n",
       "1    1046   Kenneth  NextSong   \n",
       "2    1046   Kenneth  NextSong   \n",
       "3    1046   Kenneth  NextSong   \n",
       "4    1046   Kenneth  NextSong   \n",
       "5    1046   Kenneth  NextSong   \n",
       "6    1046   Kenneth  NextSong   \n",
       "7    1046   Kenneth      Home   \n",
       "8    1046   Kenneth  NextSong   \n",
       "9    1046   Kenneth  NextSong   \n",
       "10   1046   Kenneth  NextSong   \n",
       "11   1046   Kenneth    Logout   \n",
       "12   1046   Kenneth      Home   \n",
       "13   1046   Kenneth  NextSong   \n",
       "14   1046   Kenneth  NextSong   \n",
       "15   1046   Kenneth  NextSong   \n",
       "16   1046   Kenneth  NextSong   \n",
       "17   1046   Kenneth  NextSong   \n",
       "18   1046   Kenneth  NextSong   \n",
       "19   1046   Kenneth  NextSong   \n",
       "20   1046   Kenneth  NextSong   \n",
       "21   1046   Kenneth  NextSong   \n",
       "22   1046   Kenneth  NextSong   \n",
       "23   1046   Kenneth  NextSong   \n",
       "24   1046   Kenneth  NextSong   \n",
       "25   1046   Kenneth  NextSong   \n",
       "26   1046   Kenneth  NextSong   \n",
       "27   1046   Kenneth  NextSong   \n",
       "28   1046   Kenneth  NextSong   \n",
       "29   1046   Kenneth  NextSong   \n",
       "\n",
       "                                                 song  \n",
       "0                           Christmas Tears Will Fall  \n",
       "1                                  Be Wary Of A Woman  \n",
       "2                                   Public Enemy No.1  \n",
       "3                                Reign Of The Tyrants  \n",
       "4                                      Father And Son  \n",
       "5                                               No. 5  \n",
       "6                                           Seventeen  \n",
       "7                                                None  \n",
       "8                                          War on war  \n",
       "9                                   Killermont Street  \n",
       "10                                       Black & Blue  \n",
       "11                                               None  \n",
       "12                                               None  \n",
       "13                                    Heads Will Roll  \n",
       "14               Bleed It Out [Live At Milton Keynes]  \n",
       "15                                             Clocks  \n",
       "16                                          Love Rain  \n",
       "17                       Ry Ry's Song (Album Version)  \n",
       "18                                  The Invisible Man  \n",
       "19  Catch You Baby (Steve Pitron & Max Sanna Radio...  \n",
       "20                                  Ask The Mountains  \n",
       "21                           Given Up (Album Version)  \n",
       "22                                        El Cuatrero  \n",
       "23                                       Hero/Heroine  \n",
       "24                                             Spring  \n",
       "25                                        Rising Moon  \n",
       "26                                  Tough Little Boys  \n",
       "27                           Qu'Est-Ce Que T'Es Belle  \n",
       "28                                            Secrets  \n",
       "29                                      Under The Gun  "
      ]
     },
     "execution_count": 80,
     "metadata": {},
     "output_type": "execute_result"
    }
   ],
   "source": [
    "spark.sql('''\n",
    "          SELECT userID, firstname, page, song\n",
    "          FROM user_log_table \n",
    "          WHERE userID == '1046'\n",
    "          '''\n",
    "          ).toPandas()"
   ]
  },
  {
   "cell_type": "code",
   "execution_count": 82,
   "metadata": {},
   "outputs": [
    {
     "data": {
      "text/html": [
       "<div>\n",
       "<style scoped>\n",
       "    .dataframe tbody tr th:only-of-type {\n",
       "        vertical-align: middle;\n",
       "    }\n",
       "\n",
       "    .dataframe tbody tr th {\n",
       "        vertical-align: top;\n",
       "    }\n",
       "\n",
       "    .dataframe thead th {\n",
       "        text-align: right;\n",
       "    }\n",
       "</style>\n",
       "<table border=\"1\" class=\"dataframe\">\n",
       "  <thead>\n",
       "    <tr style=\"text-align: right;\">\n",
       "      <th></th>\n",
       "      <th>page</th>\n",
       "    </tr>\n",
       "  </thead>\n",
       "  <tbody>\n",
       "    <tr>\n",
       "      <td>0</td>\n",
       "      <td>About</td>\n",
       "    </tr>\n",
       "    <tr>\n",
       "      <td>1</td>\n",
       "      <td>Downgrade</td>\n",
       "    </tr>\n",
       "    <tr>\n",
       "      <td>2</td>\n",
       "      <td>Error</td>\n",
       "    </tr>\n",
       "    <tr>\n",
       "      <td>3</td>\n",
       "      <td>Help</td>\n",
       "    </tr>\n",
       "    <tr>\n",
       "      <td>4</td>\n",
       "      <td>Home</td>\n",
       "    </tr>\n",
       "    <tr>\n",
       "      <td>5</td>\n",
       "      <td>Login</td>\n",
       "    </tr>\n",
       "    <tr>\n",
       "      <td>6</td>\n",
       "      <td>Logout</td>\n",
       "    </tr>\n",
       "    <tr>\n",
       "      <td>7</td>\n",
       "      <td>NextSong</td>\n",
       "    </tr>\n",
       "    <tr>\n",
       "      <td>8</td>\n",
       "      <td>Save Settings</td>\n",
       "    </tr>\n",
       "    <tr>\n",
       "      <td>9</td>\n",
       "      <td>Settings</td>\n",
       "    </tr>\n",
       "    <tr>\n",
       "      <td>10</td>\n",
       "      <td>Submit Downgrade</td>\n",
       "    </tr>\n",
       "    <tr>\n",
       "      <td>11</td>\n",
       "      <td>Submit Upgrade</td>\n",
       "    </tr>\n",
       "    <tr>\n",
       "      <td>12</td>\n",
       "      <td>Upgrade</td>\n",
       "    </tr>\n",
       "  </tbody>\n",
       "</table>\n",
       "</div>"
      ],
      "text/plain": [
       "                page\n",
       "0              About\n",
       "1          Downgrade\n",
       "2              Error\n",
       "3               Help\n",
       "4               Home\n",
       "5              Login\n",
       "6             Logout\n",
       "7           NextSong\n",
       "8      Save Settings\n",
       "9           Settings\n",
       "10  Submit Downgrade\n",
       "11    Submit Upgrade\n",
       "12           Upgrade"
      ]
     },
     "execution_count": 82,
     "metadata": {},
     "output_type": "execute_result"
    }
   ],
   "source": [
    "spark.sql(\"\"\"\n",
    "          SELECT DISTINCT page\n",
    "          FROM user_log_table\n",
    "          ORDER BY page ASC\n",
    "          \"\"\"\n",
    "         ).toPandas()"
   ]
  },
  {
   "cell_type": "markdown",
   "metadata": {},
   "source": [
    "### User Defined Functions"
   ]
  },
  {
   "cell_type": "code",
   "execution_count": 83,
   "metadata": {},
   "outputs": [
    {
     "data": {
      "text/plain": [
       "<function __main__.<lambda>(x)>"
      ]
     },
     "execution_count": 83,
     "metadata": {},
     "output_type": "execute_result"
    }
   ],
   "source": [
    "spark.udf.register('get_hour', lambda x: int(datetime.datetime.fromtimestamp(x / 1000.0).hour))"
   ]
  },
  {
   "cell_type": "code",
   "execution_count": 85,
   "metadata": {},
   "outputs": [
    {
     "data": {
      "text/html": [
       "<div>\n",
       "<style scoped>\n",
       "    .dataframe tbody tr th:only-of-type {\n",
       "        vertical-align: middle;\n",
       "    }\n",
       "\n",
       "    .dataframe tbody tr th {\n",
       "        vertical-align: top;\n",
       "    }\n",
       "\n",
       "    .dataframe thead th {\n",
       "        text-align: right;\n",
       "    }\n",
       "</style>\n",
       "<table border=\"1\" class=\"dataframe\">\n",
       "  <thead>\n",
       "    <tr style=\"text-align: right;\">\n",
       "      <th></th>\n",
       "      <th>artist</th>\n",
       "      <th>auth</th>\n",
       "      <th>firstName</th>\n",
       "      <th>gender</th>\n",
       "      <th>itemInSession</th>\n",
       "      <th>lastName</th>\n",
       "      <th>length</th>\n",
       "      <th>level</th>\n",
       "      <th>location</th>\n",
       "      <th>method</th>\n",
       "      <th>page</th>\n",
       "      <th>registration</th>\n",
       "      <th>sessionId</th>\n",
       "      <th>song</th>\n",
       "      <th>status</th>\n",
       "      <th>ts</th>\n",
       "      <th>userAgent</th>\n",
       "      <th>userId</th>\n",
       "      <th>hour</th>\n",
       "    </tr>\n",
       "  </thead>\n",
       "  <tbody>\n",
       "    <tr>\n",
       "      <td>0</td>\n",
       "      <td>Showaddywaddy</td>\n",
       "      <td>Logged In</td>\n",
       "      <td>Kenneth</td>\n",
       "      <td>M</td>\n",
       "      <td>112</td>\n",
       "      <td>Matthews</td>\n",
       "      <td>232.93342</td>\n",
       "      <td>paid</td>\n",
       "      <td>Charlotte-Concord-Gastonia, NC-SC</td>\n",
       "      <td>PUT</td>\n",
       "      <td>NextSong</td>\n",
       "      <td>1509380319284</td>\n",
       "      <td>5132</td>\n",
       "      <td>Christmas Tears Will Fall</td>\n",
       "      <td>200</td>\n",
       "      <td>1513720872284</td>\n",
       "      <td>\"Mozilla/5.0 (Windows NT 6.1) AppleWebKit/537....</td>\n",
       "      <td>1046</td>\n",
       "      <td>22</td>\n",
       "    </tr>\n",
       "  </tbody>\n",
       "</table>\n",
       "</div>"
      ],
      "text/plain": [
       "          artist       auth firstName gender  itemInSession  lastName  \\\n",
       "0  Showaddywaddy  Logged In   Kenneth      M            112  Matthews   \n",
       "\n",
       "      length level                           location method      page  \\\n",
       "0  232.93342  paid  Charlotte-Concord-Gastonia, NC-SC    PUT  NextSong   \n",
       "\n",
       "    registration  sessionId                       song  status             ts  \\\n",
       "0  1509380319284       5132  Christmas Tears Will Fall     200  1513720872284   \n",
       "\n",
       "                                           userAgent userId hour  \n",
       "0  \"Mozilla/5.0 (Windows NT 6.1) AppleWebKit/537....   1046   22  "
      ]
     },
     "execution_count": 85,
     "metadata": {},
     "output_type": "execute_result"
    }
   ],
   "source": [
    "spark.sql('''\n",
    "          SELECT *, get_hour(ts) AS hour\n",
    "          FROM user_log_table \n",
    "          LIMIT 1\n",
    "          '''\n",
    "          ).toPandas()"
   ]
  },
  {
   "cell_type": "code",
   "execution_count": 87,
   "metadata": {},
   "outputs": [],
   "source": [
    "songs_in_hour = spark.sql(\"\"\"\n",
    "        SELECT get_hour(ts) AS hour, COUNT(*) AS plays_per_hour\n",
    "        FROM user_log_table\n",
    "        WHERE page='NextSong'\n",
    "        GROUP BY hour\n",
    "        ORDER BY CAST(hour AS INT) ASC\n",
    "        \"\"\")"
   ]
  },
  {
   "cell_type": "code",
   "execution_count": 88,
   "metadata": {},
   "outputs": [
    {
     "name": "stdout",
     "output_type": "stream",
     "text": [
      "+----+--------------+\n",
      "|hour|plays_per_hour|\n",
      "+----+--------------+\n",
      "|   0|           456|\n",
      "|   1|           454|\n",
      "|   2|           382|\n",
      "|   3|           302|\n",
      "|   4|           352|\n",
      "|   5|           276|\n",
      "|   6|           348|\n",
      "|   7|           358|\n",
      "|   8|           375|\n",
      "|   9|           249|\n",
      "|  10|           216|\n",
      "|  11|           228|\n",
      "|  12|           251|\n",
      "|  13|           339|\n",
      "|  14|           462|\n",
      "|  15|           479|\n",
      "|  16|           485|\n",
      "|  17|           430|\n",
      "|  18|           362|\n",
      "|  19|           295|\n",
      "+----+--------------+\n",
      "only showing top 20 rows\n",
      "\n"
     ]
    }
   ],
   "source": [
    "songs_in_hour.show()"
   ]
  },
  {
   "cell_type": "markdown",
   "metadata": {},
   "source": [
    "### Converting Results to Pandas"
   ]
  },
  {
   "cell_type": "code",
   "execution_count": 89,
   "metadata": {},
   "outputs": [],
   "source": [
    "songs_in_hour_pd = songs_in_hour.toPandas()"
   ]
  },
  {
   "cell_type": "code",
   "execution_count": 90,
   "metadata": {},
   "outputs": [
    {
     "data": {
      "text/html": [
       "<div>\n",
       "<style scoped>\n",
       "    .dataframe tbody tr th:only-of-type {\n",
       "        vertical-align: middle;\n",
       "    }\n",
       "\n",
       "    .dataframe tbody tr th {\n",
       "        vertical-align: top;\n",
       "    }\n",
       "\n",
       "    .dataframe thead th {\n",
       "        text-align: right;\n",
       "    }\n",
       "</style>\n",
       "<table border=\"1\" class=\"dataframe\">\n",
       "  <thead>\n",
       "    <tr style=\"text-align: right;\">\n",
       "      <th></th>\n",
       "      <th>hour</th>\n",
       "      <th>plays_per_hour</th>\n",
       "    </tr>\n",
       "  </thead>\n",
       "  <tbody>\n",
       "    <tr>\n",
       "      <td>0</td>\n",
       "      <td>0</td>\n",
       "      <td>456</td>\n",
       "    </tr>\n",
       "    <tr>\n",
       "      <td>1</td>\n",
       "      <td>1</td>\n",
       "      <td>454</td>\n",
       "    </tr>\n",
       "    <tr>\n",
       "      <td>2</td>\n",
       "      <td>2</td>\n",
       "      <td>382</td>\n",
       "    </tr>\n",
       "    <tr>\n",
       "      <td>3</td>\n",
       "      <td>3</td>\n",
       "      <td>302</td>\n",
       "    </tr>\n",
       "    <tr>\n",
       "      <td>4</td>\n",
       "      <td>4</td>\n",
       "      <td>352</td>\n",
       "    </tr>\n",
       "    <tr>\n",
       "      <td>5</td>\n",
       "      <td>5</td>\n",
       "      <td>276</td>\n",
       "    </tr>\n",
       "    <tr>\n",
       "      <td>6</td>\n",
       "      <td>6</td>\n",
       "      <td>348</td>\n",
       "    </tr>\n",
       "    <tr>\n",
       "      <td>7</td>\n",
       "      <td>7</td>\n",
       "      <td>358</td>\n",
       "    </tr>\n",
       "    <tr>\n",
       "      <td>8</td>\n",
       "      <td>8</td>\n",
       "      <td>375</td>\n",
       "    </tr>\n",
       "    <tr>\n",
       "      <td>9</td>\n",
       "      <td>9</td>\n",
       "      <td>249</td>\n",
       "    </tr>\n",
       "    <tr>\n",
       "      <td>10</td>\n",
       "      <td>10</td>\n",
       "      <td>216</td>\n",
       "    </tr>\n",
       "    <tr>\n",
       "      <td>11</td>\n",
       "      <td>11</td>\n",
       "      <td>228</td>\n",
       "    </tr>\n",
       "    <tr>\n",
       "      <td>12</td>\n",
       "      <td>12</td>\n",
       "      <td>251</td>\n",
       "    </tr>\n",
       "    <tr>\n",
       "      <td>13</td>\n",
       "      <td>13</td>\n",
       "      <td>339</td>\n",
       "    </tr>\n",
       "    <tr>\n",
       "      <td>14</td>\n",
       "      <td>14</td>\n",
       "      <td>462</td>\n",
       "    </tr>\n",
       "    <tr>\n",
       "      <td>15</td>\n",
       "      <td>15</td>\n",
       "      <td>479</td>\n",
       "    </tr>\n",
       "    <tr>\n",
       "      <td>16</td>\n",
       "      <td>16</td>\n",
       "      <td>485</td>\n",
       "    </tr>\n",
       "    <tr>\n",
       "      <td>17</td>\n",
       "      <td>17</td>\n",
       "      <td>430</td>\n",
       "    </tr>\n",
       "    <tr>\n",
       "      <td>18</td>\n",
       "      <td>18</td>\n",
       "      <td>362</td>\n",
       "    </tr>\n",
       "    <tr>\n",
       "      <td>19</td>\n",
       "      <td>19</td>\n",
       "      <td>295</td>\n",
       "    </tr>\n",
       "    <tr>\n",
       "      <td>20</td>\n",
       "      <td>20</td>\n",
       "      <td>257</td>\n",
       "    </tr>\n",
       "    <tr>\n",
       "      <td>21</td>\n",
       "      <td>21</td>\n",
       "      <td>248</td>\n",
       "    </tr>\n",
       "    <tr>\n",
       "      <td>22</td>\n",
       "      <td>22</td>\n",
       "      <td>369</td>\n",
       "    </tr>\n",
       "    <tr>\n",
       "      <td>23</td>\n",
       "      <td>23</td>\n",
       "      <td>375</td>\n",
       "    </tr>\n",
       "  </tbody>\n",
       "</table>\n",
       "</div>"
      ],
      "text/plain": [
       "   hour  plays_per_hour\n",
       "0     0             456\n",
       "1     1             454\n",
       "2     2             382\n",
       "3     3             302\n",
       "4     4             352\n",
       "5     5             276\n",
       "6     6             348\n",
       "7     7             358\n",
       "8     8             375\n",
       "9     9             249\n",
       "10   10             216\n",
       "11   11             228\n",
       "12   12             251\n",
       "13   13             339\n",
       "14   14             462\n",
       "15   15             479\n",
       "16   16             485\n",
       "17   17             430\n",
       "18   18             362\n",
       "19   19             295\n",
       "20   20             257\n",
       "21   21             248\n",
       "22   22             369\n",
       "23   23             375"
      ]
     },
     "execution_count": 90,
     "metadata": {},
     "output_type": "execute_result"
    }
   ],
   "source": [
    "songs_in_hour_pd"
   ]
  },
  {
   "cell_type": "markdown",
   "metadata": {},
   "source": [
    "## Quiz - Data Wrangling with SparkSQL\n",
    "This quiz uses the same dataset and most of the same questions from the earlier \"Quiz - Data Wrangling with Data Frames Jupyter Notebook.\" For this quiz, however, use Spark SQL instead of Spark Data Frames."
   ]
  },
  {
   "cell_type": "code",
   "execution_count": 93,
   "metadata": {},
   "outputs": [],
   "source": [
    "from pyspark.sql import SparkSession\n",
    "\n",
    "# TODOS: \n",
    "# 1) import any other libraries you might need\n",
    "# 2) instantiate a Spark session \n",
    "# 3) read in the data set located at the path \"data/sparkify_log_small.json\"\n",
    "# 4) create a view to use with your SQL queries\n",
    "# 5) write code to answer the quiz questions "
   ]
  },
  {
   "cell_type": "code",
   "execution_count": 95,
   "metadata": {},
   "outputs": [],
   "source": [
    "spark = SparkSession\\\n",
    "            .builder\\\n",
    "            .appName('Data Wrangling with Spark SQL Quiz')\\\n",
    "            .getOrCreate()"
   ]
  },
  {
   "cell_type": "code",
   "execution_count": 96,
   "metadata": {},
   "outputs": [],
   "source": [
    "user_log = spark.read.json('data/sparkify_log_small.json')"
   ]
  },
  {
   "cell_type": "code",
   "execution_count": 97,
   "metadata": {},
   "outputs": [],
   "source": [
    "user_log.createOrReplaceTempView('user_log_table')"
   ]
  },
  {
   "cell_type": "code",
   "execution_count": 98,
   "metadata": {},
   "outputs": [
    {
     "name": "stdout",
     "output_type": "stream",
     "text": [
      "root\n",
      " |-- artist: string (nullable = true)\n",
      " |-- auth: string (nullable = true)\n",
      " |-- firstName: string (nullable = true)\n",
      " |-- gender: string (nullable = true)\n",
      " |-- itemInSession: long (nullable = true)\n",
      " |-- lastName: string (nullable = true)\n",
      " |-- length: double (nullable = true)\n",
      " |-- level: string (nullable = true)\n",
      " |-- location: string (nullable = true)\n",
      " |-- method: string (nullable = true)\n",
      " |-- page: string (nullable = true)\n",
      " |-- registration: long (nullable = true)\n",
      " |-- sessionId: long (nullable = true)\n",
      " |-- song: string (nullable = true)\n",
      " |-- status: long (nullable = true)\n",
      " |-- ts: long (nullable = true)\n",
      " |-- userAgent: string (nullable = true)\n",
      " |-- userId: string (nullable = true)\n",
      "\n"
     ]
    }
   ],
   "source": [
    "user_log.printSchema()"
   ]
  },
  {
   "cell_type": "markdown",
   "metadata": {},
   "source": [
    "### Question 1\n",
    "\n",
    "Which page did user id \"\"(empty string) NOT visit?"
   ]
  },
  {
   "cell_type": "code",
   "execution_count": 99,
   "metadata": {},
   "outputs": [
    {
     "data": {
      "text/html": [
       "<div>\n",
       "<style scoped>\n",
       "    .dataframe tbody tr th:only-of-type {\n",
       "        vertical-align: middle;\n",
       "    }\n",
       "\n",
       "    .dataframe tbody tr th {\n",
       "        vertical-align: top;\n",
       "    }\n",
       "\n",
       "    .dataframe thead th {\n",
       "        text-align: right;\n",
       "    }\n",
       "</style>\n",
       "<table border=\"1\" class=\"dataframe\">\n",
       "  <thead>\n",
       "    <tr style=\"text-align: right;\">\n",
       "      <th></th>\n",
       "      <th>page</th>\n",
       "    </tr>\n",
       "  </thead>\n",
       "  <tbody>\n",
       "    <tr>\n",
       "      <td>0</td>\n",
       "      <td>Home</td>\n",
       "    </tr>\n",
       "    <tr>\n",
       "      <td>1</td>\n",
       "      <td>About</td>\n",
       "    </tr>\n",
       "    <tr>\n",
       "      <td>2</td>\n",
       "      <td>Login</td>\n",
       "    </tr>\n",
       "    <tr>\n",
       "      <td>3</td>\n",
       "      <td>Help</td>\n",
       "    </tr>\n",
       "  </tbody>\n",
       "</table>\n",
       "</div>"
      ],
      "text/plain": [
       "    page\n",
       "0   Home\n",
       "1  About\n",
       "2  Login\n",
       "3   Help"
      ]
     },
     "execution_count": 99,
     "metadata": {},
     "output_type": "execute_result"
    }
   ],
   "source": [
    "spark.sql(\"\"\"\n",
    "        SELECT DISTINCT page\n",
    "        FROM user_log_table\n",
    "        WHERE userId = ''\n",
    "        \"\"\").toPandas()"
   ]
  },
  {
   "cell_type": "markdown",
   "metadata": {},
   "source": [
    "### Question 2 - Reflect\n",
    "\n",
    "Why might you prefer to use SQL over data frames? Why might you prefer data frames over SQL?\n"
   ]
  },
  {
   "cell_type": "markdown",
   "metadata": {},
   "source": [
    "Both Spark SQL and Spark Data Frames are part of the Spark SQL library. Hence, they both use the Spark SQL Catalyst Optimizer to optimize queries. \n",
    "\n",
    "You might prefer SQL over data frames because the syntax is clearer especially for teams already experienced in SQL.\n",
    "\n",
    "Spark data frames give you more control. You can break down your queries into smaller steps, which can make debugging easier. You can also [cache](https://unraveldata.com/to-cache-or-not-to-cache/) intermediate results or [repartition](https://hackernoon.com/managing-spark-partitions-with-coalesce-and-repartition-4050c57ad5c4) intermediate results."
   ]
  },
  {
   "cell_type": "markdown",
   "metadata": {},
   "source": [
    "### Question 3\n",
    "How many female users do we have in the data set?"
   ]
  },
  {
   "cell_type": "code",
   "execution_count": 103,
   "metadata": {},
   "outputs": [
    {
     "name": "stdout",
     "output_type": "stream",
     "text": [
      "+------------+\n",
      "|female_users|\n",
      "+------------+\n",
      "|         462|\n",
      "+------------+\n",
      "\n"
     ]
    }
   ],
   "source": [
    "spark.sql(\"\"\"\n",
    "        SELECT COUNT(DISTINCT(userId,gender)) AS female_users\n",
    "        FROM user_log_table\n",
    "        WHERE gender = 'F'\n",
    "        \"\"\").show()"
   ]
  },
  {
   "cell_type": "markdown",
   "metadata": {},
   "source": [
    "### Question 4\n",
    "How many songs were played from the most played artist?"
   ]
  },
  {
   "cell_type": "code",
   "execution_count": 104,
   "metadata": {},
   "outputs": [
    {
     "data": {
      "text/html": [
       "<div>\n",
       "<style scoped>\n",
       "    .dataframe tbody tr th:only-of-type {\n",
       "        vertical-align: middle;\n",
       "    }\n",
       "\n",
       "    .dataframe tbody tr th {\n",
       "        vertical-align: top;\n",
       "    }\n",
       "\n",
       "    .dataframe thead th {\n",
       "        text-align: right;\n",
       "    }\n",
       "</style>\n",
       "<table border=\"1\" class=\"dataframe\">\n",
       "  <thead>\n",
       "    <tr style=\"text-align: right;\">\n",
       "      <th></th>\n",
       "      <th>artist</th>\n",
       "      <th>count</th>\n",
       "    </tr>\n",
       "  </thead>\n",
       "  <tbody>\n",
       "    <tr>\n",
       "      <td>0</td>\n",
       "      <td>Coldplay</td>\n",
       "      <td>83</td>\n",
       "    </tr>\n",
       "  </tbody>\n",
       "</table>\n",
       "</div>"
      ],
      "text/plain": [
       "     artist  count\n",
       "0  Coldplay     83"
      ]
     },
     "execution_count": 104,
     "metadata": {},
     "output_type": "execute_result"
    }
   ],
   "source": [
    "spark.sql(\"\"\"\n",
    "        SELECT artist,COUNT(*) AS count\n",
    "        FROM user_log_table\n",
    "        WHERE artist IS NOT NULL\n",
    "        GROUP BY artist\n",
    "        ORDER BY count DESC\n",
    "        LIMIT 1\n",
    "        \"\"\").toPandas()"
   ]
  },
  {
   "cell_type": "markdown",
   "metadata": {},
   "source": [
    "### Question 5 (challenge)\n",
    "\n",
    "How many songs do users listen to on average between visiting our home page? Please round your answer to the closest integer."
   ]
  },
  {
   "cell_type": "code",
   "execution_count": 116,
   "metadata": {},
   "outputs": [
    {
     "name": "stdout",
     "output_type": "stream",
     "text": [
      "+------------------+\n",
      "|avg(count_results)|\n",
      "+------------------+\n",
      "| 6.899173553719009|\n",
      "+------------------+\n",
      "\n"
     ]
    }
   ],
   "source": [
    "is_home = spark.sql(\"\"\"\n",
    "        SELECT userId, page, ts , \n",
    "            CASE WHEN page = 'Home' THEN 1 ELSE 0 END AS is_home\n",
    "        FROM user_log_table\n",
    "        WHERE page = 'NextSong' OR page = 'Home'\n",
    "        \"\"\")\n",
    "is_home.createOrReplaceTempView('is_home_table')\n",
    "\n",
    "# find the cumulative sum over the is_home column\n",
    "cumulative_sum = spark.sql(\"\"\"\n",
    "        SELECT *, SUM(is_home) OVER (PARTITION BY userId ORDER BY ts DESC ROWS BETWEEN UNBOUNDED PRECEDING AND CURRENT ROW) AS period\n",
    "            FROM is_home_table\n",
    "        \"\"\")\n",
    "# keep the results in a view\n",
    "cumulative_sum.createOrReplaceTempView(\"period_table\")\n",
    "\n",
    "# find the average count for NextSong\n",
    "spark.sql(\"SELECT AVG(count_results) FROM \\\n",
    "          (SELECT COUNT(*) AS count_results FROM period_table \\\n",
    "GROUP BY userID, period, page HAVING page = 'NextSong') AS counts\").show()"
   ]
  }
 ],
 "metadata": {
  "kernelspec": {
   "display_name": "Python 3",
   "language": "python",
   "name": "python3"
  },
  "language_info": {
   "codemirror_mode": {
    "name": "ipython",
    "version": 3
   },
   "file_extension": ".py",
   "mimetype": "text/x-python",
   "name": "python",
   "nbconvert_exporter": "python",
   "pygments_lexer": "ipython3",
   "version": "3.7.4"
  }
 },
 "nbformat": 4,
 "nbformat_minor": 4
}
