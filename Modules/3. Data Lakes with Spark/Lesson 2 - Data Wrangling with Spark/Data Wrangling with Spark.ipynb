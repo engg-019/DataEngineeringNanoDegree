{
 "cells": [
  {
   "cell_type": "markdown",
   "metadata": {},
   "source": [
    "## Functional Programming\n",
    "* Spark is written in functional programming language Scala\n",
    "* Application Programming Interface available in Java, R, Python\n",
    "* In this course we'll using Python API (Pyspark) and we'll see the functional programming influence of Scala in Pyspark\n",
    "E.g. let's look at the map reduce song count example\n",
    "\n",
    "<img src=\"images/map_reduce.png\">\n",
    "\n",
    "This approach is different from Procedural Style as this is functional programming approach. In procedural style as shown below we use a counter and iterate through all the songs and increment when the song matches.\n",
    "\n",
    "<img src=\"images/functional_procedural.png\">"
   ]
  },
  {
   "cell_type": "markdown",
   "metadata": {},
   "source": [
    "## Why use Functional Programming\n",
    "* Perfect for distributed systems\n",
    "* It has no side-effects on variables out of its scope\n",
    "* It gets its name from functions in Algebra e.g\n",
    "        f(x) = x + 5\n",
    "        f(3) = 8\n",
    "Here the output only depends on the input while in python functions the output depends not only on the input but also on the parameters e.g\n",
    "        w = -1\n",
    "        def f(x):\n",
    "            global w\n",
    "            w += 1\n",
    "            return x + w+ 5\n",
    "            \n",
    "### QUIZ QUESTION\n",
    "How is it possible that Spark programs can be written in Python if Python is not a functional programming language? Mark all answers that are true.\n",
    "- [ ] You cannot write Spark Programs in Python\n",
    "- [x] The Pyspark API is written with functional programming principles in mind.\n",
    "- [ ] You can write Spark programs in Python using an API, but you need to be extra careful when writing Spark Programs with the Pyspark API because Python is an imperative language.\n",
    "- [ ] Spark is written in Scala. So the PySpark API first translates your code to Scala, which is a functional programming language."
   ]
  },
  {
   "cell_type": "markdown",
   "metadata": {
    "toc-hr-collapsed": true
   },
   "source": [
    "## Procedural Programming\n",
    "\n",
    "The code in this section counts the number of times a song appears in the log_of_songs variable. \n",
    "\n",
    "You'll notice that the first time you run `count_plays(\"Despacito\")`, you get the correct count. However, when you run the same code again `count_plays(\"Despacito\")`, the results are no longer correct.This is because the global variable `play_count` stores the results outside of the count_plays function. "
   ]
  },
  {
   "cell_type": "code",
   "execution_count": 1,
   "metadata": {},
   "outputs": [],
   "source": [
    "log_of_songs = [\n",
    "        \"Despacito\",\n",
    "        \"Nice for what\",\n",
    "        \"No tears left to cry\",\n",
    "        \"Despacito\",\n",
    "        \"Havana\",\n",
    "        \"In my feelings\",\n",
    "        \"Nice for what\",\n",
    "        \"Despacito\",\n",
    "        \"All the stars\"\n",
    "]"
   ]
  },
  {
   "cell_type": "code",
   "execution_count": 2,
   "metadata": {},
   "outputs": [],
   "source": [
    "play_count = 0"
   ]
  },
  {
   "cell_type": "code",
   "execution_count": 3,
   "metadata": {},
   "outputs": [],
   "source": [
    "def count_plays(song_title):\n",
    "    global play_count\n",
    "    for song in log_of_songs:\n",
    "        if song == song_title:\n",
    "            play_count = play_count + 1\n",
    "    return play_count"
   ]
  },
  {
   "cell_type": "code",
   "execution_count": 4,
   "metadata": {},
   "outputs": [
    {
     "data": {
      "text/plain": [
       "3"
      ]
     },
     "execution_count": 4,
     "metadata": {},
     "output_type": "execute_result"
    }
   ],
   "source": [
    "count_plays(\"Despacito\")"
   ]
  },
  {
   "cell_type": "code",
   "execution_count": 5,
   "metadata": {},
   "outputs": [
    {
     "data": {
      "text/plain": [
       "6"
      ]
     },
     "execution_count": 5,
     "metadata": {},
     "output_type": "execute_result"
    }
   ],
   "source": [
    "count_plays(\"Despacito\")"
   ]
  },
  {
   "cell_type": "markdown",
   "metadata": {},
   "source": [
    "### How to Solve the Issue\n",
    "\n",
    "How might you solve this issue? You could get rid of the global variable and instead use play_count as an input to the function:\n",
    "\n",
    "```python\n",
    "def count_plays(song_title, play_count):\n",
    "    for song in log_of_songs:\n",
    "        if song == song_title:\n",
    "            play_count = play_count + 1\n",
    "    return play_count\n",
    "\n",
    "```\n",
    "\n",
    "How would this work with parallel programming? Spark splits up data onto multiple machines. If your songs list were split onto two machines, Machine A would first need to finish counting, and then return its own result to Machine B. And then Machine B could use the output from Machine A and add to the count.\n",
    "\n",
    "However, that isn't parallel computing. Machine B would have to wait until Machine A finishes. You'll see in the next parts of the lesson how Spark solves this issue with a functional programming paradigm.\n",
    "\n",
    "In Spark, if your data is split onto two different machines, machine A will run a function to count how many times 'Despacito' appears on machine A. Machine B will simultaneously run a function to count how many times 'Despacito' appears on machine B. After they finish counting individually, they'll combine their results together. You'll see how this works in the next parts of the lesson."
   ]
  },
  {
   "cell_type": "markdown",
   "metadata": {},
   "source": [
    "## The Spark DAGs: Recipe for Data\n",
    "Every spark function makes a copy of its input data and never changes the original parent data. As spark does not change the input data its called immutable. This makes sense when you have a single function but what happens when you have a lots of functions.After all there are a lot of steps when you wrangle data. In Spark we do that by chaining together multiple functions that each accomplish small amount of work. It seems that Spark would need to create a copy of the data for each sub-function but if this was the case the spark would run out of the memory. To avoid that Spark uses Lazy evaluation. Before Spark does anything on the data it first builds step by step  directions of which functions and data it'll need. These directions in Spark are called Directed Acyclic Graph (DAG for short). \n",
    "\n",
    "<img src=\"images/dag.png\">\n",
    "\n",
    "Once spark builds the DAG from the code it checks if it can procrastinate, waiting until the last possible moment to get the data.\n",
    "\n",
    "Click [here](https://www.youtube.com/watch?v=lrgHpuIJxfM) for more explanation."
   ]
  },
  {
   "cell_type": "markdown",
   "metadata": {},
   "source": [
    "## Maps and Lambda Functions\n",
    "### Maps\n",
    "\n",
    "In Spark, maps take data as input and then transform that data with whatever function you put in the map. They are like directions for the data telling how each input should get to the output.\n",
    "\n",
    "The first code cell creates a SparkContext object. With the SparkContext, you can input a dataset and parallelize the data across a cluster (since you are currently using Spark in local mode on a single machine, technically the dataset isn't distributed yet).\n",
    "\n",
    "Run the code cell below to instantiate a SparkContext object and then read in the log_of_songs list into Spark. "
   ]
  },
  {
   "cell_type": "code",
   "execution_count": 6,
   "metadata": {},
   "outputs": [],
   "source": [
    "import pyspark\n",
    "sc = pyspark.SparkContext(appName=\"maps_and_lazy_evaluation_example\")\n",
    "\n",
    "log_of_songs = [\n",
    "        \"Despacito\",\n",
    "        \"Nice for what\",\n",
    "        \"No tears left to cry\",\n",
    "        \"Despacito\",\n",
    "        \"Havana\",\n",
    "        \"In my feelings\",\n",
    "        \"Nice for what\",\n",
    "        \"despacito\",\n",
    "        \"All the stars\"\n",
    "]\n",
    "\n",
    "# parallelize the log_of_songs to use with Spark\n",
    "distributed_song_log = sc.parallelize(log_of_songs)"
   ]
  },
  {
   "cell_type": "markdown",
   "metadata": {},
   "source": [
    "This next code cell defines a function that converts a song title to lowercase. Then there is an example converting the word \"Havana\" to \"havana\"."
   ]
  },
  {
   "cell_type": "code",
   "execution_count": 7,
   "metadata": {},
   "outputs": [
    {
     "data": {
      "text/plain": [
       "'havana'"
      ]
     },
     "execution_count": 7,
     "metadata": {},
     "output_type": "execute_result"
    }
   ],
   "source": [
    "def convert_song_to_lowercase(song):\n",
    "    return song.lower()\n",
    "\n",
    "convert_song_to_lowercase(\"Havana\")"
   ]
  },
  {
   "cell_type": "markdown",
   "metadata": {},
   "source": [
    "The following code cells demonstrate how to apply this function using a map step. The map step will go through each song in the list and apply the convert_song_to_lowercase() function. "
   ]
  },
  {
   "cell_type": "code",
   "execution_count": 8,
   "metadata": {},
   "outputs": [
    {
     "data": {
      "text/plain": [
       "PythonRDD[1] at RDD at PythonRDD.scala:53"
      ]
     },
     "execution_count": 8,
     "metadata": {},
     "output_type": "execute_result"
    }
   ],
   "source": [
    "distributed_song_log.map(convert_song_to_lowercase)"
   ]
  },
  {
   "cell_type": "markdown",
   "metadata": {},
   "source": [
    "You'll notice that this code cell ran quite quickly. This is because of lazy evaluation. Spark does not actually execute the map step unless it needs to.\n",
    "\n",
    "\"RDD\" in the output refers to resilient distributed dataset. RDDs are exactly what they say they are: fault-tolerant datasets distributed across a cluster. This is how Spark stores data. \n",
    "\n",
    "To get Spark to actually run the map step, you need to use an \"action\". One available action is the collect method. The collect() method takes the results from all of the clusters and \"collects\" them into a single list on the master node."
   ]
  },
  {
   "cell_type": "code",
   "execution_count": 9,
   "metadata": {},
   "outputs": [
    {
     "data": {
      "text/plain": [
       "['despacito',\n",
       " 'nice for what',\n",
       " 'no tears left to cry',\n",
       " 'despacito',\n",
       " 'havana',\n",
       " 'in my feelings',\n",
       " 'nice for what',\n",
       " 'despacito',\n",
       " 'all the stars']"
      ]
     },
     "execution_count": 9,
     "metadata": {},
     "output_type": "execute_result"
    }
   ],
   "source": [
    "distributed_song_log.map(convert_song_to_lowercase).collect()"
   ]
  },
  {
   "cell_type": "markdown",
   "metadata": {},
   "source": [
    "Note as well that Spark is not changing the original data set: Spark is merely making a copy. You can see this by running collect() on the original dataset."
   ]
  },
  {
   "cell_type": "code",
   "execution_count": 10,
   "metadata": {},
   "outputs": [
    {
     "data": {
      "text/plain": [
       "['Despacito',\n",
       " 'Nice for what',\n",
       " 'No tears left to cry',\n",
       " 'Despacito',\n",
       " 'Havana',\n",
       " 'In my feelings',\n",
       " 'Nice for what',\n",
       " 'despacito',\n",
       " 'All the stars']"
      ]
     },
     "execution_count": 10,
     "metadata": {},
     "output_type": "execute_result"
    }
   ],
   "source": [
    "distributed_song_log.collect()"
   ]
  },
  {
   "cell_type": "markdown",
   "metadata": {},
   "source": [
    "You do not always have to write a custom function for the map step. You can also use anonymous (lambda) functions as well as built-in Python functions like string.lower(). \n",
    "\n",
    "Anonymous functions are actually a Python feature for writing functional style programs."
   ]
  },
  {
   "cell_type": "code",
   "execution_count": 11,
   "metadata": {},
   "outputs": [
    {
     "data": {
      "text/plain": [
       "['despacito',\n",
       " 'nice for what',\n",
       " 'no tears left to cry',\n",
       " 'despacito',\n",
       " 'havana',\n",
       " 'in my feelings',\n",
       " 'nice for what',\n",
       " 'despacito',\n",
       " 'all the stars']"
      ]
     },
     "execution_count": 11,
     "metadata": {},
     "output_type": "execute_result"
    }
   ],
   "source": [
    "distributed_song_log.map(lambda song: song.lower()).collect()"
   ]
  },
  {
   "cell_type": "markdown",
   "metadata": {},
   "source": [
    "## Data Formats\n",
    "The most common data formats are:\n",
    "* **CSV** - Comma Separated values(CSV) file stores tabula data in index format. Each line represents record where fields are in the same order defined usually by the first header. As the name suggests the records are separated by the `,`. This might be problematic if the records contain commas as well. So oftentimes the records are wrapped in quotes or alternative separators actualism.\n",
    "* **JSON** - JavaScript Object Notation (JSON) store records in attribute value pairs. The values may contain simple often numeric types or arrays. JSON is very commonly used for browser server communication. So web server log files often contain this format.\n",
    "* **HTML** - Hypertext Markup Language (HTML) is a standard markup language for creating web pages and we applications. If you scrape data from the Internet you will need to deal with HTML. Here we have tags like `<h1>` and values are enclosed between staring tag and ending tag. Following is an example of the tag and values:\n",
    "        <h1> Header 1 </h1> \n",
    "* **XML** - Extensible Markup Language (XML) is generalized version of HTML where the tags don't have specific meaning. In XML you can define your own tags to encode the information in both a machine and human readable format. The difficulty in dealing with XML and HTML is that the elements can be nested."
   ]
  },
  {
   "cell_type": "markdown",
   "metadata": {},
   "source": [
    "## Distributed Data Stores\n",
    "When we have so much data that we need distributed computing. The data itself needs to stored in a distributed way as well. Distributed files systems store the data in  a fault tolerant way. So if a machine breaks we don't lose the information.\n",
    "In HDFS data is split in 128MB or 64 MB blocks and replicates this block across the cluster.\n",
    "<img src=\"images/hdfs.png\">\n",
    "\n",
    "AWS uses S3 to store the raw data."
   ]
  },
  {
   "cell_type": "markdown",
   "metadata": {},
   "source": [
    "## SparkSession\n",
    "The first component of each Spark Program is the the SparkContext. Spark context is the main entry point for the spark functionality and connects the cluster with the application.  \n",
    "\n",
    "<img src=\"images/spark_context.png\">\n",
    "\n",
    "If we want to use lower level abstractions we'll create objects with SparkContext. Following is an example of the spark context:"
   ]
  },
  {
   "cell_type": "code",
   "execution_count": 1,
   "metadata": {},
   "outputs": [],
   "source": [
    "from pyspark import SparkConf, SparkContext\n",
    "\n",
    "# To create SparkContext we need to create sparkConf object first\n",
    "configure = SparkConf().setAppName('name').setMaster('local')\n",
    "\n",
    "sc = SparkContext(conf=configure)"
   ]
  },
  {
   "cell_type": "markdown",
   "metadata": {},
   "source": [
    "To create dataframes we'll use SparkSession."
   ]
  },
  {
   "cell_type": "code",
   "execution_count": 1,
   "metadata": {},
   "outputs": [],
   "source": [
    "from pyspark.sql import SparkSession\n",
    "\n",
    "spark = SparkSession\\\n",
    "            .builder\\\n",
    "            .appName('app name')\\\n",
    "            .config('spark.master','local')\\\n",
    "            .getOrCreate()"
   ]
  },
  {
   "cell_type": "markdown",
   "metadata": {},
   "source": [
    "## Reading and Writing Data with Spark\n",
    "\n",
    "This block contains the code from the previous screencast. The only difference is that instead of reading in a dataset from a remote cluster, the data set is read in from a local file. You can see the file by clicking on the \"jupyter\" icon and opening the folder titled \"data\".\n",
    "\n",
    "Run the code cell to see how everything works. \n",
    "\n",
    "First let's import SparkConf and SparkSession"
   ]
  },
  {
   "cell_type": "code",
   "execution_count": 1,
   "metadata": {},
   "outputs": [],
   "source": [
    "from pyspark import SparkConf\n",
    "from pyspark.sql import SparkSession"
   ]
  },
  {
   "cell_type": "markdown",
   "metadata": {},
   "source": [
    "Since we're using Spark locally we already have both a sparkcontext and a sparksession running. We can update some of the parameters, such our application's name. Let's just call it \"Our first Python Spark SQL example\""
   ]
  },
  {
   "cell_type": "code",
   "execution_count": 2,
   "metadata": {},
   "outputs": [],
   "source": [
    "spark = SparkSession \\\n",
    "    .builder \\\n",
    "    .appName(\"Our first Python Spark SQL example\") \\\n",
    "    .getOrCreate()"
   ]
  },
  {
   "cell_type": "markdown",
   "metadata": {},
   "source": [
    "Let's check if the change went through"
   ]
  },
  {
   "cell_type": "code",
   "execution_count": 3,
   "metadata": {},
   "outputs": [
    {
     "data": {
      "text/plain": [
       "[('spark.app.name', 'Our first Python Spark SQL example'),\n",
       " ('spark.driver.host', 'LAPTOP-HLMKHI3J'),\n",
       " ('spark.rdd.compress', 'True'),\n",
       " ('spark.serializer.objectStreamReset', '100'),\n",
       " ('spark.master', 'local[*]'),\n",
       " ('spark.driver.port', '50666'),\n",
       " ('spark.executor.id', 'driver'),\n",
       " ('spark.submit.deployMode', 'client'),\n",
       " ('spark.app.id', 'local-1578032568411'),\n",
       " ('spark.ui.showConsoleProgress', 'true')]"
      ]
     },
     "execution_count": 3,
     "metadata": {},
     "output_type": "execute_result"
    }
   ],
   "source": [
    "spark.sparkContext.getConf().getAll()"
   ]
  },
  {
   "cell_type": "code",
   "execution_count": 4,
   "metadata": {},
   "outputs": [
    {
     "data": {
      "text/html": [
       "\n",
       "            <div>\n",
       "                <p><b>SparkSession - in-memory</b></p>\n",
       "                \n",
       "        <div>\n",
       "            <p><b>SparkContext</b></p>\n",
       "\n",
       "            <p><a href=\"http://LAPTOP-HLMKHI3J:4040\">Spark UI</a></p>\n",
       "\n",
       "            <dl>\n",
       "              <dt>Version</dt>\n",
       "                <dd><code>v2.4.4</code></dd>\n",
       "              <dt>Master</dt>\n",
       "                <dd><code>local[*]</code></dd>\n",
       "              <dt>AppName</dt>\n",
       "                <dd><code>Our first Python Spark SQL example</code></dd>\n",
       "            </dl>\n",
       "        </div>\n",
       "        \n",
       "            </div>\n",
       "        "
      ],
      "text/plain": [
       "<pyspark.sql.session.SparkSession at 0x29457d59e08>"
      ]
     },
     "execution_count": 4,
     "metadata": {},
     "output_type": "execute_result"
    }
   ],
   "source": [
    "spark"
   ]
  },
  {
   "cell_type": "markdown",
   "metadata": {},
   "source": [
    "As you can see the app name is exactly how we set it\n",
    "\n",
    "Let's create our first dataframe from a fairly small sample data set. Througout the course we'll work with a log file data set that describes user interactions with a music streaming service. The records describe events such as logging in to the site, visiting a page, listening to the next song, seeing an ad."
   ]
  },
  {
   "cell_type": "code",
   "execution_count": 16,
   "metadata": {},
   "outputs": [],
   "source": [
    "user_log = spark.read.json('data/sparkify_log_small.json')"
   ]
  },
  {
   "cell_type": "code",
   "execution_count": 17,
   "metadata": {},
   "outputs": [
    {
     "name": "stdout",
     "output_type": "stream",
     "text": [
      "root\n",
      " |-- artist: string (nullable = true)\n",
      " |-- auth: string (nullable = true)\n",
      " |-- firstName: string (nullable = true)\n",
      " |-- gender: string (nullable = true)\n",
      " |-- itemInSession: long (nullable = true)\n",
      " |-- lastName: string (nullable = true)\n",
      " |-- length: double (nullable = true)\n",
      " |-- level: string (nullable = true)\n",
      " |-- location: string (nullable = true)\n",
      " |-- method: string (nullable = true)\n",
      " |-- page: string (nullable = true)\n",
      " |-- registration: long (nullable = true)\n",
      " |-- sessionId: long (nullable = true)\n",
      " |-- song: string (nullable = true)\n",
      " |-- status: long (nullable = true)\n",
      " |-- ts: long (nullable = true)\n",
      " |-- userAgent: string (nullable = true)\n",
      " |-- userId: string (nullable = true)\n",
      "\n"
     ]
    }
   ],
   "source": [
    "user_log.printSchema()"
   ]
  },
  {
   "cell_type": "code",
   "execution_count": 18,
   "metadata": {},
   "outputs": [
    {
     "data": {
      "text/plain": [
       "DataFrame[summary: string, artist: string, auth: string, firstName: string, gender: string, itemInSession: string, lastName: string, length: string, level: string, location: string, method: string, page: string, registration: string, sessionId: string, song: string, status: string, ts: string, userAgent: string, userId: string]"
      ]
     },
     "execution_count": 18,
     "metadata": {},
     "output_type": "execute_result"
    }
   ],
   "source": [
    "user_log.describe()"
   ]
  },
  {
   "cell_type": "code",
   "execution_count": 19,
   "metadata": {},
   "outputs": [
    {
     "name": "stdout",
     "output_type": "stream",
     "text": [
      "+-------------+---------+---------+------+-------------+--------+---------+-----+--------------------+------+--------+-------------+---------+--------------------+------+-------------+--------------------+------+\n",
      "|       artist|     auth|firstName|gender|itemInSession|lastName|   length|level|            location|method|    page| registration|sessionId|                song|status|           ts|           userAgent|userId|\n",
      "+-------------+---------+---------+------+-------------+--------+---------+-----+--------------------+------+--------+-------------+---------+--------------------+------+-------------+--------------------+------+\n",
      "|Showaddywaddy|Logged In|  Kenneth|     M|          112|Matthews|232.93342| paid|Charlotte-Concord...|   PUT|NextSong|1509380319284|     5132|Christmas Tears W...|   200|1513720872284|\"Mozilla/5.0 (Win...|  1046|\n",
      "+-------------+---------+---------+------+-------------+--------+---------+-----+--------------------+------+--------+-------------+---------+--------------------+------+-------------+--------------------+------+\n",
      "only showing top 1 row\n",
      "\n"
     ]
    }
   ],
   "source": [
    "user_log.show(n=1)"
   ]
  },
  {
   "cell_type": "code",
   "execution_count": 10,
   "metadata": {},
   "outputs": [
    {
     "data": {
      "text/plain": [
       "[Row(_corrupt_record=None, artist='Showaddywaddy', auth='Logged In', firstName='Kenneth', gender='M', itemInSession=112, lastName='Matthews', length=232.93342, level='paid', location='Charlotte-Concord-Gastonia, NC-SC', method='PUT', page='NextSong', registration=1509380319284, sessionId=5132, song='Christmas Tears Will Fall', status=200, ts=1513720872284, userAgent='\"Mozilla/5.0 (Windows NT 6.1) AppleWebKit/537.36 (KHTML, like Gecko) Chrome/36.0.1985.125 Safari/537.36\"', userId='1046'),\n",
       " Row(_corrupt_record=None, artist='Lily Allen', auth='Logged In', firstName='Elizabeth', gender='F', itemInSession=7, lastName='Chase', length=195.23873, level='free', location='Shreveport-Bossier City, LA', method='PUT', page='NextSong', registration=1512718541284, sessionId=5027, song='Cheryl Tweedy', status=200, ts=1513720878284, userAgent='\"Mozilla/5.0 (Windows NT 6.1) AppleWebKit/537.36 (KHTML, like Gecko) Chrome/36.0.1985.143 Safari/537.36\"', userId='1000'),\n",
       " Row(_corrupt_record=None, artist='Cobra Starship Featuring Leighton Meester', auth='Logged In', firstName='Vera', gender='F', itemInSession=6, lastName='Blackwell', length=196.20526, level='paid', location='Racine, WI', method='PUT', page='NextSong', registration=1499855749284, sessionId=5516, song='Good Girls Go Bad (Feat.Leighton Meester) (Album Version)', status=200, ts=1513720881284, userAgent='\"Mozilla/5.0 (Macintosh; Intel Mac OS X 10_9_4) AppleWebKit/537.78.2 (KHTML, like Gecko) Version/7.0.6 Safari/537.78.2\"', userId='2219'),\n",
       " Row(_corrupt_record=None, artist='Alex Smoke', auth='Logged In', firstName='Sophee', gender='F', itemInSession=8, lastName='Barker', length=405.99465, level='paid', location='San Luis Obispo-Paso Robles-Arroyo Grande, CA', method='PUT', page='NextSong', registration=1513009647284, sessionId=2372, song=\"Don't See The Point\", status=200, ts=1513720905284, userAgent='\"Mozilla/5.0 (Windows NT 6.1; WOW64) AppleWebKit/537.36 (KHTML, like Gecko) Chrome/36.0.1985.143 Safari/537.36\"', userId='2373'),\n",
       " Row(_corrupt_record=None, artist=None, auth='Logged In', firstName='Jordyn', gender='F', itemInSession=0, lastName='Jones', length=None, level='free', location='Syracuse, NY', method='GET', page='Home', registration=1513648531284, sessionId=1746, song=None, status=200, ts=1513720913284, userAgent='\"Mozilla/5.0 (Macintosh; Intel Mac OS X 10_9_4) AppleWebKit/537.36 (KHTML, like Gecko) Chrome/37.0.2062.94 Safari/537.36\"', userId='1747')]"
      ]
     },
     "execution_count": 10,
     "metadata": {},
     "output_type": "execute_result"
    }
   ],
   "source": [
    "user_log.take(5)"
   ]
  },
  {
   "cell_type": "code",
   "execution_count": 20,
   "metadata": {},
   "outputs": [],
   "source": [
    "out_path = \"data/sparkify_log_small.csv\""
   ]
  },
  {
   "cell_type": "code",
   "execution_count": 21,
   "metadata": {},
   "outputs": [],
   "source": [
    "user_log.write.save(out_path, format=\"csv\", header=True)"
   ]
  },
  {
   "cell_type": "code",
   "execution_count": 22,
   "metadata": {},
   "outputs": [],
   "source": [
    "user_log_2 = spark.read.csv(out_path, header=True)"
   ]
  },
  {
   "cell_type": "code",
   "execution_count": 23,
   "metadata": {},
   "outputs": [
    {
     "name": "stdout",
     "output_type": "stream",
     "text": [
      "root\n",
      " |-- artist: string (nullable = true)\n",
      " |-- auth: string (nullable = true)\n",
      " |-- firstName: string (nullable = true)\n",
      " |-- gender: string (nullable = true)\n",
      " |-- itemInSession: string (nullable = true)\n",
      " |-- lastName: string (nullable = true)\n",
      " |-- length: string (nullable = true)\n",
      " |-- level: string (nullable = true)\n",
      " |-- location: string (nullable = true)\n",
      " |-- method: string (nullable = true)\n",
      " |-- page: string (nullable = true)\n",
      " |-- registration: string (nullable = true)\n",
      " |-- sessionId: string (nullable = true)\n",
      " |-- song: string (nullable = true)\n",
      " |-- status: string (nullable = true)\n",
      " |-- ts: string (nullable = true)\n",
      " |-- userAgent: string (nullable = true)\n",
      " |-- userId: string (nullable = true)\n",
      "\n"
     ]
    }
   ],
   "source": [
    "user_log_2.printSchema()"
   ]
  },
  {
   "cell_type": "code",
   "execution_count": 24,
   "metadata": {},
   "outputs": [
    {
     "data": {
      "text/plain": [
       "[Row(artist='Showaddywaddy', auth='Logged In', firstName='Kenneth', gender='M', itemInSession='112', lastName='Matthews', length='232.93342', level='paid', location='Charlotte-Concord-Gastonia, NC-SC', method='PUT', page='NextSong', registration='1509380319284', sessionId='5132', song='Christmas Tears Will Fall', status='200', ts='1513720872284', userAgent='\"Mozilla/5.0 (Windows NT 6.1) AppleWebKit/537.36 (KHTML, like Gecko) Chrome/36.0.1985.125 Safari/537.36\"', userId='1046'),\n",
       " Row(artist='Lily Allen', auth='Logged In', firstName='Elizabeth', gender='F', itemInSession='7', lastName='Chase', length='195.23873', level='free', location='Shreveport-Bossier City, LA', method='PUT', page='NextSong', registration='1512718541284', sessionId='5027', song='Cheryl Tweedy', status='200', ts='1513720878284', userAgent='\"Mozilla/5.0 (Windows NT 6.1) AppleWebKit/537.36 (KHTML, like Gecko) Chrome/36.0.1985.143 Safari/537.36\"', userId='1000')]"
      ]
     },
     "execution_count": 24,
     "metadata": {},
     "output_type": "execute_result"
    }
   ],
   "source": [
    "user_log_2.take(2)"
   ]
  },
  {
   "cell_type": "code",
   "execution_count": 25,
   "metadata": {},
   "outputs": [
    {
     "name": "stdout",
     "output_type": "stream",
     "text": [
      "+------+\n",
      "|userID|\n",
      "+------+\n",
      "|  1046|\n",
      "|  1000|\n",
      "|  2219|\n",
      "|  2373|\n",
      "|  1747|\n",
      "|  1747|\n",
      "|  1162|\n",
      "|  1061|\n",
      "|   748|\n",
      "|   597|\n",
      "|  1806|\n",
      "|   748|\n",
      "|  1176|\n",
      "|  2164|\n",
      "|  2146|\n",
      "|  2219|\n",
      "|  1176|\n",
      "|  2904|\n",
      "|   597|\n",
      "|   226|\n",
      "+------+\n",
      "only showing top 20 rows\n",
      "\n"
     ]
    }
   ],
   "source": [
    "user_log_2.select(\"userID\").show()"
   ]
  },
  {
   "cell_type": "markdown",
   "metadata": {},
   "source": [
    "## Imperative vs Declarative Programming\n",
    "There are two ways to wrangle the data in Spark:\n",
    "\n",
    "|Imperative Programming|Declarative Programming|\n",
    "|----------------------|-----------------------|\n",
    "|Spark DataFrames & Python| SQL|\n",
    "|Cares about How|Cares about the 'What'|\n",
    "|Example: drive to the car &rarr; go in the shop &rarr; buy the cake| Get the Cake\n",
    "|We focus on the steps|We focus on the result we want to achieve|\n"
   ]
  },
  {
   "cell_type": "markdown",
   "metadata": {},
   "source": [
    "## Data Wrangling with Data Frames"
   ]
  },
  {
   "cell_type": "markdown",
   "metadata": {},
   "source": [
    "### Importing the libraries"
   ]
  },
  {
   "cell_type": "code",
   "execution_count": 27,
   "metadata": {},
   "outputs": [],
   "source": [
    "from pyspark.sql import SparkSession\n",
    "import pyspark.sql.functions as fn\n",
    "import pyspark.sql.types as typ\n",
    "import datetime\n",
    "import numpy as np\n",
    "import pandas as pd\n",
    "import matplotlib.pyplot as plt\n",
    "\n",
    "%matplotlib inline"
   ]
  },
  {
   "cell_type": "markdown",
   "metadata": {},
   "source": [
    "### Creating Spark Session"
   ]
  },
  {
   "cell_type": "code",
   "execution_count": 28,
   "metadata": {},
   "outputs": [],
   "source": [
    "spark = SparkSession \\\n",
    "    .builder \\\n",
    "    .appName(\"Wrangling Data\") \\\n",
    "    .getOrCreate()"
   ]
  },
  {
   "cell_type": "markdown",
   "metadata": {},
   "source": [
    "### Reading the data"
   ]
  },
  {
   "cell_type": "code",
   "execution_count": 29,
   "metadata": {},
   "outputs": [],
   "source": [
    "user_log = spark.read.json('data/sparkify_log_small.json')"
   ]
  },
  {
   "cell_type": "markdown",
   "metadata": {},
   "source": [
    "### Displaying the first 10 rows"
   ]
  },
  {
   "cell_type": "code",
   "execution_count": 41,
   "metadata": {},
   "outputs": [
    {
     "data": {
      "text/html": [
       "<div>\n",
       "<style scoped>\n",
       "    .dataframe tbody tr th:only-of-type {\n",
       "        vertical-align: middle;\n",
       "    }\n",
       "\n",
       "    .dataframe tbody tr th {\n",
       "        vertical-align: top;\n",
       "    }\n",
       "\n",
       "    .dataframe thead th {\n",
       "        text-align: right;\n",
       "    }\n",
       "</style>\n",
       "<table border=\"1\" class=\"dataframe\">\n",
       "  <thead>\n",
       "    <tr style=\"text-align: right;\">\n",
       "      <th></th>\n",
       "      <th>artist</th>\n",
       "      <th>auth</th>\n",
       "      <th>firstName</th>\n",
       "      <th>gender</th>\n",
       "      <th>itemInSession</th>\n",
       "      <th>lastName</th>\n",
       "      <th>length</th>\n",
       "      <th>level</th>\n",
       "      <th>location</th>\n",
       "      <th>method</th>\n",
       "      <th>page</th>\n",
       "      <th>registration</th>\n",
       "      <th>sessionId</th>\n",
       "      <th>song</th>\n",
       "      <th>status</th>\n",
       "      <th>ts</th>\n",
       "      <th>userAgent</th>\n",
       "      <th>userId</th>\n",
       "    </tr>\n",
       "  </thead>\n",
       "  <tbody>\n",
       "    <tr>\n",
       "      <td>0</td>\n",
       "      <td>Showaddywaddy</td>\n",
       "      <td>Logged In</td>\n",
       "      <td>Kenneth</td>\n",
       "      <td>M</td>\n",
       "      <td>112</td>\n",
       "      <td>Matthews</td>\n",
       "      <td>232.93342</td>\n",
       "      <td>paid</td>\n",
       "      <td>Charlotte-Concord-Gastonia, NC-SC</td>\n",
       "      <td>PUT</td>\n",
       "      <td>NextSong</td>\n",
       "      <td>1509380319284</td>\n",
       "      <td>5132</td>\n",
       "      <td>Christmas Tears Will Fall</td>\n",
       "      <td>200</td>\n",
       "      <td>1513720872284</td>\n",
       "      <td>\"Mozilla/5.0 (Windows NT 6.1) AppleWebKit/537....</td>\n",
       "      <td>1046</td>\n",
       "    </tr>\n",
       "    <tr>\n",
       "      <td>1</td>\n",
       "      <td>Lily Allen</td>\n",
       "      <td>Logged In</td>\n",
       "      <td>Elizabeth</td>\n",
       "      <td>F</td>\n",
       "      <td>7</td>\n",
       "      <td>Chase</td>\n",
       "      <td>195.23873</td>\n",
       "      <td>free</td>\n",
       "      <td>Shreveport-Bossier City, LA</td>\n",
       "      <td>PUT</td>\n",
       "      <td>NextSong</td>\n",
       "      <td>1512718541284</td>\n",
       "      <td>5027</td>\n",
       "      <td>Cheryl Tweedy</td>\n",
       "      <td>200</td>\n",
       "      <td>1513720878284</td>\n",
       "      <td>\"Mozilla/5.0 (Windows NT 6.1) AppleWebKit/537....</td>\n",
       "      <td>1000</td>\n",
       "    </tr>\n",
       "    <tr>\n",
       "      <td>2</td>\n",
       "      <td>Cobra Starship Featuring Leighton Meester</td>\n",
       "      <td>Logged In</td>\n",
       "      <td>Vera</td>\n",
       "      <td>F</td>\n",
       "      <td>6</td>\n",
       "      <td>Blackwell</td>\n",
       "      <td>196.20526</td>\n",
       "      <td>paid</td>\n",
       "      <td>Racine, WI</td>\n",
       "      <td>PUT</td>\n",
       "      <td>NextSong</td>\n",
       "      <td>1499855749284</td>\n",
       "      <td>5516</td>\n",
       "      <td>Good Girls Go Bad (Feat.Leighton Meester) (Alb...</td>\n",
       "      <td>200</td>\n",
       "      <td>1513720881284</td>\n",
       "      <td>\"Mozilla/5.0 (Macintosh; Intel Mac OS X 10_9_4...</td>\n",
       "      <td>2219</td>\n",
       "    </tr>\n",
       "    <tr>\n",
       "      <td>3</td>\n",
       "      <td>Alex Smoke</td>\n",
       "      <td>Logged In</td>\n",
       "      <td>Sophee</td>\n",
       "      <td>F</td>\n",
       "      <td>8</td>\n",
       "      <td>Barker</td>\n",
       "      <td>405.99465</td>\n",
       "      <td>paid</td>\n",
       "      <td>San Luis Obispo-Paso Robles-Arroyo Grande, CA</td>\n",
       "      <td>PUT</td>\n",
       "      <td>NextSong</td>\n",
       "      <td>1513009647284</td>\n",
       "      <td>2372</td>\n",
       "      <td>Don't See The Point</td>\n",
       "      <td>200</td>\n",
       "      <td>1513720905284</td>\n",
       "      <td>\"Mozilla/5.0 (Windows NT 6.1; WOW64) AppleWebK...</td>\n",
       "      <td>2373</td>\n",
       "    </tr>\n",
       "    <tr>\n",
       "      <td>4</td>\n",
       "      <td>None</td>\n",
       "      <td>Logged In</td>\n",
       "      <td>Jordyn</td>\n",
       "      <td>F</td>\n",
       "      <td>0</td>\n",
       "      <td>Jones</td>\n",
       "      <td>NaN</td>\n",
       "      <td>free</td>\n",
       "      <td>Syracuse, NY</td>\n",
       "      <td>GET</td>\n",
       "      <td>Home</td>\n",
       "      <td>1513648531284</td>\n",
       "      <td>1746</td>\n",
       "      <td>None</td>\n",
       "      <td>200</td>\n",
       "      <td>1513720913284</td>\n",
       "      <td>\"Mozilla/5.0 (Macintosh; Intel Mac OS X 10_9_4...</td>\n",
       "      <td>1747</td>\n",
       "    </tr>\n",
       "  </tbody>\n",
       "</table>\n",
       "</div>"
      ],
      "text/plain": [
       "                                      artist       auth  firstName gender  \\\n",
       "0                              Showaddywaddy  Logged In    Kenneth      M   \n",
       "1                                 Lily Allen  Logged In  Elizabeth      F   \n",
       "2  Cobra Starship Featuring Leighton Meester  Logged In       Vera      F   \n",
       "3                                 Alex Smoke  Logged In     Sophee      F   \n",
       "4                                       None  Logged In     Jordyn      F   \n",
       "\n",
       "   itemInSession   lastName     length level  \\\n",
       "0            112   Matthews  232.93342  paid   \n",
       "1              7      Chase  195.23873  free   \n",
       "2              6  Blackwell  196.20526  paid   \n",
       "3              8     Barker  405.99465  paid   \n",
       "4              0      Jones        NaN  free   \n",
       "\n",
       "                                        location method      page  \\\n",
       "0              Charlotte-Concord-Gastonia, NC-SC    PUT  NextSong   \n",
       "1                    Shreveport-Bossier City, LA    PUT  NextSong   \n",
       "2                                     Racine, WI    PUT  NextSong   \n",
       "3  San Luis Obispo-Paso Robles-Arroyo Grande, CA    PUT  NextSong   \n",
       "4                                   Syracuse, NY    GET      Home   \n",
       "\n",
       "    registration  sessionId  \\\n",
       "0  1509380319284       5132   \n",
       "1  1512718541284       5027   \n",
       "2  1499855749284       5516   \n",
       "3  1513009647284       2372   \n",
       "4  1513648531284       1746   \n",
       "\n",
       "                                                song  status             ts  \\\n",
       "0                          Christmas Tears Will Fall     200  1513720872284   \n",
       "1                                      Cheryl Tweedy     200  1513720878284   \n",
       "2  Good Girls Go Bad (Feat.Leighton Meester) (Alb...     200  1513720881284   \n",
       "3                                Don't See The Point     200  1513720905284   \n",
       "4                                               None     200  1513720913284   \n",
       "\n",
       "                                           userAgent userId  \n",
       "0  \"Mozilla/5.0 (Windows NT 6.1) AppleWebKit/537....   1046  \n",
       "1  \"Mozilla/5.0 (Windows NT 6.1) AppleWebKit/537....   1000  \n",
       "2  \"Mozilla/5.0 (Macintosh; Intel Mac OS X 10_9_4...   2219  \n",
       "3  \"Mozilla/5.0 (Windows NT 6.1; WOW64) AppleWebK...   2373  \n",
       "4  \"Mozilla/5.0 (Macintosh; Intel Mac OS X 10_9_4...   1747  "
      ]
     },
     "execution_count": 41,
     "metadata": {},
     "output_type": "execute_result"
    }
   ],
   "source": [
    "user_log.limit(10).toPandas().head()"
   ]
  },
  {
   "cell_type": "markdown",
   "metadata": {},
   "source": [
    "### Printing the schema"
   ]
  },
  {
   "cell_type": "code",
   "execution_count": 45,
   "metadata": {},
   "outputs": [
    {
     "name": "stdout",
     "output_type": "stream",
     "text": [
      "root\n",
      " |-- artist: string (nullable = true)\n",
      " |-- auth: string (nullable = true)\n",
      " |-- firstName: string (nullable = true)\n",
      " |-- gender: string (nullable = true)\n",
      " |-- itemInSession: long (nullable = true)\n",
      " |-- lastName: string (nullable = true)\n",
      " |-- length: double (nullable = true)\n",
      " |-- level: string (nullable = true)\n",
      " |-- location: string (nullable = true)\n",
      " |-- method: string (nullable = true)\n",
      " |-- page: string (nullable = true)\n",
      " |-- registration: long (nullable = true)\n",
      " |-- sessionId: long (nullable = true)\n",
      " |-- song: string (nullable = true)\n",
      " |-- status: long (nullable = true)\n",
      " |-- ts: long (nullable = true)\n",
      " |-- userAgent: string (nullable = true)\n",
      " |-- userId: string (nullable = true)\n",
      "\n"
     ]
    }
   ],
   "source": [
    "user_log.printSchema()"
   ]
  },
  {
   "cell_type": "markdown",
   "metadata": {},
   "source": [
    "### Using summary on columns"
   ]
  },
  {
   "cell_type": "code",
   "execution_count": 46,
   "metadata": {},
   "outputs": [
    {
     "data": {
      "text/html": [
       "<div>\n",
       "<style scoped>\n",
       "    .dataframe tbody tr th:only-of-type {\n",
       "        vertical-align: middle;\n",
       "    }\n",
       "\n",
       "    .dataframe tbody tr th {\n",
       "        vertical-align: top;\n",
       "    }\n",
       "\n",
       "    .dataframe thead th {\n",
       "        text-align: right;\n",
       "    }\n",
       "</style>\n",
       "<table border=\"1\" class=\"dataframe\">\n",
       "  <thead>\n",
       "    <tr style=\"text-align: right;\">\n",
       "      <th></th>\n",
       "      <th>summary</th>\n",
       "      <th>artist</th>\n",
       "    </tr>\n",
       "  </thead>\n",
       "  <tbody>\n",
       "    <tr>\n",
       "      <td>0</td>\n",
       "      <td>count</td>\n",
       "      <td>8348</td>\n",
       "    </tr>\n",
       "    <tr>\n",
       "      <td>1</td>\n",
       "      <td>mean</td>\n",
       "      <td>461.0</td>\n",
       "    </tr>\n",
       "    <tr>\n",
       "      <td>2</td>\n",
       "      <td>stddev</td>\n",
       "      <td>300.0</td>\n",
       "    </tr>\n",
       "    <tr>\n",
       "      <td>3</td>\n",
       "      <td>min</td>\n",
       "      <td>!!!</td>\n",
       "    </tr>\n",
       "    <tr>\n",
       "      <td>4</td>\n",
       "      <td>max</td>\n",
       "      <td>ÃÂlafur Arnalds</td>\n",
       "    </tr>\n",
       "  </tbody>\n",
       "</table>\n",
       "</div>"
      ],
      "text/plain": [
       "  summary             artist\n",
       "0   count               8348\n",
       "1    mean              461.0\n",
       "2  stddev              300.0\n",
       "3     min                !!!\n",
       "4     max  ÃÂlafur Arnalds"
      ]
     },
     "execution_count": 46,
     "metadata": {},
     "output_type": "execute_result"
    }
   ],
   "source": [
    "user_log.describe('artist').toPandas()"
   ]
  },
  {
   "cell_type": "code",
   "execution_count": 47,
   "metadata": {},
   "outputs": [
    {
     "data": {
      "text/html": [
       "<div>\n",
       "<style scoped>\n",
       "    .dataframe tbody tr th:only-of-type {\n",
       "        vertical-align: middle;\n",
       "    }\n",
       "\n",
       "    .dataframe tbody tr th {\n",
       "        vertical-align: top;\n",
       "    }\n",
       "\n",
       "    .dataframe thead th {\n",
       "        text-align: right;\n",
       "    }\n",
       "</style>\n",
       "<table border=\"1\" class=\"dataframe\">\n",
       "  <thead>\n",
       "    <tr style=\"text-align: right;\">\n",
       "      <th></th>\n",
       "      <th>summary</th>\n",
       "      <th>sessionID</th>\n",
       "    </tr>\n",
       "  </thead>\n",
       "  <tbody>\n",
       "    <tr>\n",
       "      <td>0</td>\n",
       "      <td>count</td>\n",
       "      <td>10001</td>\n",
       "    </tr>\n",
       "    <tr>\n",
       "      <td>1</td>\n",
       "      <td>mean</td>\n",
       "      <td>4436.436356364364</td>\n",
       "    </tr>\n",
       "    <tr>\n",
       "      <td>2</td>\n",
       "      <td>stddev</td>\n",
       "      <td>2043.2684482891812</td>\n",
       "    </tr>\n",
       "    <tr>\n",
       "      <td>3</td>\n",
       "      <td>min</td>\n",
       "      <td>9</td>\n",
       "    </tr>\n",
       "    <tr>\n",
       "      <td>4</td>\n",
       "      <td>max</td>\n",
       "      <td>7144</td>\n",
       "    </tr>\n",
       "  </tbody>\n",
       "</table>\n",
       "</div>"
      ],
      "text/plain": [
       "  summary           sessionID\n",
       "0   count               10001\n",
       "1    mean   4436.436356364364\n",
       "2  stddev  2043.2684482891812\n",
       "3     min                   9\n",
       "4     max                7144"
      ]
     },
     "execution_count": 47,
     "metadata": {},
     "output_type": "execute_result"
    }
   ],
   "source": [
    "user_log.describe('sessionID').toPandas()"
   ]
  },
  {
   "cell_type": "markdown",
   "metadata": {},
   "source": [
    "### counts the number of rows"
   ]
  },
  {
   "cell_type": "code",
   "execution_count": 48,
   "metadata": {},
   "outputs": [
    {
     "data": {
      "text/plain": [
       "10001"
      ]
     },
     "execution_count": 48,
     "metadata": {},
     "output_type": "execute_result"
    }
   ],
   "source": [
    "user_log.count() "
   ]
  },
  {
   "cell_type": "markdown",
   "metadata": {},
   "source": [
    "### Get unique values in columns"
   ]
  },
  {
   "cell_type": "code",
   "execution_count": 50,
   "metadata": {},
   "outputs": [
    {
     "data": {
      "text/html": [
       "<div>\n",
       "<style scoped>\n",
       "    .dataframe tbody tr th:only-of-type {\n",
       "        vertical-align: middle;\n",
       "    }\n",
       "\n",
       "    .dataframe tbody tr th {\n",
       "        vertical-align: top;\n",
       "    }\n",
       "\n",
       "    .dataframe thead th {\n",
       "        text-align: right;\n",
       "    }\n",
       "</style>\n",
       "<table border=\"1\" class=\"dataframe\">\n",
       "  <thead>\n",
       "    <tr style=\"text-align: right;\">\n",
       "      <th></th>\n",
       "      <th>page</th>\n",
       "    </tr>\n",
       "  </thead>\n",
       "  <tbody>\n",
       "    <tr>\n",
       "      <td>0</td>\n",
       "      <td>About</td>\n",
       "    </tr>\n",
       "    <tr>\n",
       "      <td>1</td>\n",
       "      <td>Downgrade</td>\n",
       "    </tr>\n",
       "    <tr>\n",
       "      <td>2</td>\n",
       "      <td>Error</td>\n",
       "    </tr>\n",
       "    <tr>\n",
       "      <td>3</td>\n",
       "      <td>Help</td>\n",
       "    </tr>\n",
       "    <tr>\n",
       "      <td>4</td>\n",
       "      <td>Home</td>\n",
       "    </tr>\n",
       "    <tr>\n",
       "      <td>5</td>\n",
       "      <td>Login</td>\n",
       "    </tr>\n",
       "    <tr>\n",
       "      <td>6</td>\n",
       "      <td>Logout</td>\n",
       "    </tr>\n",
       "    <tr>\n",
       "      <td>7</td>\n",
       "      <td>NextSong</td>\n",
       "    </tr>\n",
       "    <tr>\n",
       "      <td>8</td>\n",
       "      <td>Save Settings</td>\n",
       "    </tr>\n",
       "    <tr>\n",
       "      <td>9</td>\n",
       "      <td>Settings</td>\n",
       "    </tr>\n",
       "    <tr>\n",
       "      <td>10</td>\n",
       "      <td>Submit Downgrade</td>\n",
       "    </tr>\n",
       "    <tr>\n",
       "      <td>11</td>\n",
       "      <td>Submit Upgrade</td>\n",
       "    </tr>\n",
       "    <tr>\n",
       "      <td>12</td>\n",
       "      <td>Upgrade</td>\n",
       "    </tr>\n",
       "  </tbody>\n",
       "</table>\n",
       "</div>"
      ],
      "text/plain": [
       "                page\n",
       "0              About\n",
       "1          Downgrade\n",
       "2              Error\n",
       "3               Help\n",
       "4               Home\n",
       "5              Login\n",
       "6             Logout\n",
       "7           NextSong\n",
       "8      Save Settings\n",
       "9           Settings\n",
       "10  Submit Downgrade\n",
       "11    Submit Upgrade\n",
       "12           Upgrade"
      ]
     },
     "execution_count": 50,
     "metadata": {},
     "output_type": "execute_result"
    }
   ],
   "source": [
    "user_log.select('page').drop_duplicates().sort('page').toPandas()"
   ]
  },
  {
   "cell_type": "markdown",
   "metadata": {},
   "source": [
    "### Filtering"
   ]
  },
  {
   "cell_type": "code",
   "execution_count": 55,
   "metadata": {},
   "outputs": [
    {
     "data": {
      "text/html": [
       "<div>\n",
       "<style scoped>\n",
       "    .dataframe tbody tr th:only-of-type {\n",
       "        vertical-align: middle;\n",
       "    }\n",
       "\n",
       "    .dataframe tbody tr th {\n",
       "        vertical-align: top;\n",
       "    }\n",
       "\n",
       "    .dataframe thead th {\n",
       "        text-align: right;\n",
       "    }\n",
       "</style>\n",
       "<table border=\"1\" class=\"dataframe\">\n",
       "  <thead>\n",
       "    <tr style=\"text-align: right;\">\n",
       "      <th></th>\n",
       "      <th>userId</th>\n",
       "      <th>firstName</th>\n",
       "      <th>page</th>\n",
       "      <th>song</th>\n",
       "    </tr>\n",
       "  </thead>\n",
       "  <tbody>\n",
       "    <tr>\n",
       "      <td>0</td>\n",
       "      <td>1046</td>\n",
       "      <td>Kenneth</td>\n",
       "      <td>NextSong</td>\n",
       "      <td>Christmas Tears Will Fall</td>\n",
       "    </tr>\n",
       "    <tr>\n",
       "      <td>1</td>\n",
       "      <td>1046</td>\n",
       "      <td>Kenneth</td>\n",
       "      <td>NextSong</td>\n",
       "      <td>Be Wary Of A Woman</td>\n",
       "    </tr>\n",
       "    <tr>\n",
       "      <td>2</td>\n",
       "      <td>1046</td>\n",
       "      <td>Kenneth</td>\n",
       "      <td>NextSong</td>\n",
       "      <td>Public Enemy No.1</td>\n",
       "    </tr>\n",
       "    <tr>\n",
       "      <td>3</td>\n",
       "      <td>1046</td>\n",
       "      <td>Kenneth</td>\n",
       "      <td>NextSong</td>\n",
       "      <td>Reign Of The Tyrants</td>\n",
       "    </tr>\n",
       "    <tr>\n",
       "      <td>4</td>\n",
       "      <td>1046</td>\n",
       "      <td>Kenneth</td>\n",
       "      <td>NextSong</td>\n",
       "      <td>Father And Son</td>\n",
       "    </tr>\n",
       "    <tr>\n",
       "      <td>5</td>\n",
       "      <td>1046</td>\n",
       "      <td>Kenneth</td>\n",
       "      <td>NextSong</td>\n",
       "      <td>No. 5</td>\n",
       "    </tr>\n",
       "    <tr>\n",
       "      <td>6</td>\n",
       "      <td>1046</td>\n",
       "      <td>Kenneth</td>\n",
       "      <td>NextSong</td>\n",
       "      <td>Seventeen</td>\n",
       "    </tr>\n",
       "    <tr>\n",
       "      <td>7</td>\n",
       "      <td>1046</td>\n",
       "      <td>Kenneth</td>\n",
       "      <td>Home</td>\n",
       "      <td>None</td>\n",
       "    </tr>\n",
       "    <tr>\n",
       "      <td>8</td>\n",
       "      <td>1046</td>\n",
       "      <td>Kenneth</td>\n",
       "      <td>NextSong</td>\n",
       "      <td>War on war</td>\n",
       "    </tr>\n",
       "    <tr>\n",
       "      <td>9</td>\n",
       "      <td>1046</td>\n",
       "      <td>Kenneth</td>\n",
       "      <td>NextSong</td>\n",
       "      <td>Killermont Street</td>\n",
       "    </tr>\n",
       "    <tr>\n",
       "      <td>10</td>\n",
       "      <td>1046</td>\n",
       "      <td>Kenneth</td>\n",
       "      <td>NextSong</td>\n",
       "      <td>Black &amp; Blue</td>\n",
       "    </tr>\n",
       "    <tr>\n",
       "      <td>11</td>\n",
       "      <td>1046</td>\n",
       "      <td>Kenneth</td>\n",
       "      <td>Logout</td>\n",
       "      <td>None</td>\n",
       "    </tr>\n",
       "    <tr>\n",
       "      <td>12</td>\n",
       "      <td>1046</td>\n",
       "      <td>Kenneth</td>\n",
       "      <td>Home</td>\n",
       "      <td>None</td>\n",
       "    </tr>\n",
       "    <tr>\n",
       "      <td>13</td>\n",
       "      <td>1046</td>\n",
       "      <td>Kenneth</td>\n",
       "      <td>NextSong</td>\n",
       "      <td>Heads Will Roll</td>\n",
       "    </tr>\n",
       "    <tr>\n",
       "      <td>14</td>\n",
       "      <td>1046</td>\n",
       "      <td>Kenneth</td>\n",
       "      <td>NextSong</td>\n",
       "      <td>Bleed It Out [Live At Milton Keynes]</td>\n",
       "    </tr>\n",
       "    <tr>\n",
       "      <td>15</td>\n",
       "      <td>1046</td>\n",
       "      <td>Kenneth</td>\n",
       "      <td>NextSong</td>\n",
       "      <td>Clocks</td>\n",
       "    </tr>\n",
       "    <tr>\n",
       "      <td>16</td>\n",
       "      <td>1046</td>\n",
       "      <td>Kenneth</td>\n",
       "      <td>NextSong</td>\n",
       "      <td>Love Rain</td>\n",
       "    </tr>\n",
       "    <tr>\n",
       "      <td>17</td>\n",
       "      <td>1046</td>\n",
       "      <td>Kenneth</td>\n",
       "      <td>NextSong</td>\n",
       "      <td>Ry Ry's Song (Album Version)</td>\n",
       "    </tr>\n",
       "    <tr>\n",
       "      <td>18</td>\n",
       "      <td>1046</td>\n",
       "      <td>Kenneth</td>\n",
       "      <td>NextSong</td>\n",
       "      <td>The Invisible Man</td>\n",
       "    </tr>\n",
       "    <tr>\n",
       "      <td>19</td>\n",
       "      <td>1046</td>\n",
       "      <td>Kenneth</td>\n",
       "      <td>NextSong</td>\n",
       "      <td>Catch You Baby (Steve Pitron &amp; Max Sanna Radio...</td>\n",
       "    </tr>\n",
       "    <tr>\n",
       "      <td>20</td>\n",
       "      <td>1046</td>\n",
       "      <td>Kenneth</td>\n",
       "      <td>NextSong</td>\n",
       "      <td>Ask The Mountains</td>\n",
       "    </tr>\n",
       "    <tr>\n",
       "      <td>21</td>\n",
       "      <td>1046</td>\n",
       "      <td>Kenneth</td>\n",
       "      <td>NextSong</td>\n",
       "      <td>Given Up (Album Version)</td>\n",
       "    </tr>\n",
       "    <tr>\n",
       "      <td>22</td>\n",
       "      <td>1046</td>\n",
       "      <td>Kenneth</td>\n",
       "      <td>NextSong</td>\n",
       "      <td>El Cuatrero</td>\n",
       "    </tr>\n",
       "    <tr>\n",
       "      <td>23</td>\n",
       "      <td>1046</td>\n",
       "      <td>Kenneth</td>\n",
       "      <td>NextSong</td>\n",
       "      <td>Hero/Heroine</td>\n",
       "    </tr>\n",
       "    <tr>\n",
       "      <td>24</td>\n",
       "      <td>1046</td>\n",
       "      <td>Kenneth</td>\n",
       "      <td>NextSong</td>\n",
       "      <td>Spring</td>\n",
       "    </tr>\n",
       "    <tr>\n",
       "      <td>25</td>\n",
       "      <td>1046</td>\n",
       "      <td>Kenneth</td>\n",
       "      <td>NextSong</td>\n",
       "      <td>Rising Moon</td>\n",
       "    </tr>\n",
       "    <tr>\n",
       "      <td>26</td>\n",
       "      <td>1046</td>\n",
       "      <td>Kenneth</td>\n",
       "      <td>NextSong</td>\n",
       "      <td>Tough Little Boys</td>\n",
       "    </tr>\n",
       "    <tr>\n",
       "      <td>27</td>\n",
       "      <td>1046</td>\n",
       "      <td>Kenneth</td>\n",
       "      <td>NextSong</td>\n",
       "      <td>Qu'Est-Ce Que T'Es Belle</td>\n",
       "    </tr>\n",
       "    <tr>\n",
       "      <td>28</td>\n",
       "      <td>1046</td>\n",
       "      <td>Kenneth</td>\n",
       "      <td>NextSong</td>\n",
       "      <td>Secrets</td>\n",
       "    </tr>\n",
       "    <tr>\n",
       "      <td>29</td>\n",
       "      <td>1046</td>\n",
       "      <td>Kenneth</td>\n",
       "      <td>NextSong</td>\n",
       "      <td>Under The Gun</td>\n",
       "    </tr>\n",
       "  </tbody>\n",
       "</table>\n",
       "</div>"
      ],
      "text/plain": [
       "   userId firstName      page  \\\n",
       "0    1046   Kenneth  NextSong   \n",
       "1    1046   Kenneth  NextSong   \n",
       "2    1046   Kenneth  NextSong   \n",
       "3    1046   Kenneth  NextSong   \n",
       "4    1046   Kenneth  NextSong   \n",
       "5    1046   Kenneth  NextSong   \n",
       "6    1046   Kenneth  NextSong   \n",
       "7    1046   Kenneth      Home   \n",
       "8    1046   Kenneth  NextSong   \n",
       "9    1046   Kenneth  NextSong   \n",
       "10   1046   Kenneth  NextSong   \n",
       "11   1046   Kenneth    Logout   \n",
       "12   1046   Kenneth      Home   \n",
       "13   1046   Kenneth  NextSong   \n",
       "14   1046   Kenneth  NextSong   \n",
       "15   1046   Kenneth  NextSong   \n",
       "16   1046   Kenneth  NextSong   \n",
       "17   1046   Kenneth  NextSong   \n",
       "18   1046   Kenneth  NextSong   \n",
       "19   1046   Kenneth  NextSong   \n",
       "20   1046   Kenneth  NextSong   \n",
       "21   1046   Kenneth  NextSong   \n",
       "22   1046   Kenneth  NextSong   \n",
       "23   1046   Kenneth  NextSong   \n",
       "24   1046   Kenneth  NextSong   \n",
       "25   1046   Kenneth  NextSong   \n",
       "26   1046   Kenneth  NextSong   \n",
       "27   1046   Kenneth  NextSong   \n",
       "28   1046   Kenneth  NextSong   \n",
       "29   1046   Kenneth  NextSong   \n",
       "\n",
       "                                                 song  \n",
       "0                           Christmas Tears Will Fall  \n",
       "1                                  Be Wary Of A Woman  \n",
       "2                                   Public Enemy No.1  \n",
       "3                                Reign Of The Tyrants  \n",
       "4                                      Father And Son  \n",
       "5                                               No. 5  \n",
       "6                                           Seventeen  \n",
       "7                                                None  \n",
       "8                                          War on war  \n",
       "9                                   Killermont Street  \n",
       "10                                       Black & Blue  \n",
       "11                                               None  \n",
       "12                                               None  \n",
       "13                                    Heads Will Roll  \n",
       "14               Bleed It Out [Live At Milton Keynes]  \n",
       "15                                             Clocks  \n",
       "16                                          Love Rain  \n",
       "17                       Ry Ry's Song (Album Version)  \n",
       "18                                  The Invisible Man  \n",
       "19  Catch You Baby (Steve Pitron & Max Sanna Radio...  \n",
       "20                                  Ask The Mountains  \n",
       "21                           Given Up (Album Version)  \n",
       "22                                        El Cuatrero  \n",
       "23                                       Hero/Heroine  \n",
       "24                                             Spring  \n",
       "25                                        Rising Moon  \n",
       "26                                  Tough Little Boys  \n",
       "27                           Qu'Est-Ce Que T'Es Belle  \n",
       "28                                            Secrets  \n",
       "29                                      Under The Gun  "
      ]
     },
     "execution_count": 55,
     "metadata": {},
     "output_type": "execute_result"
    }
   ],
   "source": [
    "user_log.select(['userId','firstName','page','song']).where(user_log.userId == '1046').toPandas()"
   ]
  },
  {
   "cell_type": "markdown",
   "metadata": {},
   "source": [
    "### Grouping and datetime example"
   ]
  },
  {
   "cell_type": "code",
   "execution_count": 57,
   "metadata": {},
   "outputs": [],
   "source": [
    "get_hour = fn.udf(lambda x:datetime.datetime.fromtimestamp(x/1000.0).hour)"
   ]
  },
  {
   "cell_type": "code",
   "execution_count": 58,
   "metadata": {},
   "outputs": [],
   "source": [
    "user_log = user_log.withColumn('hour',get_hour(user_log.ts))"
   ]
  },
  {
   "cell_type": "code",
   "execution_count": 59,
   "metadata": {},
   "outputs": [
    {
     "data": {
      "text/html": [
       "<div>\n",
       "<style scoped>\n",
       "    .dataframe tbody tr th:only-of-type {\n",
       "        vertical-align: middle;\n",
       "    }\n",
       "\n",
       "    .dataframe tbody tr th {\n",
       "        vertical-align: top;\n",
       "    }\n",
       "\n",
       "    .dataframe thead th {\n",
       "        text-align: right;\n",
       "    }\n",
       "</style>\n",
       "<table border=\"1\" class=\"dataframe\">\n",
       "  <thead>\n",
       "    <tr style=\"text-align: right;\">\n",
       "      <th></th>\n",
       "      <th>artist</th>\n",
       "      <th>auth</th>\n",
       "      <th>firstName</th>\n",
       "      <th>gender</th>\n",
       "      <th>itemInSession</th>\n",
       "      <th>lastName</th>\n",
       "      <th>length</th>\n",
       "      <th>level</th>\n",
       "      <th>location</th>\n",
       "      <th>method</th>\n",
       "      <th>page</th>\n",
       "      <th>registration</th>\n",
       "      <th>sessionId</th>\n",
       "      <th>song</th>\n",
       "      <th>status</th>\n",
       "      <th>ts</th>\n",
       "      <th>userAgent</th>\n",
       "      <th>userId</th>\n",
       "      <th>hour</th>\n",
       "    </tr>\n",
       "  </thead>\n",
       "  <tbody>\n",
       "    <tr>\n",
       "      <td>0</td>\n",
       "      <td>Showaddywaddy</td>\n",
       "      <td>Logged In</td>\n",
       "      <td>Kenneth</td>\n",
       "      <td>M</td>\n",
       "      <td>112</td>\n",
       "      <td>Matthews</td>\n",
       "      <td>232.93342</td>\n",
       "      <td>paid</td>\n",
       "      <td>Charlotte-Concord-Gastonia, NC-SC</td>\n",
       "      <td>PUT</td>\n",
       "      <td>NextSong</td>\n",
       "      <td>1509380319284</td>\n",
       "      <td>5132</td>\n",
       "      <td>Christmas Tears Will Fall</td>\n",
       "      <td>200</td>\n",
       "      <td>1513720872284</td>\n",
       "      <td>\"Mozilla/5.0 (Windows NT 6.1) AppleWebKit/537....</td>\n",
       "      <td>1046</td>\n",
       "      <td>22</td>\n",
       "    </tr>\n",
       "    <tr>\n",
       "      <td>1</td>\n",
       "      <td>Lily Allen</td>\n",
       "      <td>Logged In</td>\n",
       "      <td>Elizabeth</td>\n",
       "      <td>F</td>\n",
       "      <td>7</td>\n",
       "      <td>Chase</td>\n",
       "      <td>195.23873</td>\n",
       "      <td>free</td>\n",
       "      <td>Shreveport-Bossier City, LA</td>\n",
       "      <td>PUT</td>\n",
       "      <td>NextSong</td>\n",
       "      <td>1512718541284</td>\n",
       "      <td>5027</td>\n",
       "      <td>Cheryl Tweedy</td>\n",
       "      <td>200</td>\n",
       "      <td>1513720878284</td>\n",
       "      <td>\"Mozilla/5.0 (Windows NT 6.1) AppleWebKit/537....</td>\n",
       "      <td>1000</td>\n",
       "      <td>22</td>\n",
       "    </tr>\n",
       "    <tr>\n",
       "      <td>2</td>\n",
       "      <td>Cobra Starship Featuring Leighton Meester</td>\n",
       "      <td>Logged In</td>\n",
       "      <td>Vera</td>\n",
       "      <td>F</td>\n",
       "      <td>6</td>\n",
       "      <td>Blackwell</td>\n",
       "      <td>196.20526</td>\n",
       "      <td>paid</td>\n",
       "      <td>Racine, WI</td>\n",
       "      <td>PUT</td>\n",
       "      <td>NextSong</td>\n",
       "      <td>1499855749284</td>\n",
       "      <td>5516</td>\n",
       "      <td>Good Girls Go Bad (Feat.Leighton Meester) (Alb...</td>\n",
       "      <td>200</td>\n",
       "      <td>1513720881284</td>\n",
       "      <td>\"Mozilla/5.0 (Macintosh; Intel Mac OS X 10_9_4...</td>\n",
       "      <td>2219</td>\n",
       "      <td>22</td>\n",
       "    </tr>\n",
       "    <tr>\n",
       "      <td>3</td>\n",
       "      <td>Alex Smoke</td>\n",
       "      <td>Logged In</td>\n",
       "      <td>Sophee</td>\n",
       "      <td>F</td>\n",
       "      <td>8</td>\n",
       "      <td>Barker</td>\n",
       "      <td>405.99465</td>\n",
       "      <td>paid</td>\n",
       "      <td>San Luis Obispo-Paso Robles-Arroyo Grande, CA</td>\n",
       "      <td>PUT</td>\n",
       "      <td>NextSong</td>\n",
       "      <td>1513009647284</td>\n",
       "      <td>2372</td>\n",
       "      <td>Don't See The Point</td>\n",
       "      <td>200</td>\n",
       "      <td>1513720905284</td>\n",
       "      <td>\"Mozilla/5.0 (Windows NT 6.1; WOW64) AppleWebK...</td>\n",
       "      <td>2373</td>\n",
       "      <td>22</td>\n",
       "    </tr>\n",
       "    <tr>\n",
       "      <td>4</td>\n",
       "      <td>None</td>\n",
       "      <td>Logged In</td>\n",
       "      <td>Jordyn</td>\n",
       "      <td>F</td>\n",
       "      <td>0</td>\n",
       "      <td>Jones</td>\n",
       "      <td>NaN</td>\n",
       "      <td>free</td>\n",
       "      <td>Syracuse, NY</td>\n",
       "      <td>GET</td>\n",
       "      <td>Home</td>\n",
       "      <td>1513648531284</td>\n",
       "      <td>1746</td>\n",
       "      <td>None</td>\n",
       "      <td>200</td>\n",
       "      <td>1513720913284</td>\n",
       "      <td>\"Mozilla/5.0 (Macintosh; Intel Mac OS X 10_9_4...</td>\n",
       "      <td>1747</td>\n",
       "      <td>22</td>\n",
       "    </tr>\n",
       "    <tr>\n",
       "      <td>5</td>\n",
       "      <td>None</td>\n",
       "      <td>Logged In</td>\n",
       "      <td>Jordyn</td>\n",
       "      <td>F</td>\n",
       "      <td>1</td>\n",
       "      <td>Jones</td>\n",
       "      <td>NaN</td>\n",
       "      <td>free</td>\n",
       "      <td>Syracuse, NY</td>\n",
       "      <td>GET</td>\n",
       "      <td>Settings</td>\n",
       "      <td>1513648531284</td>\n",
       "      <td>1746</td>\n",
       "      <td>None</td>\n",
       "      <td>200</td>\n",
       "      <td>1513720932284</td>\n",
       "      <td>\"Mozilla/5.0 (Macintosh; Intel Mac OS X 10_9_4...</td>\n",
       "      <td>1747</td>\n",
       "      <td>22</td>\n",
       "    </tr>\n",
       "    <tr>\n",
       "      <td>6</td>\n",
       "      <td>Redman</td>\n",
       "      <td>Logged In</td>\n",
       "      <td>Paige</td>\n",
       "      <td>F</td>\n",
       "      <td>0</td>\n",
       "      <td>Hunter</td>\n",
       "      <td>154.53995</td>\n",
       "      <td>free</td>\n",
       "      <td>Brownwood, TX</td>\n",
       "      <td>PUT</td>\n",
       "      <td>NextSong</td>\n",
       "      <td>1498414068284</td>\n",
       "      <td>4406</td>\n",
       "      <td>Smoke Buddah</td>\n",
       "      <td>200</td>\n",
       "      <td>1513720955284</td>\n",
       "      <td>\"Mozilla/5.0 (Macintosh; Intel Mac OS X 10_9_4...</td>\n",
       "      <td>1162</td>\n",
       "      <td>22</td>\n",
       "    </tr>\n",
       "    <tr>\n",
       "      <td>7</td>\n",
       "      <td>Ulrich Schnauss</td>\n",
       "      <td>Logged In</td>\n",
       "      <td>Gabriel</td>\n",
       "      <td>M</td>\n",
       "      <td>2</td>\n",
       "      <td>Koch</td>\n",
       "      <td>402.93832</td>\n",
       "      <td>paid</td>\n",
       "      <td>Panama City, FL</td>\n",
       "      <td>PUT</td>\n",
       "      <td>NextSong</td>\n",
       "      <td>1505820418284</td>\n",
       "      <td>1060</td>\n",
       "      <td>On My Own</td>\n",
       "      <td>200</td>\n",
       "      <td>1513720959284</td>\n",
       "      <td>Mozilla/5.0 (Windows NT 6.1; WOW64; rv:32.0) G...</td>\n",
       "      <td>1061</td>\n",
       "      <td>22</td>\n",
       "    </tr>\n",
       "    <tr>\n",
       "      <td>8</td>\n",
       "      <td>None</td>\n",
       "      <td>Logged In</td>\n",
       "      <td>Mason</td>\n",
       "      <td>M</td>\n",
       "      <td>2</td>\n",
       "      <td>Thomas</td>\n",
       "      <td>NaN</td>\n",
       "      <td>paid</td>\n",
       "      <td>Indianapolis-Carmel-Anderson, IN</td>\n",
       "      <td>GET</td>\n",
       "      <td>Home</td>\n",
       "      <td>1487015656284</td>\n",
       "      <td>5661</td>\n",
       "      <td>None</td>\n",
       "      <td>200</td>\n",
       "      <td>1513720959284</td>\n",
       "      <td>Mozilla/5.0 (compatible; MSIE 10.0; Windows NT...</td>\n",
       "      <td>748</td>\n",
       "      <td>22</td>\n",
       "    </tr>\n",
       "    <tr>\n",
       "      <td>9</td>\n",
       "      <td>None</td>\n",
       "      <td>Logged In</td>\n",
       "      <td>Alexander</td>\n",
       "      <td>M</td>\n",
       "      <td>0</td>\n",
       "      <td>Short</td>\n",
       "      <td>NaN</td>\n",
       "      <td>free</td>\n",
       "      <td>Green Bay, WI</td>\n",
       "      <td>GET</td>\n",
       "      <td>Home</td>\n",
       "      <td>1513594398284</td>\n",
       "      <td>3689</td>\n",
       "      <td>None</td>\n",
       "      <td>200</td>\n",
       "      <td>1513720980284</td>\n",
       "      <td>\"Mozilla/5.0 (Windows NT 6.1; WOW64) AppleWebK...</td>\n",
       "      <td>597</td>\n",
       "      <td>22</td>\n",
       "    </tr>\n",
       "  </tbody>\n",
       "</table>\n",
       "</div>"
      ],
      "text/plain": [
       "                                      artist       auth  firstName gender  \\\n",
       "0                              Showaddywaddy  Logged In    Kenneth      M   \n",
       "1                                 Lily Allen  Logged In  Elizabeth      F   \n",
       "2  Cobra Starship Featuring Leighton Meester  Logged In       Vera      F   \n",
       "3                                 Alex Smoke  Logged In     Sophee      F   \n",
       "4                                       None  Logged In     Jordyn      F   \n",
       "5                                       None  Logged In     Jordyn      F   \n",
       "6                                     Redman  Logged In      Paige      F   \n",
       "7                            Ulrich Schnauss  Logged In    Gabriel      M   \n",
       "8                                       None  Logged In      Mason      M   \n",
       "9                                       None  Logged In  Alexander      M   \n",
       "\n",
       "   itemInSession   lastName     length level  \\\n",
       "0            112   Matthews  232.93342  paid   \n",
       "1              7      Chase  195.23873  free   \n",
       "2              6  Blackwell  196.20526  paid   \n",
       "3              8     Barker  405.99465  paid   \n",
       "4              0      Jones        NaN  free   \n",
       "5              1      Jones        NaN  free   \n",
       "6              0     Hunter  154.53995  free   \n",
       "7              2       Koch  402.93832  paid   \n",
       "8              2     Thomas        NaN  paid   \n",
       "9              0      Short        NaN  free   \n",
       "\n",
       "                                        location method      page  \\\n",
       "0              Charlotte-Concord-Gastonia, NC-SC    PUT  NextSong   \n",
       "1                    Shreveport-Bossier City, LA    PUT  NextSong   \n",
       "2                                     Racine, WI    PUT  NextSong   \n",
       "3  San Luis Obispo-Paso Robles-Arroyo Grande, CA    PUT  NextSong   \n",
       "4                                   Syracuse, NY    GET      Home   \n",
       "5                                   Syracuse, NY    GET  Settings   \n",
       "6                                  Brownwood, TX    PUT  NextSong   \n",
       "7                                Panama City, FL    PUT  NextSong   \n",
       "8               Indianapolis-Carmel-Anderson, IN    GET      Home   \n",
       "9                                  Green Bay, WI    GET      Home   \n",
       "\n",
       "    registration  sessionId  \\\n",
       "0  1509380319284       5132   \n",
       "1  1512718541284       5027   \n",
       "2  1499855749284       5516   \n",
       "3  1513009647284       2372   \n",
       "4  1513648531284       1746   \n",
       "5  1513648531284       1746   \n",
       "6  1498414068284       4406   \n",
       "7  1505820418284       1060   \n",
       "8  1487015656284       5661   \n",
       "9  1513594398284       3689   \n",
       "\n",
       "                                                song  status             ts  \\\n",
       "0                          Christmas Tears Will Fall     200  1513720872284   \n",
       "1                                      Cheryl Tweedy     200  1513720878284   \n",
       "2  Good Girls Go Bad (Feat.Leighton Meester) (Alb...     200  1513720881284   \n",
       "3                                Don't See The Point     200  1513720905284   \n",
       "4                                               None     200  1513720913284   \n",
       "5                                               None     200  1513720932284   \n",
       "6                                       Smoke Buddah     200  1513720955284   \n",
       "7                                          On My Own     200  1513720959284   \n",
       "8                                               None     200  1513720959284   \n",
       "9                                               None     200  1513720980284   \n",
       "\n",
       "                                           userAgent userId hour  \n",
       "0  \"Mozilla/5.0 (Windows NT 6.1) AppleWebKit/537....   1046   22  \n",
       "1  \"Mozilla/5.0 (Windows NT 6.1) AppleWebKit/537....   1000   22  \n",
       "2  \"Mozilla/5.0 (Macintosh; Intel Mac OS X 10_9_4...   2219   22  \n",
       "3  \"Mozilla/5.0 (Windows NT 6.1; WOW64) AppleWebK...   2373   22  \n",
       "4  \"Mozilla/5.0 (Macintosh; Intel Mac OS X 10_9_4...   1747   22  \n",
       "5  \"Mozilla/5.0 (Macintosh; Intel Mac OS X 10_9_4...   1747   22  \n",
       "6  \"Mozilla/5.0 (Macintosh; Intel Mac OS X 10_9_4...   1162   22  \n",
       "7  Mozilla/5.0 (Windows NT 6.1; WOW64; rv:32.0) G...   1061   22  \n",
       "8  Mozilla/5.0 (compatible; MSIE 10.0; Windows NT...    748   22  \n",
       "9  \"Mozilla/5.0 (Windows NT 6.1; WOW64) AppleWebK...    597   22  "
      ]
     },
     "execution_count": 59,
     "metadata": {},
     "output_type": "execute_result"
    }
   ],
   "source": [
    "user_log.limit(10).toPandas()"
   ]
  },
  {
   "cell_type": "code",
   "execution_count": 64,
   "metadata": {},
   "outputs": [],
   "source": [
    "songs_in_hour = user_log.filter(user_log.page == 'NextSong').groupby(user_log.hour).count().orderBy(user_log.hour.cast('float'))"
   ]
  },
  {
   "cell_type": "code",
   "execution_count": 65,
   "metadata": {},
   "outputs": [],
   "source": [
    "songs_in_hour_pd = songs_in_hour.toPandas()"
   ]
  },
  {
   "cell_type": "code",
   "execution_count": 74,
   "metadata": {},
   "outputs": [],
   "source": [
    "songs_in_hour_pd.hour = songs_in_hour_pd.hour.astype('int')"
   ]
  },
  {
   "cell_type": "code",
   "execution_count": 79,
   "metadata": {},
   "outputs": [
    {
     "data": {
      "text/plain": [
       "Text(0, 0.5, 'Songs played')"
      ]
     },
     "execution_count": 79,
     "metadata": {},
     "output_type": "execute_result"
    },
    {
     "data": {
      "image/png": "[encoded data removed]",
      "text/plain": [
       "<Figure size 432x288 with 1 Axes>"
      ]
     },
     "metadata": {
      "needs_background": "light"
     },
     "output_type": "display_data"
    }
   ],
   "source": [
    "songs_in_hour_pd.plot('hour','count',kind='scatter',xticks=range(0,24))\n",
    "plt.ylabel('Songs played')"
   ]
  },
  {
   "cell_type": "markdown",
   "metadata": {},
   "source": [
    "### Missing values"
   ]
  },
  {
   "cell_type": "code",
   "execution_count": 80,
   "metadata": {},
   "outputs": [],
   "source": [
    "user_log_valid = user_log.dropna(subset=['userId','sessionId'])"
   ]
  },
  {
   "cell_type": "code",
   "execution_count": 81,
   "metadata": {},
   "outputs": [
    {
     "data": {
      "text/plain": [
       "10001"
      ]
     },
     "execution_count": 81,
     "metadata": {},
     "output_type": "execute_result"
    }
   ],
   "source": [
    "user_log_valid.count()"
   ]
  },
  {
   "cell_type": "code",
   "execution_count": 82,
   "metadata": {},
   "outputs": [
    {
     "name": "stdout",
     "output_type": "stream",
     "text": [
      "+------+\n",
      "|userId|\n",
      "+------+\n",
      "|      |\n",
      "|    10|\n",
      "|   100|\n",
      "|  1000|\n",
      "|  1003|\n",
      "|  1005|\n",
      "|  1006|\n",
      "|  1017|\n",
      "|  1019|\n",
      "|  1020|\n",
      "|  1022|\n",
      "|  1025|\n",
      "|  1030|\n",
      "|  1035|\n",
      "|  1037|\n",
      "|   104|\n",
      "|  1040|\n",
      "|  1042|\n",
      "|  1043|\n",
      "|  1046|\n",
      "+------+\n",
      "only showing top 20 rows\n",
      "\n"
     ]
    }
   ],
   "source": [
    "user_log.select('userId').drop_duplicates().sort('userId').show()"
   ]
  },
  {
   "cell_type": "markdown",
   "metadata": {},
   "source": [
    "As it can be seen that 1st entry is blank. let's apply the filter"
   ]
  },
  {
   "cell_type": "code",
   "execution_count": 83,
   "metadata": {},
   "outputs": [],
   "source": [
    "user_log_valid = user_log_valid.filter(user_log_valid.userId !='')"
   ]
  },
  {
   "cell_type": "code",
   "execution_count": 84,
   "metadata": {},
   "outputs": [
    {
     "data": {
      "text/plain": [
       "9665"
      ]
     },
     "execution_count": 84,
     "metadata": {},
     "output_type": "execute_result"
    }
   ],
   "source": [
    "user_log_valid.count()"
   ]
  },
  {
   "cell_type": "markdown",
   "metadata": {},
   "source": [
    "### Finding users who downgraded service"
   ]
  },
  {
   "cell_type": "code",
   "execution_count": null,
   "metadata": {},
   "outputs": [],
   "source": []
  }
 ],
 "metadata": {
  "kernelspec": {
   "display_name": "Python 3",
   "language": "python",
   "name": "python3"
  },
  "language_info": {
   "codemirror_mode": {
    "name": "ipython",
    "version": 3
   },
   "file_extension": ".py",
   "mimetype": "text/x-python",
   "name": "python",
   "nbconvert_exporter": "python",
   "pygments_lexer": "ipython3",
   "version": "3.7.4"
  }
 },
 "nbformat": 4,
 "nbformat_minor": 4
}
