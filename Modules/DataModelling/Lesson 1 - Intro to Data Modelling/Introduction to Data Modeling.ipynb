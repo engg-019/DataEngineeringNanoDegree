{
 "cells": [
  {
   "cell_type": "markdown",
   "metadata": {},
   "source": [
    "## What is Data modeling\n",
    "\"... an abstraction that **organizes elements if data** and **how they** will **relate** to each other.\n",
    "\n",
    "Data modelling can easily translate to database modelling as this is the essential **end state**.\n",
    "\n",
    "### Common Questions\n",
    "**Why can't everything be stored in a giant Excel spreadsheet?**\n",
    "\n",
    "* There are limitations to the amount of data that can be stored in an Excel sheet. So, a database helps organize the elements into tables - rows and columns, etc. Also reading and writing operations on a large scale is not possible with an Excel sheet, so it's better to use a database to handle most business functions.\n",
    "\n",
    "**Does data modeling happen before you create a database, or is it an iterative process?**\n",
    "\n",
    "* It's definitely an iterative process. Data engineers continually reorganize, restructure, and optimize data models to fit the needs of the organization.\n",
    "\n",
    "**How is data modeling different from machine learning modeling?**\n",
    "\n",
    "Machine learning includes a lot of data wrangling to create the inputs for machine learning models, but data modeling is more about how to structure data to be used by different people within an organization. You can think of data modeling as the process of designing data and making it available to machine learning engineers, data scientists, business analytics, etc., so they can make use of it easily.\n",
    "\n",
    "### Quiz Question\n",
    "Choose the Correct Order of the Data Modeling Process:\n",
    "- [ ] Pysical -> Logical -> Conceptual\n",
    "- [ ] Logical -> Pysical -> Conceptual\n",
    "- [ ] Conceptual -> Pysical -> Logical \n",
    "- [x] Conceptual -> Logical -> Pysical"
   ]
  },
  {
   "cell_type": "markdown",
   "metadata": {},
   "source": [
    "## Why is Data Modelling important?\n",
    "\n",
    "### Key points about Data Modeling \n",
    "\n",
    "* **Data Organization**: The organization of the data for your applications is extremely important and makes everyone's life easier.\n",
    "* **Use cases**: Having a well thought out and organized data model is critical to how that data can later be used. Queries that could have been straightforward and simple might become complicated queries if data modeling isn't well thought out.\n",
    "* **Starting early**: Thinking and planning ahead will help you be successful. This is not something you want to leave until the last minute.\n",
    "* **Iterative Process**: Data modeling is not a fixed process. It is iterative as new requirements and data are introduced. Having flexibility will help as new information becomes available.\n",
    "\n",
    "### Example of Why Data Modeling is Important:\n",
    "Let's take an example from Udacity. Here, a Udacity data engineer would help structure the data so it can be used by different people within Udacity for further analysis and also shared with the learner on the website. For instance, when we want to track the students' progress within a Nanodegree program, we want to aggregate data across students and projects within a Nanodegree. In a relational database, this requires the data to be structured in ways that each student's data is tracked across all Nanodegree programs that s/he has ever enrolled in. The data also needs to track the student's progress within each of those Nanodegree programs.\n",
    "\n",
    "The data model is critical for accurately representing each data object. For instance, a data table would track a student's progress on project submissions, i.e., whether they passed or failed a specific rubric requirement. Furthermore, the data model should ensure that a student's progress is updated and aggregated to provide an indicator of whether the student passed all the rubric requirements and successfully finished the project. Data modeling is critical to track all of these pieces of data so the tables are speaking to each other, updating the tables correctly (e.g., updating a student's progress on a project submission), and meeting defined rules (e.g., project completed when all rubric requirements are passed).\n",
    "\n",
    "### Quiz Question\n",
    "Who should focus on learning data modeling? Choose one response.\n",
    "\n",
    "- [ ] Data Scientists\n",
    "- [ ] Data Engineers\n",
    "- [ ] Software Engineers\n",
    "- [x] Everyone who deals with data!"
   ]
  },
  {
   "cell_type": "markdown",
   "metadata": {},
   "source": [
    "## Intro to Relational Databases\n",
    "\n",
    "### Relational Model\n",
    "THis model **organizes data into** one or more tables(or \"**relations**\") **of columns and rows**, with a **unique key** identifying each row. Generally, each table represents one \"entity type\" (such as customer or product.\"\n",
    "\n",
    "### Relational Database\n",
    "Invented by Edgar Codd(1970)\n",
    "\n",
    "\"... is a digital database **based on relational model** of data...a software system used to maintain relational databases is a relational database management system (RDBMS).\"  \n",
    "\n",
    "\"SQL(Strutured Query Language) is the language used accross almost all relational database system for querying and maintaining the database.\"\n",
    "\n",
    "### Common Types of Relational Databases\n",
    "* Oracle  --> Used in Enterprise\n",
    "* Teradata\n",
    "* MySql\n",
    "* PostgresSQL\n",
    "* SQlite  --> Used in App development\n",
    "\n",
    "### The Basics\n",
    "* Database/Schema\n",
    "    - Collection of Tables\n",
    "* Tables/Relation\n",
    "    * A group of rows sharing the same labeled elements\n",
    "        * Customers\n",
    "* Columns/Attribute\n",
    "    * Labeled element\n",
    "        * Name, email, city\n",
    "* Rows/Tuple\n",
    "    * A single item\n",
    "        * Amanda, jdoe@xyc.com. NYC\n",
    "        \n",
    "### Quiz Questions\n",
    "What is RDBMS?\n",
    "- [ ] Relateable Database Management System\n",
    "- [x] Relational Database Management System\n",
    "- [ ] Readable Data Management System\n",
    "- [ ] Reachable Database Management System"
   ]
  },
  {
   "cell_type": "markdown",
   "metadata": {},
   "source": [
    "## Quiz: Relational Databases\n",
    "### Q1: \n",
    "True or False: A column holds multiple tables.\n",
    "- [ ] True\n",
    "- [x] False\n",
    "\n",
    "### Q2:\n",
    "True or False: An attribute is another name for a column.\n",
    "- [x] True\n",
    "- [ ] False\n",
    "\n",
    "### Q3\n",
    "True or False: A schema is a collection of tables in some database terminology.\n",
    "- [x] True\n",
    "- [ ] False"
   ]
  },
  {
   "cell_type": "markdown",
   "metadata": {},
   "source": [
    "## When to use a Relational Database?\n",
    "* **Flexibility for writing in SQL queries**: With SQL being the most common database query language.\n",
    "* **Modeling the data not modeling queries**\n",
    "* **Ability to do JOINS**\n",
    "* **Ability to do aggregations and analytics**\n",
    "* **Secondary Indexes available** : You have the advantage of being able to add another index to help with quick searching.\n",
    "* **Smaller data volumes**: If you have a smaller data volume (and not big data) you can use a relational database for its simplicity.\n",
    "* **ACID Transactions**: Allows you to meet a set of properties of database transactions intended to guarantee validity even in the event of errors, power failures, and thus maintain data integrity.\n",
    "* **Easier to change to business requirements**"
   ]
  },
  {
   "cell_type": "markdown",
   "metadata": {},
   "source": [
    "## ACID Transactions\n",
    "Properties of database transactions intended to guarantee validity even in the event of errors or power failures.\n",
    "\n",
    "* **Atomicity**: The whole transaction is processed or nothing is processed. A commonly cited example of an atomic transaction is money transactions between two bank accounts. The transaction of transferring money from one account to the other is made up of two operations. First, you have to withdraw money in one account, and second you have to save the withdrawn money to the second account. An atomic transaction, i.e., when either all operations occur or nothing occurs, keeps the database in a consistent state. This ensures that if either of those two operations (withdrawing money from the 1st account or saving the money to the 2nd account) fail, the money is neither lost nor created. Source [Wikipedia](https://en.wikipedia.org/wiki/Atomicity_(database_systems)) for a detailed description of this example.\n",
    "\n",
    "* **Consistency**: Only transactions that abide by constraints and rules are written into the database, otherwise the database keeps the previous state. The data should be correct across all rows and tables. Check out additional information about consistency on [Wikipedia](https://en.wikipedia.org/wiki/Consistency_(database_systems)).\n",
    "\n",
    "* **Isolation**: Transactions are processed independently and securely, order does not matter. A low level of isolation enables many users to access the data simultaneously, however this also increases the possibilities of concurrency effects (e.g., dirty reads or lost updates). On the other hand, a high level of isolation reduces these chances of concurrency effects, but also uses more system resources and transactions blocking each other. Source: [Wikipedia](https://en.wikipedia.org/wiki/Isolation_(database_systems)).\n",
    "\n",
    "* **Durability**: Completed transactions are saved to database even in cases of system failure. A commonly cited example includes tracking flight seat bookings. So once the flight booking records a confirmed seat booking, the seat remains booked even if a system failure occurs. Source: [Wikipedia](https://en.wikipedia.org/wiki/ACID).\n",
    "\n",
    "### Question1\n",
    "Which of these are benefits of a relational database?\n",
    "\n",
    "- [x] ACID Transactions\n",
    "- [x] Ability to do JOINS\n",
    "- [ ] Can handle big data\n",
    "- [x] Easy to change business requirements on the data\n",
    "\n",
    "### Question2\n",
    "Can you JOIN a table with another table on any column?\n",
    "\n",
    "- [x] Yes, as long there are matching values in the columns\n",
    "- [ ] No, only on columns with the same name\n",
    "- [ ] Yes, you can join any columns together\n",
    "- [ ] No, only on columns in the same table"
   ]
  },
  {
   "cell_type": "markdown",
   "metadata": {},
   "source": [
    "### When Not to Use a Relational Database\n",
    "* **Have large amounts of data**: Relational Databases are not distributed databases and because of this they can only scale vertically by adding more storage in the machine itself. You are limited by how much you can scale and how much data you can store on one machine. You cannot add more machines like you can in NoSQL databases.\n",
    "* **Need to be able to store different data type formats**: Relational databases are not designed to handle unstructured data.\n",
    "* **Need high throughput -- fast reads**: While ACID transactions bring benefits, they also slow down the process of reading and writing data. If you need very fast reads and writes, using a relational database may not suit your needs.\n",
    "* **Need a flexible schema**: Flexible schema can allow for columns to be added that do not have to be used by every row, saving disk space.\n",
    "* **Need high availability**: The fact that relational databases are not distributed (and even when they are, they have a coordinator/worker architecture), they have a single point of failure. When that database goes down, a fail-over to a backup system occurs and takes time.\n",
    "* **Need horizontal scalability**: Horizontal scalability is the ability to add more machines or nodes to a system to increase performance and space for data.\n",
    "\n",
    "### Question 1  \n",
    "True or False: Relational Databases are traditionally horizontally scalable.\n",
    "- [ ] True\n",
    "- [x] False\n",
    "\n",
    "### Question 2\n",
    "When should you use a Relational Database?\n",
    "- [x] Small amount of data\n",
    "- [x] Need to be able to do aggregations\n",
    "- [x] Need ACID transactions\n",
    "- [ ] You need to be able to scale out quickly\n",
    "- [x] Need to be able to join multiple tables"
   ]
  },
  {
   "cell_type": "markdown",
   "metadata": {},
   "source": [
    "## What is PostgreSQL\n",
    "* Open source object-relational database system\n",
    "* Uses and builds on SQL language."
   ]
  },
  {
   "cell_type": "markdown",
   "metadata": {},
   "source": [
    "## Lesson 1 Demo 0: PostgreSQL and AutoCommits"
   ]
  },
  {
   "cell_type": "markdown",
   "metadata": {},
   "source": [
    "### Walkthrough the basics of PostgreSQL"
   ]
  },
  {
   "cell_type": "code",
   "execution_count": 1,
   "metadata": {},
   "outputs": [
    {
     "name": "stdout",
     "output_type": "stream",
     "text": [
      "Requirement already satisfied: psycopg2 in c:\\users\\naqee\\anaconda3\\lib\\site-packages (2.8.4)\n"
     ]
    }
   ],
   "source": [
    "# first need to install psycopg2 library\n",
    "!pip install psycopg2"
   ]
  },
  {
   "cell_type": "code",
   "execution_count": 16,
   "metadata": {},
   "outputs": [],
   "source": [
    "## import postgreSQL adapter for the Python\n",
    "import psycopg2"
   ]
  },
  {
   "cell_type": "markdown",
   "metadata": {},
   "source": [
    "### Create a connection to the database\n",
    "1. Connect to the local instance of PostgreSQL (*127.0.0.1*)\n",
    "2. Use the database/schema from the instance. \n",
    "3. The connection reaches out to the database (*studentdb*) and use the correct privilages to connect to the database (*user and password = student*)."
   ]
  },
  {
   "cell_type": "code",
   "execution_count": 17,
   "metadata": {},
   "outputs": [],
   "source": [
    "conn = psycopg2.connect(\"host=127.0.0.1 dbname=studentdb user=student password=student\")"
   ]
  },
  {
   "cell_type": "markdown",
   "metadata": {},
   "source": [
    "### Use the connection to get a cursor that will be used to execute queries."
   ]
  },
  {
   "cell_type": "code",
   "execution_count": 18,
   "metadata": {},
   "outputs": [],
   "source": [
    "cur = conn.cursor()"
   ]
  },
  {
   "cell_type": "markdown",
   "metadata": {},
   "source": [
    "### Create a database to work in"
   ]
  },
  {
   "cell_type": "code",
   "execution_count": 19,
   "metadata": {},
   "outputs": [
    {
     "ename": "UndefinedTable",
     "evalue": "relation \"test\" does not exist\nLINE 1: select * from test\n                      ^\n",
     "output_type": "error",
     "traceback": [
      "\u001b[1;31m---------------------------------------------------------------------------\u001b[0m",
      "\u001b[1;31mUndefinedTable\u001b[0m                            Traceback (most recent call last)",
      "\u001b[1;32m<ipython-input-19-340feff7a89b>\u001b[0m in \u001b[0;36m<module>\u001b[1;34m\u001b[0m\n\u001b[1;32m----> 1\u001b[1;33m \u001b[0mcur\u001b[0m\u001b[1;33m.\u001b[0m\u001b[0mexecute\u001b[0m\u001b[1;33m(\u001b[0m\u001b[1;34m\"select * from test\"\u001b[0m\u001b[1;33m)\u001b[0m\u001b[1;33m\u001b[0m\u001b[1;33m\u001b[0m\u001b[0m\n\u001b[0m",
      "\u001b[1;31mUndefinedTable\u001b[0m: relation \"test\" does not exist\nLINE 1: select * from test\n                      ^\n"
     ]
    }
   ],
   "source": [
    "cur.execute(\"select * from test\")"
   ]
  },
  {
   "cell_type": "markdown",
   "metadata": {},
   "source": [
    "### Error occurs, but it was to be expected because table has not been created as yet. To fix the error, create the table. "
   ]
  },
  {
   "cell_type": "code",
   "execution_count": 20,
   "metadata": {},
   "outputs": [
    {
     "ename": "InFailedSqlTransaction",
     "evalue": "current transaction is aborted, commands ignored until end of transaction block\n",
     "output_type": "error",
     "traceback": [
      "\u001b[1;31m---------------------------------------------------------------------------\u001b[0m",
      "\u001b[1;31mInFailedSqlTransaction\u001b[0m                    Traceback (most recent call last)",
      "\u001b[1;32m<ipython-input-20-7fe271ca567b>\u001b[0m in \u001b[0;36m<module>\u001b[1;34m\u001b[0m\n\u001b[1;32m----> 1\u001b[1;33m \u001b[0mcur\u001b[0m\u001b[1;33m.\u001b[0m\u001b[0mexecute\u001b[0m\u001b[1;33m(\u001b[0m\u001b[1;34m\"CREATE TABLE test (col1 int, col2 int, col3 int);\"\u001b[0m\u001b[1;33m)\u001b[0m\u001b[1;33m\u001b[0m\u001b[1;33m\u001b[0m\u001b[0m\n\u001b[0m",
      "\u001b[1;31mInFailedSqlTransaction\u001b[0m: current transaction is aborted, commands ignored until end of transaction block\n"
     ]
    }
   ],
   "source": [
    "cur.execute(\"CREATE TABLE test (col1 int, col2 int, col3 int);\")"
   ]
  },
  {
   "cell_type": "markdown",
   "metadata": {},
   "source": [
    "### Error indicates we cannot execute this query. Since we have not committed the transaction and had an error in the transaction block, we are blocked until we restart the connection."
   ]
  },
  {
   "cell_type": "code",
   "execution_count": 21,
   "metadata": {},
   "outputs": [],
   "source": [
    "conn = psycopg2.connect(\"host=127.0.0.1 dbname=studentdb user=student password=student\")\n",
    "cur = conn.cursor()"
   ]
  },
  {
   "cell_type": "markdown",
   "metadata": {},
   "source": [
    "In our exercises instead of worrying about commiting each transaction or getting a strange error when we hit something unexpected, let's set autocommit to true. **This says after each call during the session commit that one action and do not hold open the transaction for any other actions. One action = one transaction.**"
   ]
  },
  {
   "cell_type": "markdown",
   "metadata": {},
   "source": [
    "In this demo we will use automatic commit so each action is commited without having to call `conn.commit()` after each command. **The ability to rollback and commit transactions are a feature of Relational Databases.**"
   ]
  },
  {
   "cell_type": "code",
   "execution_count": 22,
   "metadata": {},
   "outputs": [],
   "source": [
    "conn.set_session(autocommit=True)"
   ]
  },
  {
   "cell_type": "code",
   "execution_count": 23,
   "metadata": {},
   "outputs": [
    {
     "ename": "UndefinedTable",
     "evalue": "relation \"test\" does not exist\nLINE 1: select * from test\n                      ^\n",
     "output_type": "error",
     "traceback": [
      "\u001b[1;31m---------------------------------------------------------------------------\u001b[0m",
      "\u001b[1;31mUndefinedTable\u001b[0m                            Traceback (most recent call last)",
      "\u001b[1;32m<ipython-input-23-340feff7a89b>\u001b[0m in \u001b[0;36m<module>\u001b[1;34m\u001b[0m\n\u001b[1;32m----> 1\u001b[1;33m \u001b[0mcur\u001b[0m\u001b[1;33m.\u001b[0m\u001b[0mexecute\u001b[0m\u001b[1;33m(\u001b[0m\u001b[1;34m\"select * from test\"\u001b[0m\u001b[1;33m)\u001b[0m\u001b[1;33m\u001b[0m\u001b[1;33m\u001b[0m\u001b[0m\n\u001b[0m",
      "\u001b[1;31mUndefinedTable\u001b[0m: relation \"test\" does not exist\nLINE 1: select * from test\n                      ^\n"
     ]
    }
   ],
   "source": [
    "cur.execute(\"select * from test\")"
   ]
  },
  {
   "cell_type": "code",
   "execution_count": 24,
   "metadata": {},
   "outputs": [],
   "source": [
    "cur.execute(\"CREATE TABLE test (col1 int, col2 int, col3 int);\")"
   ]
  },
  {
   "cell_type": "markdown",
   "metadata": {},
   "source": [
    "### Once autocommit is set to true, we execute this code successfully. There were no issues with transaction blocks and we did not need to restart our connection. "
   ]
  },
  {
   "cell_type": "code",
   "execution_count": 25,
   "metadata": {},
   "outputs": [],
   "source": [
    "cur.execute(\"select * from test\")"
   ]
  },
  {
   "cell_type": "code",
   "execution_count": 26,
   "metadata": {},
   "outputs": [
    {
     "name": "stdout",
     "output_type": "stream",
     "text": [
      "[(0,)]\n"
     ]
    }
   ],
   "source": [
    "cur.execute(\"select count(*) from test\")\n",
    "print(cur.fetchall())"
   ]
  },
  {
   "cell_type": "markdown",
   "metadata": {},
   "source": [
    "### Dropping the table"
   ]
  },
  {
   "cell_type": "code",
   "execution_count": 27,
   "metadata": {},
   "outputs": [],
   "source": [
    "cur.execute(\"DROP TABLE test\")"
   ]
  },
  {
   "cell_type": "markdown",
   "metadata": {},
   "source": [
    "## Lesson 1 Demo 1: Creating a Table with PostgreSQL\n",
    "<br><li>Creating a table <li>Inserting rows of data, <li>Running a simple SQL query to validate the information. "
   ]
  },
  {
   "cell_type": "markdown",
   "metadata": {},
   "source": [
    "### Typically, we would use a python wrapper called *psycopg2* to run the PostgreSQL queries. This library should be preinstalled but in the future to install this library, run the following command in the notebook to install locally: \n",
    "!pip3 install --user psycopg2\n",
    "#### More documentation can be found here: http://initd.org/psycopg/ "
   ]
  },
  {
   "cell_type": "markdown",
   "metadata": {},
   "source": [
    "### Import the library \n",
    "Note: An error might popup after this command has executed. Read it carefully before proceeding."
   ]
  },
  {
   "cell_type": "code",
   "execution_count": 30,
   "metadata": {},
   "outputs": [],
   "source": [
    "import psycopg2"
   ]
  },
  {
   "cell_type": "markdown",
   "metadata": {},
   "source": [
    "### Create a connection to the database\n",
    "1. Connect to the local instance of PostgreSQL (*127.0.0.1*)\n",
    "2. Use the database/schema from the instance. \n",
    "3. The connection reaches out to the database (*studentdb*) and uses the correct privileges to connect to the database (*user and password = student*).\n",
    "\n",
    "### Note 1: This block of code will be standard in all notebooks. \n",
    "### Note 2: Adding the try except will make sure errors are caught and understood"
   ]
  },
  {
   "cell_type": "code",
   "execution_count": 31,
   "metadata": {},
   "outputs": [],
   "source": [
    "try: \n",
    "    conn = psycopg2.connect(\"host=127.0.0.1 dbname=studentdb user=student password=student\")\n",
    "except psycopg2.Error as e: \n",
    "    print(\"Error: Could not make connection to the Postgres database\")\n",
    "    print(e)"
   ]
  },
  {
   "cell_type": "markdown",
   "metadata": {},
   "source": [
    "### Use the connection to get a cursor that can be used to execute queries."
   ]
  },
  {
   "cell_type": "code",
   "execution_count": 32,
   "metadata": {},
   "outputs": [],
   "source": [
    "try:\n",
    "    cur = conn.cursor()\n",
    "except psycopg2.Error as e:\n",
    "    print(\"Error: Could not get curser to the Database\")\n",
    "    print(e)"
   ]
  },
  {
   "cell_type": "markdown",
   "metadata": {},
   "source": [
    "### Use automactic commit so that each action is commited without having to call conn.commit() after each command. The ability to rollback and commit transactions is a feature of Relational Databases. "
   ]
  },
  {
   "cell_type": "code",
   "execution_count": 33,
   "metadata": {},
   "outputs": [],
   "source": [
    "conn.set_session(autocommit=True)"
   ]
  },
  {
   "cell_type": "markdown",
   "metadata": {},
   "source": [
    "### Test the Connection and Error Handling Code\n",
    "The try-except block should handle the error: We are trying to do a select * on a table but the table has not been created yet."
   ]
  },
  {
   "cell_type": "code",
   "execution_count": 34,
   "metadata": {},
   "outputs": [
    {
     "name": "stdout",
     "output_type": "stream",
     "text": [
      "relation \"udacity.music_library\" does not exist\n",
      "LINE 1: select * from udacity.music_library\n",
      "                      ^\n",
      "\n"
     ]
    }
   ],
   "source": [
    "try: \n",
    "    cur.execute(\"select * from udacity.music_library\")\n",
    "except psycopg2.Error as e:\n",
    "    print(e)"
   ]
  },
  {
   "cell_type": "markdown",
   "metadata": {},
   "source": [
    "### Create a database to work in "
   ]
  },
  {
   "cell_type": "code",
   "execution_count": 36,
   "metadata": {},
   "outputs": [],
   "source": [
    "try: \n",
    "    cur.execute(\"create database udacity\")\n",
    "except psycopg2.Error as e:\n",
    "    print(e)"
   ]
  },
  {
   "cell_type": "markdown",
   "metadata": {},
   "source": [
    "### Close our connection to the default database, reconnect to the Udacity database, and get a new cursor."
   ]
  },
  {
   "cell_type": "code",
   "execution_count": 37,
   "metadata": {},
   "outputs": [],
   "source": [
    "try: \n",
    "    conn.close()\n",
    "except psycopg2.Error as e:\n",
    "    print(e)\n",
    "  \n",
    "try: \n",
    "    conn = psycopg2.connect(\"host=127.0.0.1 dbname=studentdb user=student password=student\")\n",
    "except psycopg2.Error as e: \n",
    "    print(\"Error: Could not make connection to the Postgres database\")\n",
    "    print(e)\n",
    "    \n",
    "try: \n",
    "    cur = conn.cursor()\n",
    "except psycopg2.Error as e: \n",
    "    print(\"Error: Could not get curser to the Database\")\n",
    "    print(e)\n",
    "\n",
    "conn.set_session(autocommit=True)"
   ]
  },
  {
   "cell_type": "markdown",
   "metadata": {},
   "source": [
    "### We will create a Music Library of albums. Each album has a lot of information we could add to the music library table. We will  start with album name, artist name, year. \n",
    "`Table Name: music_library\n",
    "column 1: Album Name\n",
    "column 2: Artist Name\n",
    "column 3: Year `\n",
    "### Translate this information into a Create Table Statement. \n",
    "\n",
    "Review this document on PostgreSQL datatypes: https://www.postgresql.org/docs/9.5/datatype.html\n"
   ]
  },
  {
   "cell_type": "code",
   "execution_count": 42,
   "metadata": {},
   "outputs": [],
   "source": [
    "try:\n",
    "    cur.execute(\"CREATE TABLE IF NOT EXISTS music_library (album_name varchar, artist_name varchar, year int);\")\n",
    "except psycopg2.Error as e:\n",
    "    print(\"Error: Issue creating table\")\n",
    "    print(e)"
   ]
  },
  {
   "cell_type": "markdown",
   "metadata": {},
   "source": [
    "### No error was found, but lets check to ensure our table was created.  `select count(*)` which should return 0 as no rows have been inserted in the table."
   ]
  },
  {
   "cell_type": "code",
   "execution_count": 45,
   "metadata": {},
   "outputs": [
    {
     "name": "stdout",
     "output_type": "stream",
     "text": [
      "[(0,)]\n"
     ]
    }
   ],
   "source": [
    "try:\n",
    "    cur.execute(\"SELECT COUNT(*) FROM music_library\")\n",
    "except psycopg2.Error as e:\n",
    "    print(\"Error: Issue creating table\")\n",
    "    print(e)\n",
    "print(cur.fetchall())"
   ]
  },
  {
   "cell_type": "markdown",
   "metadata": {},
   "source": [
    "### Insert two rows "
   ]
  },
  {
   "cell_type": "code",
   "execution_count": 46,
   "metadata": {},
   "outputs": [],
   "source": [
    "try:\n",
    "    cur.execute(\"INSERT INTO music_library (album_name, artist_name, year) \\\n",
    "                 VALUES (%s, %s, %s)\",\\\n",
    "                (\"Let It Be\", \"The Beatles\", 1970))\n",
    "except:\n",
    "    print(\"Error: Inserting Rows\")\n",
    "    print(e)\n",
    "    \n",
    "try:\n",
    "    cur.execute(\"INSERT INTO music_library (album_name, artist_name, year) \\\n",
    "                 VALUES (%s, %s, %s)\",\\\n",
    "                (\"Rubber Soul\", \"The Beatles\", 1965))\n",
    "except:\n",
    "    print(\"Error: Inserting Rows\")\n",
    "    print(e)"
   ]
  },
  {
   "cell_type": "markdown",
   "metadata": {},
   "source": [
    "### Validate your data was inserted into the table. \n",
    "The while loop is used for printing the results. If executing queries in the Postgres shell, this would not be required."
   ]
  },
  {
   "cell_type": "markdown",
   "metadata": {},
   "source": [
    "### Note: If you run the insert statement code more than once, you will see duplicates of your data. PostgreSQL allows for duplicates."
   ]
  },
  {
   "cell_type": "code",
   "execution_count": 47,
   "metadata": {},
   "outputs": [
    {
     "name": "stdout",
     "output_type": "stream",
     "text": [
      "('Let It Be', 'The Beatles', 1970)\n",
      "('Rubber Soul', 'The Beatles', 1965)\n"
     ]
    }
   ],
   "source": [
    "try: \n",
    "    cur.execute(\"SELECT * FROM music_library;\")\n",
    "except psycopg2.Error as e: \n",
    "    print(\"Error: select *\")\n",
    "    print (e)\n",
    "\n",
    "row = cur.fetchone()\n",
    "while row:\n",
    "   print(row)\n",
    "   row = cur.fetchone()"
   ]
  },
  {
   "cell_type": "markdown",
   "metadata": {},
   "source": [
    "### Drop the table to avoid duplicates and clean up"
   ]
  },
  {
   "cell_type": "code",
   "execution_count": 48,
   "metadata": {},
   "outputs": [],
   "source": [
    "try: \n",
    "    cur.execute(\"DROP table music_library\")\n",
    "except psycopg2.Error as e: \n",
    "    print(\"Error: Dropping table\")\n",
    "    print (e)"
   ]
  },
  {
   "cell_type": "markdown",
   "metadata": {},
   "source": [
    "###  Close the cursor and connection. "
   ]
  },
  {
   "cell_type": "code",
   "execution_count": 49,
   "metadata": {},
   "outputs": [],
   "source": [
    "cur.close()\n",
    "conn.close()"
   ]
  },
  {
   "cell_type": "markdown",
   "metadata": {},
   "source": [
    "## NoSQL Databases\n",
    "### What is a NoSQL Database\n",
    "\"... has a simpler desing, simpler horizontal scaling and finer control of availabilty. Data structures used are different than those in Relational Database are makee some operators faster.\"\n",
    "\n",
    "* NOSQL = NOT Only SQL' NoSQL and NonRelational are interchangeable terms\n",
    "* Various types of NoSQL databases.\n",
    "### Common Types of NoSQL Databases\n",
    "* Apache Cassandra (Partition Row Store)\n",
    "* MongoDB (Document store)\n",
    "* DynamoDB (Key-Value store)\n",
    "* Apache HBase(Wide Column Store)\n",
    "* Neo4J (Graph Database)\n",
    "\n",
    "### The Basic of Apache Cassandra\n",
    "* Keyspace\n",
    "    * Collection of Tables\n",
    "* Table\n",
    "    * A group of partitions\n",
    "* Rows\n",
    "    * A single item\n",
    "* Partition\n",
    "    * Fundamental unit of access\n",
    "    * Collection of row\n",
    "    * How data is distributed\n",
    "* Primary Key\n",
    "    * Primary Key is made up of a partition key and clustering columns\n",
    "* Columns\n",
    "    * Clustering and Data\n",
    "    * Labeled element\n",
    "### Question 1 of 2\n",
    "True or False: A Keyspace in Apache Cassandra is similar to a schema in PostgreSQL\n",
    "- [ ] True\n",
    "- [x] False\n",
    "\n",
    "### Question 2 of 2\n",
    "Which of these are examples of non-relational databases?\n",
    "- [ ] SQL\n",
    "- [x] Apache Cassandra\n",
    "- [ ] RDBMS\n",
    "- [x] MongoDB"
   ]
  },
  {
   "cell_type": "markdown",
   "metadata": {},
   "source": [
    "## What is Apache Cassandra?\n",
    "\"...**provides scalability** and **high availability** without compromising performance. Linear Scalability and proven **fault-tolerance** on commodity hardware or cloud infrastructure make it the perfect platform for mission-critical data.\"\"\n",
    "\n",
    "* Apache Cassanra uses its own query language CQL.\n",
    "\n",
    "### Common Questions:\n",
    "**What type of companies use Apache Cassandra?**\n",
    "All kinds of companies. For example, Uber uses Apache Cassandra for their entire backend. Netflix uses Apache Cassandra to serve all their videos to customers. Good use cases for NoSQL (and more specifically Apache Cassandra) are :\n",
    "\n",
    "1. Transaction logging (retail, health care)\n",
    "2. Internet of Things (IoT)\n",
    "3. Time series data\n",
    "4. Any workload that is heavy on writes to the database (since Apache Cassandra is optimized for writes).\n",
    "\n",
    "**Would Apache Cassandra be a hindrance for my analytics work? If yes, why?**\n",
    "Yes, if you are trying to do analysis, such as using `GROUP BY` statements. Since Apache Cassandra requires data modeling based on the query you want, you can't do ad-hoc queries. However you can add clustering columns into your data model and create new tables.\n",
    "\n",
    "### Quiz Queston\n",
    "When should you use a NoSQL database?\n",
    "- [x] Large amounts of data\n",
    "- [ ] Need to be able to do aggregations\n",
    "- [x] Need high availabilty\n",
    "- [x] You need to be able to scale out quickly\n",
    "- [ ] Need to be able to join multiple tables"
   ]
  },
  {
   "cell_type": "markdown",
   "metadata": {},
   "source": [
    "## When to use a NoSQL Database\n",
    "* **Need to be able to store different data type formats**: NoSQL was also created to handle different data configurations: structured, semi-structured, and unstructured data. JSON, XML documents can all be handled easily with NoSQL.\n",
    "* **Large amounts of data**: Relational Databases are not distributed databases and because of this they can only scale vertically by adding more storage in the machine itself. NoSQL databases were created to be able to be horizontally scalable. The more servers/systems you add to the database the more data that can be hosted with high availability and low latency (fast reads and writes).\n",
    "* **Need horizontal scalability**: Horizontal scalability is the ability to add more machines or nodes to a system to increase performance and space for data\n",
    "* **Need high throughput**: While ACID transactions bring benefits they also slow down the process of reading and writing data. If you need very fast reads and writes using a relational database may not suit your needs.\n",
    "* **Need a flexible schema**: Flexible schema can allow for columns to be added that do not have to be used by every row, saving disk space.\n",
    "* **Need high availability**: Relational databases have a single point of failure. When that database goes down, a failover to a backup system must happen and takes time."
   ]
  },
  {
   "cell_type": "markdown",
   "metadata": {},
   "source": [
    "## When NOT to use a NoSQL Database?\n",
    "* **When you have a small dataset**: NoSQL databases were made for big datasets not small datasets and while it works it wasn’t created for that.\n",
    "* **When you need ACID Transactions**: If you need a consistent database with ACID transactions, then most NoSQL databases will not be able to serve this need. NoSQL database are eventually consistent and do not provide ACID transactions. However, there are exceptions to it. Some non-relational databases like MongoDB can support ACID transactions.\n",
    "* **When you need the ability to do JOINS across tables**: NoSQL does not allow the ability to do JOINS. This is not allowed as this will result in full table scans.\n",
    "* **If you want to be able to do aggregations and analytics**\n",
    "* **If you have changing business requirements** : Ad-hoc queries are possible but difficult as the data model was done to fix particular queries\n",
    "* **If your queries are not available and you need the flexibility** : You need your queries in advance. If those are not available or you will need to be able to have flexibility on how you query your data you might need to stick with a relational database\n",
    "\n",
    "### Caveats to NoSQL and ACID Transactions\n",
    "\n",
    "There are some NoSQL databases that offer some form of ACID transaction. As of v4.0, MongoDB added multi-document ACID transactions within a single replica set. With their later version, v4.2, they have added multi-document ACID transactions in a sharded/partitioned deployment.\n",
    "\n",
    "* Check out this documentation from [MongoDB on multi-document ACID transactions](https://www.mongodb.com/collateral/mongodb-multi-document-acid-transactions)\n",
    "* Here is another link documenting [MongoDB's ability to handle ACID transactions](https://www.mongodb.com/blog/post/mongodb-multi-document-acid-transactions-general-availability)\n",
    "Another example of a NoSQL database supporting ACID transactions is MarkLogic.\n",
    "\n",
    "* Check out this link from their [blog](https://www.marklogic.com/blog/how-marklogic-supports-acid-transactions/) that offers ACID transactions."
   ]
  },
  {
   "cell_type": "markdown",
   "metadata": {},
   "source": [
    "## Lesson 1 Demo 2: Creating a Table with Apache Cassandra"
   ]
  },
  {
   "cell_type": "markdown",
   "metadata": {},
   "source": [
    "### Walk through the basics of Apache Cassandra:<br><li>Creating a table <li>Inserting rows of data<li>Running a simple SQL query to validate the information. "
   ]
  },
  {
   "cell_type": "markdown",
   "metadata": {},
   "source": [
    "### Use a python wrapper/ python driver called cassandra to run the Apache Cassandra queries. This library should be preinstalled but in the future to install this library you can run this command in a notebook to install locally: \n",
    "`! pip install cassandra-driver`<br>\n",
    "More documentation can be found here:  https://datastax.github.io/python-driver/"
   ]
  },
  {
   "cell_type": "markdown",
   "metadata": {},
   "source": [
    "### Import Apache Cassandra python package"
   ]
  },
  {
   "cell_type": "code",
   "execution_count": null,
   "metadata": {},
   "outputs": [],
   "source": [
    "import cassandra"
   ]
  },
  {
   "cell_type": "markdown",
   "metadata": {},
   "source": [
    "### Create a connection to the database\n",
    "1. Connect to the local instance of Apache Cassandra *['127.0.0.1']*.\n",
    "2. The connection reaches out to the database (*studentdb*) and uses the correct privileges to connect to the database (*user and password = student*).\n",
    "3. Once we get back the cluster object, we need to connect and that will create our session that we will use to execute queries.<BR><BR>\n",
    "    \n",
    "*Note 1:* This block of code will be standard in all notebooks"
   ]
  },
  {
   "cell_type": "code",
   "execution_count": null,
   "metadata": {},
   "outputs": [],
   "source": [
    "from cassandra.cluster import Cluster\n",
    "try: \n",
    "    cluster = Cluster(['127.0.0.1']) #If you have a locally installed Apache Cassandra instance\n",
    "    session = cluster.connect()\n",
    "except Exception as e:\n",
    "    print(e)\n",
    " "
   ]
  },
  {
   "cell_type": "markdown",
   "metadata": {},
   "source": [
    "### Test the Connection and Error Handling Code\n",
    "*Note:* The try-except block should handle the error: We are trying to do a `select *` on a table but the table has not been created yet."
   ]
  },
  {
   "cell_type": "code",
   "execution_count": null,
   "metadata": {},
   "outputs": [],
   "source": [
    "try: \n",
    "    session.execute(\"\"\"select * from music_libary\"\"\")\n",
    "except Exception as e:\n",
    "    print(e)\n",
    " "
   ]
  },
  {
   "cell_type": "markdown",
   "metadata": {},
   "source": [
    "### Create a keyspace to the work in \n",
    "*Note:* We will ignore the Replication Strategy and factor information right now as those concepts are covered in depth in Lesson 3. Remember, this will be the strategy and replication factor on a one node local instance. "
   ]
  },
  {
   "cell_type": "code",
   "execution_count": null,
   "metadata": {},
   "outputs": [],
   "source": [
    "try:\n",
    "    session.execute(\"\"\"\n",
    "    CREATE KEYSPACE IF NOT EXISTS udacity \n",
    "    WITH REPLICATION = \n",
    "    { 'class' : 'SimpleStrategy', 'replication_factor' : 1 }\"\"\"\n",
    ")\n",
    "\n",
    "except Exception as e:\n",
    "    print(e)"
   ]
  },
  {
   "cell_type": "markdown",
   "metadata": {},
   "source": [
    "### Connect to our Keyspace.<br>\n",
    "*Compare this to how a new session in PostgreSQL is created.*"
   ]
  },
  {
   "cell_type": "code",
   "execution_count": null,
   "metadata": {},
   "outputs": [],
   "source": [
    "try:\n",
    "    session.set_keyspace('udacity')\n",
    "except Exception as e:\n",
    "    print(e)"
   ]
  },
  {
   "cell_type": "markdown",
   "metadata": {},
   "source": [
    "### Begin with creating a Music Library of albums. Each album has a lot of information we could add to the music library table. We will  start with album name, artist name, year. "
   ]
  },
  {
   "cell_type": "markdown",
   "metadata": {},
   "source": [
    "### But ...Stop\n",
    "\n",
    "### We are working with Apache Cassandra a NoSQL database. We can't model our data and create our table without more information.\n",
    "\n",
    "### Think about what queries will you be performing on this data?"
   ]
  },
  {
   "cell_type": "markdown",
   "metadata": {},
   "source": [
    "#### We want to be able to get every album that was released in a particular year. \n",
    "`select * from music_library WHERE YEAR=1970`\n",
    "\n",
    "*To do that:* <ol><li> We need to be able to do a WHERE on YEAR. <li>YEAR will become my partition key,<li>artist name will be my clustering column to make each Primary Key unique. <li>**Remember there are no duplicates in Apache Cassandra.**</ol>\n",
    "\n",
    "**Table Name:** music_library<br>\n",
    "**column 1:** Album Name<br>\n",
    "**column 2:** Artist Name<br>\n",
    "**column 3:** Year <br>\n",
    "PRIMARY KEY(year, artist name)\n",
    "\n",
    "\n",
    "### Now to translate this information into a Create Table Statement. \n",
    "More information on Data Types can be found here: https://datastax.github.io/python-driver/<br>\n",
    "*Note:* Again, we will go in depth with these concepts in Lesson 3."
   ]
  },
  {
   "cell_type": "code",
   "execution_count": null,
   "metadata": {},
   "outputs": [],
   "source": [
    "query = \"CREATE TABLE IF NOT EXISTS music_library \"\n",
    "query = query + \"(year int, artist_name text, album_name text, PRIMARY KEY (year, artist_name))\"\n",
    "try:\n",
    "    session.execute(query)\n",
    "except Exception as e:\n",
    "    print(e)\n"
   ]
  },
  {
   "cell_type": "markdown",
   "metadata": {},
   "source": [
    "The query should run smoothly."
   ]
  },
  {
   "cell_type": "markdown",
   "metadata": {},
   "source": [
    "### Insert two rows "
   ]
  },
  {
   "cell_type": "code",
   "execution_count": null,
   "metadata": {},
   "outputs": [],
   "source": [
    "query = \"INSERT INTO music_library (year, artist_name, album_name)\"\n",
    "query = query + \" VALUES (%s, %s, %s)\"\n",
    "\n",
    "try:\n",
    "    session.execute(query, (1970, \"The Beatles\", \"Let it Be\"))\n",
    "except Exception as e:\n",
    "    print(e)\n",
    "    \n",
    "try:\n",
    "    session.execute(query, (1965, \"The Beatles\", \"Rubber Soul\"))\n",
    "except Exception as e:\n",
    "    print(e)"
   ]
  },
  {
   "cell_type": "markdown",
   "metadata": {},
   "source": [
    "### Validate your data was inserted into the table.\n",
    "*Note:* The for loop is used for printing the results. If executing queries in the cqlsh, this would not be required.\n",
    "\n",
    "*Note:* Depending on the version of Apache Cassandra you have installed, this might throw an \"ALLOW FILTERING\" error instead of printing the 2 rows that we just inserted. This is to be expected, as this type of query should not be performed on large datasets, we are only doing this for the sake of the demo."
   ]
  },
  {
   "cell_type": "code",
   "execution_count": null,
   "metadata": {
    "scrolled": true
   },
   "outputs": [],
   "source": [
    "query = 'SELECT * FROM music_library'\n",
    "try:\n",
    "    rows = session.execute(query)\n",
    "except Exception as e:\n",
    "    print(e)\n",
    "    \n",
    "for row in rows:\n",
    "    print (row.year, row.album_name, row.artist_name)"
   ]
  },
  {
   "cell_type": "markdown",
   "metadata": {},
   "source": [
    "### Validate the Data Model with the original query.\n",
    "\n",
    "`select * from music_library WHERE YEAR=1970`"
   ]
  },
  {
   "cell_type": "code",
   "execution_count": null,
   "metadata": {},
   "outputs": [],
   "source": [
    "query = \"select * from music_library WHERE YEAR=1970\"\n",
    "try:\n",
    "    rows = session.execute(query)\n",
    "except Exception as e:\n",
    "    print(e)\n",
    "    \n",
    "for row in rows:\n",
    "    print (row.year, row.album_name, row.artist_name)"
   ]
  },
  {
   "cell_type": "markdown",
   "metadata": {},
   "source": [
    "### Drop the table to avoid duplicates and clean up. "
   ]
  },
  {
   "cell_type": "code",
   "execution_count": null,
   "metadata": {},
   "outputs": [],
   "source": [
    "query = \"drop table music_library\"\n",
    "try:\n",
    "    rows = session.execute(query)\n",
    "except Exception as e:\n",
    "    print(e)\n",
    "    "
   ]
  },
  {
   "cell_type": "markdown",
   "metadata": {},
   "source": [
    "### Close the session and cluster connection"
   ]
  },
  {
   "cell_type": "code",
   "execution_count": null,
   "metadata": {},
   "outputs": [],
   "source": [
    "session.shutdown()\n",
    "cluster.shutdown()"
   ]
  }
 ],
 "metadata": {
  "kernelspec": {
   "display_name": "Python 3",
   "language": "python",
   "name": "python3"
  },
  "language_info": {
   "codemirror_mode": {
    "name": "ipython",
    "version": 3
   },
   "file_extension": ".py",
   "mimetype": "text/x-python",
   "name": "python",
   "nbconvert_exporter": "python",
   "pygments_lexer": "ipython3",
   "version": "3.7.4"
  },
  "toc": {
   "base_numbering": 1,
   "nav_menu": {},
   "number_sections": true,
   "sideBar": true,
   "skip_h1_title": false,
   "title_cell": "Table of Contents",
   "title_sidebar": "Contents",
   "toc_cell": false,
   "toc_position": {},
   "toc_section_display": true,
   "toc_window_display": true
  }
 },
 "nbformat": 4,
 "nbformat_minor": 4
}
